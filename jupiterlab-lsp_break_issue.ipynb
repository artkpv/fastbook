{
 "cells": [
  {
   "cell_type": "code",
   "execution_count": 1,
   "id": "01868af5-dddc-47b8-96c9-9c9d37cc90d8",
   "metadata": {},
   "outputs": [
    {
     "name": "stderr",
     "output_type": "stream",
     "text": [
      "/home/art/.local/lib/python3.10/site-packages/torchvision/io/image.py:13: UserWarning: Failed to load image Python extension: libc10_cuda.so: cannot open shared object file: No such file or directory\n",
      "  warn(f\"Failed to load image Python extension: {e}\")\n"
     ]
    }
   ],
   "source": [
    "# %config Completer.use_jedi = False\n",
    "#hide\n",
    "#!pip install -Uqq fastbook\n",
    "import fastbook\n",
    "from fastai.vision.all import *\n",
    "from fastbook import *\n",
    "import math\n",
    "fastbook.setup_book()\n",
    "\n"
   ]
  },
  {
   "cell_type": "code",
   "execution_count": 2,
   "id": "484c9382-310a-46b2-ae08-962ef4c2af19",
   "metadata": {},
   "outputs": [
    {
     "data": {
      "text/plain": [
       "pandas.core.frame.DataFrame"
      ]
     },
     "execution_count": 2,
     "metadata": {},
     "output_type": "execute_result"
    }
   ],
   "source": [
    "pd.DataFrame"
   ]
  },
  {
   "cell_type": "code",
   "execution_count": 3,
   "id": "16b17a16-df7f-431e-ab41-5cfd1f1aed57",
   "metadata": {},
   "outputs": [
    {
     "data": {
      "text/plain": [
       "<function numpy.array>"
      ]
     },
     "execution_count": 3,
     "metadata": {},
     "output_type": "execute_result"
    }
   ],
   "source": [
    "np.array"
   ]
  },
  {
   "cell_type": "code",
   "execution_count": 2,
   "id": "4b0d3a5c-b559-4aa2-a0b9-13ca385a2a51",
   "metadata": {},
   "outputs": [
    {
     "data": {
      "text/plain": [
       "<module 'fastbook' from '/home/art/.local/lib/python3.10/site-packages/fastbook/__init__.py'>"
      ]
     },
     "execution_count": 2,
     "metadata": {},
     "output_type": "execute_result"
    }
   ],
   "source": [
    "fastbook"
   ]
  },
  {
   "cell_type": "code",
   "execution_count": null,
   "id": "8ff75543-d55c-4aef-a9f9-ad0dd5b4a64b",
   "metadata": {},
   "outputs": [],
   "source": []
  }
 ],
 "metadata": {
  "kernelspec": {
   "display_name": "Python 3 (ipykernel)",
   "language": "python",
   "name": "python3"
  },
  "language_info": {
   "codemirror_mode": {
    "name": "ipython",
    "version": 3
   },
   "file_extension": ".py",
   "mimetype": "text/x-python",
   "name": "python",
   "nbconvert_exporter": "python",
   "pygments_lexer": "ipython3",
   "version": "3.10.4"
  }
 },
 "nbformat": 4,
 "nbformat_minor": 5
}
