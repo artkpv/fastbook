{
 "cells": [
  {
   "cell_type": "code",
   "execution_count": 1,
   "metadata": {
    "colab": {
     "base_uri": "https://localhost:8080/",
     "height": 557
    },
    "executionInfo": {
     "elapsed": 18841,
     "status": "error",
     "timestamp": 1649251873983,
     "user": {
      "displayName": "Artyom K",
      "userId": "12649678934369183118"
     },
     "user_tz": -180
    },
    "id": "xUa7hr6f_oDI",
    "outputId": "c04a2167-870f-43be-fa4f-b4e2f7fb939c"
   },
   "outputs": [],
   "source": [
    "#hide\n",
    "!pip install -Uqq fastbook\n",
    "import fastbook\n",
    "fastbook.setup_book()"
   ]
  },
  {
   "cell_type": "code",
   "execution_count": 2,
   "metadata": {
    "executionInfo": {
     "elapsed": 647,
     "status": "aborted",
     "timestamp": 1649251873557,
     "user": {
      "displayName": "Artyom K",
      "userId": "12649678934369183118"
     },
     "user_tz": -180
    },
    "id": "GJTQq6zq_oDK"
   },
   "outputs": [],
   "source": [
    "#hide\n",
    "from fastai.vision.all import *\n",
    "from fastbook import *\n",
    "\n",
    "matplotlib.rc('image', cmap='Greys')"
   ]
  },
  {
   "cell_type": "markdown",
   "metadata": {
    "id": "5oxOxVwe_oDK"
   },
   "source": [
    "# Under the Hood: Training a Digit Classifier"
   ]
  },
  {
   "cell_type": "markdown",
   "metadata": {
    "id": "WYvzuHR0_oDL"
   },
   "source": [
    "## Pixels: The Foundations of Computer Vision"
   ]
  },
  {
   "cell_type": "markdown",
   "metadata": {
    "id": "gOQFKMrl_oDM"
   },
   "source": [
    "## Sidebar: Tenacity and Deep Learning"
   ]
  },
  {
   "cell_type": "markdown",
   "metadata": {
    "id": "5Tk9W1j4_oDM"
   },
   "source": [
    "## End sidebar"
   ]
  },
  {
   "cell_type": "code",
   "execution_count": 3,
   "metadata": {
    "executionInfo": {
     "elapsed": 648,
     "status": "aborted",
     "timestamp": 1649251873558,
     "user": {
      "displayName": "Artyom K",
      "userId": "12649678934369183118"
     },
     "user_tz": -180
    },
    "id": "YAyeJNH9_oDN"
   },
   "outputs": [],
   "source": [
    "path = untar_data(URLs.MNIST_SAMPLE)"
   ]
  },
  {
   "cell_type": "code",
   "execution_count": 4,
   "metadata": {
    "executionInfo": {
     "elapsed": 648,
     "status": "aborted",
     "timestamp": 1649251873559,
     "user": {
      "displayName": "Artyom K",
      "userId": "12649678934369183118"
     },
     "user_tz": -180
    },
    "id": "3XX4oP1q_oDO"
   },
   "outputs": [],
   "source": [
    "#hide\n",
    "Path.BASE_PATH = path"
   ]
  },
  {
   "cell_type": "code",
   "execution_count": 5,
   "metadata": {
    "executionInfo": {
     "elapsed": 649,
     "status": "aborted",
     "timestamp": 1649251873560,
     "user": {
      "displayName": "Artyom K",
      "userId": "12649678934369183118"
     },
     "user_tz": -180
    },
    "id": "NobSJAqfAdjE"
   },
   "outputs": [
    {
     "data": {
      "text/html": [
       "<h4 id=\"Path.ls\" class=\"doc_header\"><code>Path.ls</code><a href=\"https://github.com/fastai/fastcore/tree/master/fastcore/xtras.py#L313\" class=\"source_link\" style=\"float:right\">[source]</a></h4><blockquote><p><code>Path.ls</code>(<strong><code>n_max</code></strong>=<em><code>None</code></em>, <strong><code>file_type</code></strong>=<em><code>None</code></em>, <strong><code>file_exts</code></strong>=<em><code>None</code></em>)</p>\n",
       "</blockquote>\n",
       "<p>Contents of path as a list</p>\n",
       "<table>\n",
       "<thead><tr>\n",
       "<th></th>\n",
       "<th>Type</th>\n",
       "<th>Default</th>\n",
       "</tr>\n",
       "</thead>\n",
       "<tbody>\n",
       "<tr>\n",
       "<td><strong><code>n_max</code></strong></td>\n",
       "<td></td>\n",
       "<td><code>None</code></td>\n",
       "</tr>\n",
       "<tr>\n",
       "<td><strong><code>file_type</code></strong></td>\n",
       "<td></td>\n",
       "<td><code>None</code></td>\n",
       "</tr>\n",
       "<tr>\n",
       "<td><strong><code>file_exts</code></strong></td>\n",
       "<td></td>\n",
       "<td><code>None</code></td>\n",
       "</tr>\n",
       "</tbody>\n",
       "</table>\n",
       "<p><a href=\"https://fastcore.fast.ai/xtras#Path.ls\" target=\"_blank\" rel=\"noreferrer noopener\">Show in docs</a></p>\n",
       "<style>\n",
       "    table { border-collapse: collapse; border:thin solid #dddddd; margin: 25px 0px; ; }\n",
       "    table tr:first-child { background-color: #FFF}\n",
       "    table thead th { background-color: #eee; color: #000; text-align: center;}\n",
       "    tr, th, td { border: 1px solid #ccc; border-width: 1px 0 0 1px; border-collapse: collapse;\n",
       "    padding: 5px; }\n",
       "    tr:nth-child(even) {background: #eee;}</style>"
      ]
     },
     "metadata": {},
     "output_type": "display_data"
    }
   ],
   "source": [
    "doc(path.ls)"
   ]
  },
  {
   "cell_type": "code",
   "execution_count": 6,
   "metadata": {
    "executionInfo": {
     "elapsed": 650,
     "status": "aborted",
     "timestamp": 1649251873561,
     "user": {
      "displayName": "Artyom K",
      "userId": "12649678934369183118"
     },
     "user_tz": -180
    },
    "id": "G8ERteGa_oDP"
   },
   "outputs": [
    {
     "data": {
      "text/plain": [
       "(#3) [Path('train'),Path('labels.csv'),Path('valid')]"
      ]
     },
     "execution_count": 6,
     "metadata": {},
     "output_type": "execute_result"
    }
   ],
   "source": [
    "path.ls()"
   ]
  },
  {
   "cell_type": "code",
   "execution_count": 7,
   "metadata": {
    "executionInfo": {
     "elapsed": 649,
     "status": "aborted",
     "timestamp": 1649251873561,
     "user": {
      "displayName": "Artyom K",
      "userId": "12649678934369183118"
     },
     "user_tz": -180
    },
    "id": "BsbT4LIl_oDQ"
   },
   "outputs": [
    {
     "data": {
      "text/plain": [
       "(#2) [Path('train/3'),Path('train/7')]"
      ]
     },
     "execution_count": 7,
     "metadata": {},
     "output_type": "execute_result"
    }
   ],
   "source": [
    "(path/'train').ls()"
   ]
  },
  {
   "cell_type": "code",
   "execution_count": 8,
   "metadata": {
    "executionInfo": {
     "elapsed": 650,
     "status": "aborted",
     "timestamp": 1649251873562,
     "user": {
      "displayName": "Artyom K",
      "userId": "12649678934369183118"
     },
     "user_tz": -180
    },
    "id": "6Sb_LUuV_oDQ"
   },
   "outputs": [
    {
     "data": {
      "text/plain": [
       "(#6131) [Path('train/3/10.png'),Path('train/3/10000.png'),Path('train/3/10011.png'),Path('train/3/10031.png'),Path('train/3/10034.png'),Path('train/3/10042.png'),Path('train/3/10052.png'),Path('train/3/1007.png'),Path('train/3/10074.png'),Path('train/3/10091.png')...]"
      ]
     },
     "execution_count": 8,
     "metadata": {},
     "output_type": "execute_result"
    }
   ],
   "source": [
    "threes = (path/'train'/'3').ls().sorted()\n",
    "sevens = (path/'train'/'7').ls().sorted()\n",
    "threes"
   ]
  },
  {
   "cell_type": "code",
   "execution_count": 9,
   "metadata": {
    "executionInfo": {
     "elapsed": 650,
     "status": "aborted",
     "timestamp": 1649251873562,
     "user": {
      "displayName": "Artyom K",
      "userId": "12649678934369183118"
     },
     "user_tz": -180
    },
    "id": "8vr5mKXF_oDR"
   },
   "outputs": [
    {
     "data": {
      "image/png": "[encoded data removed]",
      "text/plain": [
       "<PIL.PngImagePlugin.PngImageFile image mode=L size=28x28 at 0x7F7B40E37ED0>"
      ]
     },
     "execution_count": 9,
     "metadata": {},
     "output_type": "execute_result"
    }
   ],
   "source": [
    "im3_path = threes[44]\n",
    "im3 = Image.open(im3_path)\n",
    "type(im3)\n",
    "im3"
   ]
  },
  {
   "cell_type": "code",
   "execution_count": 10,
   "metadata": {
    "executionInfo": {
     "elapsed": 651,
     "status": "aborted",
     "timestamp": 1649251873563,
     "user": {
      "displayName": "Artyom K",
      "userId": "12649678934369183118"
     },
     "user_tz": -180
    },
    "id": "5Q60Q0vW_oDS"
   },
   "outputs": [
    {
     "data": {
      "text/plain": [
       "array([[  0,   0,   0,   0,  86, 170],\n",
       "       [  0,   0,  57, 255, 170, 170],\n",
       "       [  0,   0,  29,   0,   0,   0],\n",
       "       [  0,   0,   0,   0,   0,   0],\n",
       "       [  0,   0,   0,   0,   0,   0],\n",
       "       [  0,   0,   0,   0,   0,   0]], dtype=uint8)"
      ]
     },
     "execution_count": 10,
     "metadata": {},
     "output_type": "execute_result"
    }
   ],
   "source": [
    "array(im3)[4:10,4:10]"
   ]
  },
  {
   "cell_type": "code",
   "execution_count": 11,
   "metadata": {
    "executionInfo": {
     "elapsed": 650,
     "status": "aborted",
     "timestamp": 1649251873563,
     "user": {
      "displayName": "Artyom K",
      "userId": "12649678934369183118"
     },
     "user_tz": -180
    },
    "id": "_OMlkBqf_oDS"
   },
   "outputs": [
    {
     "data": {
      "text/plain": [
       "tensor([[  0,   0,   0,   0,  86, 170],\n",
       "        [  0,   0,  57, 255, 170, 170],\n",
       "        [  0,   0,  29,   0,   0,   0],\n",
       "        [  0,   0,   0,   0,   0,   0],\n",
       "        [  0,   0,   0,   0,   0,   0],\n",
       "        [  0,   0,   0,   0,   0,   0]], dtype=torch.uint8)"
      ]
     },
     "execution_count": 11,
     "metadata": {},
     "output_type": "execute_result"
    }
   ],
   "source": [
    "tensor(im3)[4:10,4:10]"
   ]
  },
  {
   "cell_type": "code",
   "execution_count": 12,
   "metadata": {
    "executionInfo": {
     "elapsed": 650,
     "status": "aborted",
     "timestamp": 1649251873563,
     "user": {
      "displayName": "Artyom K",
      "userId": "12649678934369183118"
     },
     "user_tz": -180
    },
    "id": "P_FWhn-r_oDS"
   },
   "outputs": [
    {
     "data": {
      "text/html": [
       "<style type=\"text/css\">\n",
       "#T_1b520_row0_col0, #T_1b520_row0_col1, #T_1b520_row0_col2, #T_1b520_row0_col3, #T_1b520_row0_col12, #T_1b520_row0_col13, #T_1b520_row0_col14, #T_1b520_row0_col15, #T_1b520_row0_col16, #T_1b520_row0_col17, #T_1b520_row0_col18, #T_1b520_row0_col19, #T_1b520_row0_col20, #T_1b520_row0_col21, #T_1b520_row0_col22, #T_1b520_row0_col23, #T_1b520_row1_col0, #T_1b520_row1_col1, #T_1b520_row1_col13, #T_1b520_row1_col14, #T_1b520_row1_col15, #T_1b520_row1_col16, #T_1b520_row1_col17, #T_1b520_row1_col18, #T_1b520_row1_col19, #T_1b520_row1_col20, #T_1b520_row1_col21, #T_1b520_row1_col22, #T_1b520_row1_col23, #T_1b520_row2_col0, #T_1b520_row2_col1, #T_1b520_row2_col3, #T_1b520_row2_col4, #T_1b520_row2_col5, #T_1b520_row2_col6, #T_1b520_row2_col7, #T_1b520_row2_col8, #T_1b520_row2_col9, #T_1b520_row2_col10, #T_1b520_row2_col13, #T_1b520_row2_col14, #T_1b520_row2_col15, #T_1b520_row2_col16, #T_1b520_row2_col17, #T_1b520_row2_col18, #T_1b520_row2_col19, #T_1b520_row2_col20, #T_1b520_row2_col21, #T_1b520_row2_col22, #T_1b520_row2_col23, #T_1b520_row3_col0, #T_1b520_row3_col1, #T_1b520_row3_col2, #T_1b520_row3_col3, #T_1b520_row3_col4, #T_1b520_row3_col5, #T_1b520_row3_col6, #T_1b520_row3_col7, #T_1b520_row3_col8, #T_1b520_row3_col9, #T_1b520_row3_col13, #T_1b520_row3_col14, #T_1b520_row3_col15, #T_1b520_row3_col16, #T_1b520_row3_col17, #T_1b520_row3_col18, #T_1b520_row3_col19, #T_1b520_row3_col20, #T_1b520_row3_col21, #T_1b520_row3_col22, #T_1b520_row3_col23, #T_1b520_row4_col0, #T_1b520_row4_col1, #T_1b520_row4_col2, #T_1b520_row4_col3, #T_1b520_row4_col4, #T_1b520_row4_col5, #T_1b520_row4_col6, #T_1b520_row4_col7, #T_1b520_row4_col8, #T_1b520_row4_col9, #T_1b520_row4_col13, #T_1b520_row4_col14, #T_1b520_row4_col15, #T_1b520_row4_col16, #T_1b520_row4_col17, #T_1b520_row4_col18, #T_1b520_row4_col19, #T_1b520_row4_col20, #T_1b520_row4_col21, #T_1b520_row4_col22, #T_1b520_row4_col23, #T_1b520_row5_col0, #T_1b520_row5_col1, #T_1b520_row5_col2, #T_1b520_row5_col3, #T_1b520_row5_col4, #T_1b520_row5_col5, #T_1b520_row5_col6, #T_1b520_row5_col7, #T_1b520_row5_col8, #T_1b520_row5_col12, #T_1b520_row5_col13, #T_1b520_row5_col14, #T_1b520_row5_col15, #T_1b520_row5_col16, #T_1b520_row5_col17, #T_1b520_row5_col18, #T_1b520_row5_col19, #T_1b520_row5_col20, #T_1b520_row5_col21, #T_1b520_row5_col22, #T_1b520_row5_col23, #T_1b520_row6_col0, #T_1b520_row6_col1, #T_1b520_row6_col2, #T_1b520_row6_col3, #T_1b520_row6_col4, #T_1b520_row6_col5, #T_1b520_row6_col6, #T_1b520_row6_col11, #T_1b520_row6_col15, #T_1b520_row6_col16, #T_1b520_row6_col17, #T_1b520_row6_col18, #T_1b520_row6_col19, #T_1b520_row6_col20, #T_1b520_row6_col21, #T_1b520_row6_col22, #T_1b520_row6_col23, #T_1b520_row7_col0, #T_1b520_row7_col1, #T_1b520_row7_col2, #T_1b520_row7_col3, #T_1b520_row7_col4, #T_1b520_row7_col5, #T_1b520_row7_col17, #T_1b520_row7_col18, #T_1b520_row7_col19, #T_1b520_row7_col20, #T_1b520_row7_col21, #T_1b520_row7_col22, #T_1b520_row7_col23, #T_1b520_row8_col0, #T_1b520_row8_col1, #T_1b520_row8_col2, #T_1b520_row8_col3, #T_1b520_row8_col4, #T_1b520_row8_col13, #T_1b520_row8_col18, #T_1b520_row8_col19, #T_1b520_row8_col20, #T_1b520_row8_col21, #T_1b520_row8_col22, #T_1b520_row8_col23, #T_1b520_row9_col0, #T_1b520_row9_col1, #T_1b520_row9_col2, #T_1b520_row9_col9, #T_1b520_row9_col10, #T_1b520_row9_col11, #T_1b520_row9_col12, #T_1b520_row9_col13, #T_1b520_row9_col14, #T_1b520_row9_col18, #T_1b520_row9_col19, #T_1b520_row9_col20, #T_1b520_row9_col21, #T_1b520_row9_col22, #T_1b520_row9_col23, #T_1b520_row10_col0, #T_1b520_row10_col1, #T_1b520_row10_col2, #T_1b520_row10_col7, #T_1b520_row10_col8, #T_1b520_row10_col9, #T_1b520_row10_col10, #T_1b520_row10_col11, #T_1b520_row10_col12, #T_1b520_row10_col13, #T_1b520_row10_col14, #T_1b520_row10_col18, #T_1b520_row10_col19, #T_1b520_row10_col20, #T_1b520_row10_col21, #T_1b520_row10_col22, #T_1b520_row10_col23, #T_1b520_row11_col0, #T_1b520_row11_col1, #T_1b520_row11_col2, #T_1b520_row11_col6, #T_1b520_row11_col7, #T_1b520_row11_col8, #T_1b520_row11_col9, #T_1b520_row11_col10, #T_1b520_row11_col11, #T_1b520_row11_col12, #T_1b520_row11_col13, #T_1b520_row11_col14, #T_1b520_row11_col18, #T_1b520_row11_col19, #T_1b520_row11_col20, #T_1b520_row11_col21, #T_1b520_row11_col22, #T_1b520_row11_col23, #T_1b520_row12_col0, #T_1b520_row12_col1, #T_1b520_row12_col2, #T_1b520_row12_col3, #T_1b520_row12_col4, #T_1b520_row12_col5, #T_1b520_row12_col6, #T_1b520_row12_col7, #T_1b520_row12_col8, #T_1b520_row12_col9, #T_1b520_row12_col10, #T_1b520_row12_col11, #T_1b520_row12_col12, #T_1b520_row12_col13, #T_1b520_row12_col14, #T_1b520_row12_col18, #T_1b520_row12_col19, #T_1b520_row12_col20, #T_1b520_row12_col21, #T_1b520_row12_col22, #T_1b520_row12_col23, #T_1b520_row13_col0, #T_1b520_row13_col1, #T_1b520_row13_col2, #T_1b520_row13_col3, #T_1b520_row13_col4, #T_1b520_row13_col5, #T_1b520_row13_col6, #T_1b520_row13_col7, #T_1b520_row13_col8, #T_1b520_row13_col9, #T_1b520_row13_col10, #T_1b520_row13_col11, #T_1b520_row13_col12, #T_1b520_row13_col13, #T_1b520_row13_col17, #T_1b520_row13_col18, #T_1b520_row13_col19, #T_1b520_row13_col20, #T_1b520_row13_col21, #T_1b520_row13_col22, #T_1b520_row13_col23, #T_1b520_row14_col0, #T_1b520_row14_col1, #T_1b520_row14_col2, #T_1b520_row14_col3, #T_1b520_row14_col4, #T_1b520_row14_col5, #T_1b520_row14_col6, #T_1b520_row14_col7, #T_1b520_row14_col8, #T_1b520_row14_col9, #T_1b520_row14_col10, #T_1b520_row14_col11, #T_1b520_row14_col12, #T_1b520_row14_col13, #T_1b520_row14_col17, #T_1b520_row14_col18, #T_1b520_row14_col19, #T_1b520_row14_col20, #T_1b520_row14_col21, #T_1b520_row14_col22, #T_1b520_row14_col23, #T_1b520_row15_col0, #T_1b520_row15_col1, #T_1b520_row15_col2, #T_1b520_row15_col3, #T_1b520_row15_col4, #T_1b520_row15_col5, #T_1b520_row15_col6, #T_1b520_row15_col7, #T_1b520_row15_col8, #T_1b520_row15_col9, #T_1b520_row15_col10, #T_1b520_row15_col11, #T_1b520_row15_col12, #T_1b520_row15_col16, #T_1b520_row15_col17, #T_1b520_row15_col18, #T_1b520_row15_col19, #T_1b520_row15_col20, #T_1b520_row15_col21, #T_1b520_row15_col22, #T_1b520_row15_col23, #T_1b520_row16_col0, #T_1b520_row16_col1, #T_1b520_row16_col2, #T_1b520_row16_col3, #T_1b520_row16_col7, #T_1b520_row16_col8, #T_1b520_row16_col9, #T_1b520_row16_col10, #T_1b520_row16_col11, #T_1b520_row16_col16, #T_1b520_row16_col17, #T_1b520_row16_col18, #T_1b520_row16_col19, #T_1b520_row16_col20, #T_1b520_row16_col21, #T_1b520_row16_col22, #T_1b520_row16_col23, #T_1b520_row17_col0, #T_1b520_row17_col1, #T_1b520_row17_col2, #T_1b520_row17_col3, #T_1b520_row17_col8, #T_1b520_row17_col9, #T_1b520_row17_col15, #T_1b520_row17_col16, #T_1b520_row17_col17, #T_1b520_row17_col18, #T_1b520_row17_col19, #T_1b520_row17_col20, #T_1b520_row17_col21, #T_1b520_row17_col22, #T_1b520_row17_col23, #T_1b520_row18_col0, #T_1b520_row18_col1, #T_1b520_row18_col2, #T_1b520_row18_col3, #T_1b520_row18_col14, #T_1b520_row18_col15, #T_1b520_row18_col16, #T_1b520_row18_col17, #T_1b520_row18_col18, #T_1b520_row18_col19, #T_1b520_row18_col20, #T_1b520_row18_col21, #T_1b520_row18_col22, #T_1b520_row18_col23, #T_1b520_row19_col0, #T_1b520_row19_col1, #T_1b520_row19_col2, #T_1b520_row19_col3, #T_1b520_row19_col4, #T_1b520_row19_col5, #T_1b520_row19_col13, #T_1b520_row19_col14, #T_1b520_row19_col15, #T_1b520_row19_col16, #T_1b520_row19_col17, #T_1b520_row19_col18, #T_1b520_row19_col19, #T_1b520_row19_col20, #T_1b520_row19_col21, #T_1b520_row19_col22, #T_1b520_row19_col23, #T_1b520_row20_col0, #T_1b520_row20_col1, #T_1b520_row20_col2, #T_1b520_row20_col3, #T_1b520_row20_col4, #T_1b520_row20_col5, #T_1b520_row20_col6, #T_1b520_row20_col7, #T_1b520_row20_col8, #T_1b520_row20_col9, #T_1b520_row20_col10, #T_1b520_row20_col11, #T_1b520_row20_col12, #T_1b520_row20_col13, #T_1b520_row20_col14, #T_1b520_row20_col15, #T_1b520_row20_col16, #T_1b520_row20_col17, #T_1b520_row20_col18, #T_1b520_row20_col19, #T_1b520_row20_col20, #T_1b520_row20_col21, #T_1b520_row20_col22, #T_1b520_row20_col23, #T_1b520_row21_col0, #T_1b520_row21_col1, #T_1b520_row21_col2, #T_1b520_row21_col3, #T_1b520_row21_col4, #T_1b520_row21_col5, #T_1b520_row21_col6, #T_1b520_row21_col7, #T_1b520_row21_col8, #T_1b520_row21_col9, #T_1b520_row21_col10, #T_1b520_row21_col11, #T_1b520_row21_col12, #T_1b520_row21_col13, #T_1b520_row21_col14, #T_1b520_row21_col15, #T_1b520_row21_col16, #T_1b520_row21_col17, #T_1b520_row21_col18, #T_1b520_row21_col19, #T_1b520_row21_col20, #T_1b520_row21_col21, #T_1b520_row21_col22, #T_1b520_row21_col23, #T_1b520_row22_col0, #T_1b520_row22_col1, #T_1b520_row22_col2, #T_1b520_row22_col3, #T_1b520_row22_col4, #T_1b520_row22_col5, #T_1b520_row22_col6, #T_1b520_row22_col7, #T_1b520_row22_col8, #T_1b520_row22_col9, #T_1b520_row22_col10, #T_1b520_row22_col11, #T_1b520_row22_col12, #T_1b520_row22_col13, #T_1b520_row22_col14, #T_1b520_row22_col15, #T_1b520_row22_col16, #T_1b520_row22_col17, #T_1b520_row22_col18, #T_1b520_row22_col19, #T_1b520_row22_col20, #T_1b520_row22_col21, #T_1b520_row22_col22, #T_1b520_row22_col23, #T_1b520_row23_col0, #T_1b520_row23_col1, #T_1b520_row23_col2, #T_1b520_row23_col3, #T_1b520_row23_col4, #T_1b520_row23_col5, #T_1b520_row23_col6, #T_1b520_row23_col7, #T_1b520_row23_col8, #T_1b520_row23_col9, #T_1b520_row23_col10, #T_1b520_row23_col11, #T_1b520_row23_col12, #T_1b520_row23_col13, #T_1b520_row23_col14, #T_1b520_row23_col15, #T_1b520_row23_col16, #T_1b520_row23_col17, #T_1b520_row23_col18, #T_1b520_row23_col19, #T_1b520_row23_col20, #T_1b520_row23_col21, #T_1b520_row23_col22, #T_1b520_row23_col23 {\n",
       "  font-size: 6pt;\n",
       "  background-color: #ffffff;\n",
       "  color: #000000;\n",
       "}\n",
       "#T_1b520_row0_col4, #T_1b520_row1_col7, #T_1b520_row1_col9, #T_1b520_row6_col13, #T_1b520_row8_col5, #T_1b520_row8_col11, #T_1b520_row8_col17, #T_1b520_row10_col6, #T_1b520_row10_col15, #T_1b520_row11_col4, #T_1b520_row11_col15, #T_1b520_row12_col17, #T_1b520_row14_col16, #T_1b520_row16_col4 {\n",
       "  font-size: 6pt;\n",
       "  background-color: #c5c5c5;\n",
       "  color: #000000;\n",
       "}\n",
       "#T_1b520_row0_col5, #T_1b520_row0_col6, #T_1b520_row0_col10, #T_1b520_row1_col4, #T_1b520_row1_col5, #T_1b520_row1_col10, #T_1b520_row4_col10, #T_1b520_row9_col4, #T_1b520_row12_col15, #T_1b520_row14_col14, #T_1b520_row15_col15, #T_1b520_row17_col4, #T_1b520_row17_col13 {\n",
       "  font-size: 6pt;\n",
       "  background-color: #686868;\n",
       "  color: #f1f1f1;\n",
       "}\n",
       "#T_1b520_row0_col7, #T_1b520_row2_col12, #T_1b520_row7_col7, #T_1b520_row8_col6, #T_1b520_row8_col9, #T_1b520_row8_col16, #T_1b520_row10_col5, #T_1b520_row13_col15 {\n",
       "  font-size: 6pt;\n",
       "  background-color: #222222;\n",
       "  color: #f1f1f1;\n",
       "}\n",
       "#T_1b520_row0_col8, #T_1b520_row0_col9, #T_1b520_row1_col2, #T_1b520_row1_col3, #T_1b520_row1_col11, #T_1b520_row2_col11, #T_1b520_row3_col11, #T_1b520_row4_col11, #T_1b520_row5_col10, #T_1b520_row6_col9, #T_1b520_row7_col8, #T_1b520_row7_col9, #T_1b520_row7_col10, #T_1b520_row7_col11, #T_1b520_row7_col12, #T_1b520_row7_col13, #T_1b520_row7_col14, #T_1b520_row8_col7, #T_1b520_row8_col8, #T_1b520_row8_col15, #T_1b520_row9_col5, #T_1b520_row9_col6, #T_1b520_row9_col16, #T_1b520_row9_col17, #T_1b520_row10_col4, #T_1b520_row10_col16, #T_1b520_row10_col17, #T_1b520_row11_col16, #T_1b520_row11_col17, #T_1b520_row12_col16, #T_1b520_row14_col15, #T_1b520_row15_col14, #T_1b520_row16_col13, #T_1b520_row17_col5, #T_1b520_row17_col12, #T_1b520_row18_col6, #T_1b520_row18_col7, #T_1b520_row18_col8, #T_1b520_row18_col9, #T_1b520_row18_col10, #T_1b520_row18_col11, #T_1b520_row19_col8, #T_1b520_row19_col9 {\n",
       "  font-size: 6pt;\n",
       "  background-color: #000000;\n",
       "  color: #f1f1f1;\n",
       "}\n",
       "#T_1b520_row0_col11, #T_1b520_row1_col6, #T_1b520_row4_col12, #T_1b520_row11_col3, #T_1b520_row13_col16, #T_1b520_row16_col5, #T_1b520_row16_col12, #T_1b520_row19_col6 {\n",
       "  font-size: 6pt;\n",
       "  background-color: #a7a7a7;\n",
       "  color: #f1f1f1;\n",
       "}\n",
       "#T_1b520_row1_col8, #T_1b520_row6_col7, #T_1b520_row6_col14, #T_1b520_row9_col3, #T_1b520_row9_col8, #T_1b520_row11_col5, #T_1b520_row13_col14, #T_1b520_row16_col6, #T_1b520_row16_col15, #T_1b520_row17_col14, #T_1b520_row18_col4, #T_1b520_row18_col13, #T_1b520_row19_col12 {\n",
       "  font-size: 6pt;\n",
       "  background-color: #f1f1f1;\n",
       "  color: #000000;\n",
       "}\n",
       "#T_1b520_row1_col12, #T_1b520_row5_col11, #T_1b520_row8_col10, #T_1b520_row9_col15, #T_1b520_row15_col13, #T_1b520_row17_col11, #T_1b520_row19_col11 {\n",
       "  font-size: 6pt;\n",
       "  background-color: #878787;\n",
       "  color: #f1f1f1;\n",
       "}\n",
       "#T_1b520_row2_col2 {\n",
       "  font-size: 6pt;\n",
       "  background-color: #939393;\n",
       "  color: #f1f1f1;\n",
       "}\n",
       "#T_1b520_row3_col10, #T_1b520_row6_col12, #T_1b520_row7_col6, #T_1b520_row7_col16, #T_1b520_row8_col12, #T_1b520_row8_col14, #T_1b520_row17_col7, #T_1b520_row17_col10 {\n",
       "  font-size: 6pt;\n",
       "  background-color: #dedede;\n",
       "  color: #000000;\n",
       "}\n",
       "#T_1b520_row3_col12, #T_1b520_row5_col9, #T_1b520_row6_col8, #T_1b520_row6_col10, #T_1b520_row7_col15, #T_1b520_row9_col7, #T_1b520_row10_col3, #T_1b520_row16_col14, #T_1b520_row17_col6, #T_1b520_row18_col5, #T_1b520_row18_col12, #T_1b520_row19_col7, #T_1b520_row19_col10 {\n",
       "  font-size: 6pt;\n",
       "  background-color: #484848;\n",
       "  color: #f1f1f1;\n",
       "}\n",
       "</style>\n",
       "<table id=\"T_1b520_\">\n",
       "  <thead>\n",
       "    <tr>\n",
       "      <th class=\"blank level0\" >&nbsp;</th>\n",
       "      <th class=\"col_heading level0 col0\" >0</th>\n",
       "      <th class=\"col_heading level0 col1\" >1</th>\n",
       "      <th class=\"col_heading level0 col2\" >2</th>\n",
       "      <th class=\"col_heading level0 col3\" >3</th>\n",
       "      <th class=\"col_heading level0 col4\" >4</th>\n",
       "      <th class=\"col_heading level0 col5\" >5</th>\n",
       "      <th class=\"col_heading level0 col6\" >6</th>\n",
       "      <th class=\"col_heading level0 col7\" >7</th>\n",
       "      <th class=\"col_heading level0 col8\" >8</th>\n",
       "      <th class=\"col_heading level0 col9\" >9</th>\n",
       "      <th class=\"col_heading level0 col10\" >10</th>\n",
       "      <th class=\"col_heading level0 col11\" >11</th>\n",
       "      <th class=\"col_heading level0 col12\" >12</th>\n",
       "      <th class=\"col_heading level0 col13\" >13</th>\n",
       "      <th class=\"col_heading level0 col14\" >14</th>\n",
       "      <th class=\"col_heading level0 col15\" >15</th>\n",
       "      <th class=\"col_heading level0 col16\" >16</th>\n",
       "      <th class=\"col_heading level0 col17\" >17</th>\n",
       "      <th class=\"col_heading level0 col18\" >18</th>\n",
       "      <th class=\"col_heading level0 col19\" >19</th>\n",
       "      <th class=\"col_heading level0 col20\" >20</th>\n",
       "      <th class=\"col_heading level0 col21\" >21</th>\n",
       "      <th class=\"col_heading level0 col22\" >22</th>\n",
       "      <th class=\"col_heading level0 col23\" >23</th>\n",
       "    </tr>\n",
       "  </thead>\n",
       "  <tbody>\n",
       "    <tr>\n",
       "      <th id=\"T_1b520_level0_row0\" class=\"row_heading level0 row0\" >0</th>\n",
       "      <td id=\"T_1b520_row0_col0\" class=\"data row0 col0\" >0</td>\n",
       "      <td id=\"T_1b520_row0_col1\" class=\"data row0 col1\" >0</td>\n",
       "      <td id=\"T_1b520_row0_col2\" class=\"data row0 col2\" >0</td>\n",
       "      <td id=\"T_1b520_row0_col3\" class=\"data row0 col3\" >0</td>\n",
       "      <td id=\"T_1b520_row0_col4\" class=\"data row0 col4\" >86</td>\n",
       "      <td id=\"T_1b520_row0_col5\" class=\"data row0 col5\" >170</td>\n",
       "      <td id=\"T_1b520_row0_col6\" class=\"data row0 col6\" >170</td>\n",
       "      <td id=\"T_1b520_row0_col7\" class=\"data row0 col7\" >226</td>\n",
       "      <td id=\"T_1b520_row0_col8\" class=\"data row0 col8\" >255</td>\n",
       "      <td id=\"T_1b520_row0_col9\" class=\"data row0 col9\" >255</td>\n",
       "      <td id=\"T_1b520_row0_col10\" class=\"data row0 col10\" >170</td>\n",
       "      <td id=\"T_1b520_row0_col11\" class=\"data row0 col11\" >114</td>\n",
       "      <td id=\"T_1b520_row0_col12\" class=\"data row0 col12\" >0</td>\n",
       "      <td id=\"T_1b520_row0_col13\" class=\"data row0 col13\" >0</td>\n",
       "      <td id=\"T_1b520_row0_col14\" class=\"data row0 col14\" >0</td>\n",
       "      <td id=\"T_1b520_row0_col15\" class=\"data row0 col15\" >0</td>\n",
       "      <td id=\"T_1b520_row0_col16\" class=\"data row0 col16\" >0</td>\n",
       "      <td id=\"T_1b520_row0_col17\" class=\"data row0 col17\" >0</td>\n",
       "      <td id=\"T_1b520_row0_col18\" class=\"data row0 col18\" >0</td>\n",
       "      <td id=\"T_1b520_row0_col19\" class=\"data row0 col19\" >0</td>\n",
       "      <td id=\"T_1b520_row0_col20\" class=\"data row0 col20\" >0</td>\n",
       "      <td id=\"T_1b520_row0_col21\" class=\"data row0 col21\" >0</td>\n",
       "      <td id=\"T_1b520_row0_col22\" class=\"data row0 col22\" >0</td>\n",
       "      <td id=\"T_1b520_row0_col23\" class=\"data row0 col23\" >0</td>\n",
       "    </tr>\n",
       "    <tr>\n",
       "      <th id=\"T_1b520_level0_row1\" class=\"row_heading level0 row1\" >1</th>\n",
       "      <td id=\"T_1b520_row1_col0\" class=\"data row1 col0\" >0</td>\n",
       "      <td id=\"T_1b520_row1_col1\" class=\"data row1 col1\" >0</td>\n",
       "      <td id=\"T_1b520_row1_col2\" class=\"data row1 col2\" >57</td>\n",
       "      <td id=\"T_1b520_row1_col3\" class=\"data row1 col3\" >255</td>\n",
       "      <td id=\"T_1b520_row1_col4\" class=\"data row1 col4\" >170</td>\n",
       "      <td id=\"T_1b520_row1_col5\" class=\"data row1 col5\" >170</td>\n",
       "      <td id=\"T_1b520_row1_col6\" class=\"data row1 col6\" >114</td>\n",
       "      <td id=\"T_1b520_row1_col7\" class=\"data row1 col7\" >86</td>\n",
       "      <td id=\"T_1b520_row1_col8\" class=\"data row1 col8\" >29</td>\n",
       "      <td id=\"T_1b520_row1_col9\" class=\"data row1 col9\" >86</td>\n",
       "      <td id=\"T_1b520_row1_col10\" class=\"data row1 col10\" >170</td>\n",
       "      <td id=\"T_1b520_row1_col11\" class=\"data row1 col11\" >255</td>\n",
       "      <td id=\"T_1b520_row1_col12\" class=\"data row1 col12\" >141</td>\n",
       "      <td id=\"T_1b520_row1_col13\" class=\"data row1 col13\" >0</td>\n",
       "      <td id=\"T_1b520_row1_col14\" class=\"data row1 col14\" >0</td>\n",
       "      <td id=\"T_1b520_row1_col15\" class=\"data row1 col15\" >0</td>\n",
       "      <td id=\"T_1b520_row1_col16\" class=\"data row1 col16\" >0</td>\n",
       "      <td id=\"T_1b520_row1_col17\" class=\"data row1 col17\" >0</td>\n",
       "      <td id=\"T_1b520_row1_col18\" class=\"data row1 col18\" >0</td>\n",
       "      <td id=\"T_1b520_row1_col19\" class=\"data row1 col19\" >0</td>\n",
       "      <td id=\"T_1b520_row1_col20\" class=\"data row1 col20\" >0</td>\n",
       "      <td id=\"T_1b520_row1_col21\" class=\"data row1 col21\" >0</td>\n",
       "      <td id=\"T_1b520_row1_col22\" class=\"data row1 col22\" >0</td>\n",
       "      <td id=\"T_1b520_row1_col23\" class=\"data row1 col23\" >0</td>\n",
       "    </tr>\n",
       "    <tr>\n",
       "      <th id=\"T_1b520_level0_row2\" class=\"row_heading level0 row2\" >2</th>\n",
       "      <td id=\"T_1b520_row2_col0\" class=\"data row2 col0\" >0</td>\n",
       "      <td id=\"T_1b520_row2_col1\" class=\"data row2 col1\" >0</td>\n",
       "      <td id=\"T_1b520_row2_col2\" class=\"data row2 col2\" >29</td>\n",
       "      <td id=\"T_1b520_row2_col3\" class=\"data row2 col3\" >0</td>\n",
       "      <td id=\"T_1b520_row2_col4\" class=\"data row2 col4\" >0</td>\n",
       "      <td id=\"T_1b520_row2_col5\" class=\"data row2 col5\" >0</td>\n",
       "      <td id=\"T_1b520_row2_col6\" class=\"data row2 col6\" >0</td>\n",
       "      <td id=\"T_1b520_row2_col7\" class=\"data row2 col7\" >0</td>\n",
       "      <td id=\"T_1b520_row2_col8\" class=\"data row2 col8\" >0</td>\n",
       "      <td id=\"T_1b520_row2_col9\" class=\"data row2 col9\" >0</td>\n",
       "      <td id=\"T_1b520_row2_col10\" class=\"data row2 col10\" >0</td>\n",
       "      <td id=\"T_1b520_row2_col11\" class=\"data row2 col11\" >255</td>\n",
       "      <td id=\"T_1b520_row2_col12\" class=\"data row2 col12\" >226</td>\n",
       "      <td id=\"T_1b520_row2_col13\" class=\"data row2 col13\" >0</td>\n",
       "      <td id=\"T_1b520_row2_col14\" class=\"data row2 col14\" >0</td>\n",
       "      <td id=\"T_1b520_row2_col15\" class=\"data row2 col15\" >0</td>\n",
       "      <td id=\"T_1b520_row2_col16\" class=\"data row2 col16\" >0</td>\n",
       "      <td id=\"T_1b520_row2_col17\" class=\"data row2 col17\" >0</td>\n",
       "      <td id=\"T_1b520_row2_col18\" class=\"data row2 col18\" >0</td>\n",
       "      <td id=\"T_1b520_row2_col19\" class=\"data row2 col19\" >0</td>\n",
       "      <td id=\"T_1b520_row2_col20\" class=\"data row2 col20\" >0</td>\n",
       "      <td id=\"T_1b520_row2_col21\" class=\"data row2 col21\" >0</td>\n",
       "      <td id=\"T_1b520_row2_col22\" class=\"data row2 col22\" >0</td>\n",
       "      <td id=\"T_1b520_row2_col23\" class=\"data row2 col23\" >0</td>\n",
       "    </tr>\n",
       "    <tr>\n",
       "      <th id=\"T_1b520_level0_row3\" class=\"row_heading level0 row3\" >3</th>\n",
       "      <td id=\"T_1b520_row3_col0\" class=\"data row3 col0\" >0</td>\n",
       "      <td id=\"T_1b520_row3_col1\" class=\"data row3 col1\" >0</td>\n",
       "      <td id=\"T_1b520_row3_col2\" class=\"data row3 col2\" >0</td>\n",
       "      <td id=\"T_1b520_row3_col3\" class=\"data row3 col3\" >0</td>\n",
       "      <td id=\"T_1b520_row3_col4\" class=\"data row3 col4\" >0</td>\n",
       "      <td id=\"T_1b520_row3_col5\" class=\"data row3 col5\" >0</td>\n",
       "      <td id=\"T_1b520_row3_col6\" class=\"data row3 col6\" >0</td>\n",
       "      <td id=\"T_1b520_row3_col7\" class=\"data row3 col7\" >0</td>\n",
       "      <td id=\"T_1b520_row3_col8\" class=\"data row3 col8\" >0</td>\n",
       "      <td id=\"T_1b520_row3_col9\" class=\"data row3 col9\" >0</td>\n",
       "      <td id=\"T_1b520_row3_col10\" class=\"data row3 col10\" >57</td>\n",
       "      <td id=\"T_1b520_row3_col11\" class=\"data row3 col11\" >255</td>\n",
       "      <td id=\"T_1b520_row3_col12\" class=\"data row3 col12\" >198</td>\n",
       "      <td id=\"T_1b520_row3_col13\" class=\"data row3 col13\" >0</td>\n",
       "      <td id=\"T_1b520_row3_col14\" class=\"data row3 col14\" >0</td>\n",
       "      <td id=\"T_1b520_row3_col15\" class=\"data row3 col15\" >0</td>\n",
       "      <td id=\"T_1b520_row3_col16\" class=\"data row3 col16\" >0</td>\n",
       "      <td id=\"T_1b520_row3_col17\" class=\"data row3 col17\" >0</td>\n",
       "      <td id=\"T_1b520_row3_col18\" class=\"data row3 col18\" >0</td>\n",
       "      <td id=\"T_1b520_row3_col19\" class=\"data row3 col19\" >0</td>\n",
       "      <td id=\"T_1b520_row3_col20\" class=\"data row3 col20\" >0</td>\n",
       "      <td id=\"T_1b520_row3_col21\" class=\"data row3 col21\" >0</td>\n",
       "      <td id=\"T_1b520_row3_col22\" class=\"data row3 col22\" >0</td>\n",
       "      <td id=\"T_1b520_row3_col23\" class=\"data row3 col23\" >0</td>\n",
       "    </tr>\n",
       "    <tr>\n",
       "      <th id=\"T_1b520_level0_row4\" class=\"row_heading level0 row4\" >4</th>\n",
       "      <td id=\"T_1b520_row4_col0\" class=\"data row4 col0\" >0</td>\n",
       "      <td id=\"T_1b520_row4_col1\" class=\"data row4 col1\" >0</td>\n",
       "      <td id=\"T_1b520_row4_col2\" class=\"data row4 col2\" >0</td>\n",
       "      <td id=\"T_1b520_row4_col3\" class=\"data row4 col3\" >0</td>\n",
       "      <td id=\"T_1b520_row4_col4\" class=\"data row4 col4\" >0</td>\n",
       "      <td id=\"T_1b520_row4_col5\" class=\"data row4 col5\" >0</td>\n",
       "      <td id=\"T_1b520_row4_col6\" class=\"data row4 col6\" >0</td>\n",
       "      <td id=\"T_1b520_row4_col7\" class=\"data row4 col7\" >0</td>\n",
       "      <td id=\"T_1b520_row4_col8\" class=\"data row4 col8\" >0</td>\n",
       "      <td id=\"T_1b520_row4_col9\" class=\"data row4 col9\" >0</td>\n",
       "      <td id=\"T_1b520_row4_col10\" class=\"data row4 col10\" >170</td>\n",
       "      <td id=\"T_1b520_row4_col11\" class=\"data row4 col11\" >255</td>\n",
       "      <td id=\"T_1b520_row4_col12\" class=\"data row4 col12\" >114</td>\n",
       "      <td id=\"T_1b520_row4_col13\" class=\"data row4 col13\" >0</td>\n",
       "      <td id=\"T_1b520_row4_col14\" class=\"data row4 col14\" >0</td>\n",
       "      <td id=\"T_1b520_row4_col15\" class=\"data row4 col15\" >0</td>\n",
       "      <td id=\"T_1b520_row4_col16\" class=\"data row4 col16\" >0</td>\n",
       "      <td id=\"T_1b520_row4_col17\" class=\"data row4 col17\" >0</td>\n",
       "      <td id=\"T_1b520_row4_col18\" class=\"data row4 col18\" >0</td>\n",
       "      <td id=\"T_1b520_row4_col19\" class=\"data row4 col19\" >0</td>\n",
       "      <td id=\"T_1b520_row4_col20\" class=\"data row4 col20\" >0</td>\n",
       "      <td id=\"T_1b520_row4_col21\" class=\"data row4 col21\" >0</td>\n",
       "      <td id=\"T_1b520_row4_col22\" class=\"data row4 col22\" >0</td>\n",
       "      <td id=\"T_1b520_row4_col23\" class=\"data row4 col23\" >0</td>\n",
       "    </tr>\n",
       "    <tr>\n",
       "      <th id=\"T_1b520_level0_row5\" class=\"row_heading level0 row5\" >5</th>\n",
       "      <td id=\"T_1b520_row5_col0\" class=\"data row5 col0\" >0</td>\n",
       "      <td id=\"T_1b520_row5_col1\" class=\"data row5 col1\" >0</td>\n",
       "      <td id=\"T_1b520_row5_col2\" class=\"data row5 col2\" >0</td>\n",
       "      <td id=\"T_1b520_row5_col3\" class=\"data row5 col3\" >0</td>\n",
       "      <td id=\"T_1b520_row5_col4\" class=\"data row5 col4\" >0</td>\n",
       "      <td id=\"T_1b520_row5_col5\" class=\"data row5 col5\" >0</td>\n",
       "      <td id=\"T_1b520_row5_col6\" class=\"data row5 col6\" >0</td>\n",
       "      <td id=\"T_1b520_row5_col7\" class=\"data row5 col7\" >0</td>\n",
       "      <td id=\"T_1b520_row5_col8\" class=\"data row5 col8\" >0</td>\n",
       "      <td id=\"T_1b520_row5_col9\" class=\"data row5 col9\" >198</td>\n",
       "      <td id=\"T_1b520_row5_col10\" class=\"data row5 col10\" >255</td>\n",
       "      <td id=\"T_1b520_row5_col11\" class=\"data row5 col11\" >141</td>\n",
       "      <td id=\"T_1b520_row5_col12\" class=\"data row5 col12\" >0</td>\n",
       "      <td id=\"T_1b520_row5_col13\" class=\"data row5 col13\" >0</td>\n",
       "      <td id=\"T_1b520_row5_col14\" class=\"data row5 col14\" >0</td>\n",
       "      <td id=\"T_1b520_row5_col15\" class=\"data row5 col15\" >0</td>\n",
       "      <td id=\"T_1b520_row5_col16\" class=\"data row5 col16\" >0</td>\n",
       "      <td id=\"T_1b520_row5_col17\" class=\"data row5 col17\" >0</td>\n",
       "      <td id=\"T_1b520_row5_col18\" class=\"data row5 col18\" >0</td>\n",
       "      <td id=\"T_1b520_row5_col19\" class=\"data row5 col19\" >0</td>\n",
       "      <td id=\"T_1b520_row5_col20\" class=\"data row5 col20\" >0</td>\n",
       "      <td id=\"T_1b520_row5_col21\" class=\"data row5 col21\" >0</td>\n",
       "      <td id=\"T_1b520_row5_col22\" class=\"data row5 col22\" >0</td>\n",
       "      <td id=\"T_1b520_row5_col23\" class=\"data row5 col23\" >0</td>\n",
       "    </tr>\n",
       "    <tr>\n",
       "      <th id=\"T_1b520_level0_row6\" class=\"row_heading level0 row6\" >6</th>\n",
       "      <td id=\"T_1b520_row6_col0\" class=\"data row6 col0\" >0</td>\n",
       "      <td id=\"T_1b520_row6_col1\" class=\"data row6 col1\" >0</td>\n",
       "      <td id=\"T_1b520_row6_col2\" class=\"data row6 col2\" >0</td>\n",
       "      <td id=\"T_1b520_row6_col3\" class=\"data row6 col3\" >0</td>\n",
       "      <td id=\"T_1b520_row6_col4\" class=\"data row6 col4\" >0</td>\n",
       "      <td id=\"T_1b520_row6_col5\" class=\"data row6 col5\" >0</td>\n",
       "      <td id=\"T_1b520_row6_col6\" class=\"data row6 col6\" >0</td>\n",
       "      <td id=\"T_1b520_row6_col7\" class=\"data row6 col7\" >29</td>\n",
       "      <td id=\"T_1b520_row6_col8\" class=\"data row6 col8\" >198</td>\n",
       "      <td id=\"T_1b520_row6_col9\" class=\"data row6 col9\" >255</td>\n",
       "      <td id=\"T_1b520_row6_col10\" class=\"data row6 col10\" >198</td>\n",
       "      <td id=\"T_1b520_row6_col11\" class=\"data row6 col11\" >0</td>\n",
       "      <td id=\"T_1b520_row6_col12\" class=\"data row6 col12\" >57</td>\n",
       "      <td id=\"T_1b520_row6_col13\" class=\"data row6 col13\" >86</td>\n",
       "      <td id=\"T_1b520_row6_col14\" class=\"data row6 col14\" >29</td>\n",
       "      <td id=\"T_1b520_row6_col15\" class=\"data row6 col15\" >0</td>\n",
       "      <td id=\"T_1b520_row6_col16\" class=\"data row6 col16\" >0</td>\n",
       "      <td id=\"T_1b520_row6_col17\" class=\"data row6 col17\" >0</td>\n",
       "      <td id=\"T_1b520_row6_col18\" class=\"data row6 col18\" >0</td>\n",
       "      <td id=\"T_1b520_row6_col19\" class=\"data row6 col19\" >0</td>\n",
       "      <td id=\"T_1b520_row6_col20\" class=\"data row6 col20\" >0</td>\n",
       "      <td id=\"T_1b520_row6_col21\" class=\"data row6 col21\" >0</td>\n",
       "      <td id=\"T_1b520_row6_col22\" class=\"data row6 col22\" >0</td>\n",
       "      <td id=\"T_1b520_row6_col23\" class=\"data row6 col23\" >0</td>\n",
       "    </tr>\n",
       "    <tr>\n",
       "      <th id=\"T_1b520_level0_row7\" class=\"row_heading level0 row7\" >7</th>\n",
       "      <td id=\"T_1b520_row7_col0\" class=\"data row7 col0\" >0</td>\n",
       "      <td id=\"T_1b520_row7_col1\" class=\"data row7 col1\" >0</td>\n",
       "      <td id=\"T_1b520_row7_col2\" class=\"data row7 col2\" >0</td>\n",
       "      <td id=\"T_1b520_row7_col3\" class=\"data row7 col3\" >0</td>\n",
       "      <td id=\"T_1b520_row7_col4\" class=\"data row7 col4\" >0</td>\n",
       "      <td id=\"T_1b520_row7_col5\" class=\"data row7 col5\" >0</td>\n",
       "      <td id=\"T_1b520_row7_col6\" class=\"data row7 col6\" >57</td>\n",
       "      <td id=\"T_1b520_row7_col7\" class=\"data row7 col7\" >226</td>\n",
       "      <td id=\"T_1b520_row7_col8\" class=\"data row7 col8\" >255</td>\n",
       "      <td id=\"T_1b520_row7_col9\" class=\"data row7 col9\" >255</td>\n",
       "      <td id=\"T_1b520_row7_col10\" class=\"data row7 col10\" >255</td>\n",
       "      <td id=\"T_1b520_row7_col11\" class=\"data row7 col11\" >255</td>\n",
       "      <td id=\"T_1b520_row7_col12\" class=\"data row7 col12\" >255</td>\n",
       "      <td id=\"T_1b520_row7_col13\" class=\"data row7 col13\" >255</td>\n",
       "      <td id=\"T_1b520_row7_col14\" class=\"data row7 col14\" >255</td>\n",
       "      <td id=\"T_1b520_row7_col15\" class=\"data row7 col15\" >198</td>\n",
       "      <td id=\"T_1b520_row7_col16\" class=\"data row7 col16\" >57</td>\n",
       "      <td id=\"T_1b520_row7_col17\" class=\"data row7 col17\" >0</td>\n",
       "      <td id=\"T_1b520_row7_col18\" class=\"data row7 col18\" >0</td>\n",
       "      <td id=\"T_1b520_row7_col19\" class=\"data row7 col19\" >0</td>\n",
       "      <td id=\"T_1b520_row7_col20\" class=\"data row7 col20\" >0</td>\n",
       "      <td id=\"T_1b520_row7_col21\" class=\"data row7 col21\" >0</td>\n",
       "      <td id=\"T_1b520_row7_col22\" class=\"data row7 col22\" >0</td>\n",
       "      <td id=\"T_1b520_row7_col23\" class=\"data row7 col23\" >0</td>\n",
       "    </tr>\n",
       "    <tr>\n",
       "      <th id=\"T_1b520_level0_row8\" class=\"row_heading level0 row8\" >8</th>\n",
       "      <td id=\"T_1b520_row8_col0\" class=\"data row8 col0\" >0</td>\n",
       "      <td id=\"T_1b520_row8_col1\" class=\"data row8 col1\" >0</td>\n",
       "      <td id=\"T_1b520_row8_col2\" class=\"data row8 col2\" >0</td>\n",
       "      <td id=\"T_1b520_row8_col3\" class=\"data row8 col3\" >0</td>\n",
       "      <td id=\"T_1b520_row8_col4\" class=\"data row8 col4\" >0</td>\n",
       "      <td id=\"T_1b520_row8_col5\" class=\"data row8 col5\" >86</td>\n",
       "      <td id=\"T_1b520_row8_col6\" class=\"data row8 col6\" >226</td>\n",
       "      <td id=\"T_1b520_row8_col7\" class=\"data row8 col7\" >255</td>\n",
       "      <td id=\"T_1b520_row8_col8\" class=\"data row8 col8\" >255</td>\n",
       "      <td id=\"T_1b520_row8_col9\" class=\"data row8 col9\" >226</td>\n",
       "      <td id=\"T_1b520_row8_col10\" class=\"data row8 col10\" >141</td>\n",
       "      <td id=\"T_1b520_row8_col11\" class=\"data row8 col11\" >86</td>\n",
       "      <td id=\"T_1b520_row8_col12\" class=\"data row8 col12\" >57</td>\n",
       "      <td id=\"T_1b520_row8_col13\" class=\"data row8 col13\" >0</td>\n",
       "      <td id=\"T_1b520_row8_col14\" class=\"data row8 col14\" >57</td>\n",
       "      <td id=\"T_1b520_row8_col15\" class=\"data row8 col15\" >255</td>\n",
       "      <td id=\"T_1b520_row8_col16\" class=\"data row8 col16\" >226</td>\n",
       "      <td id=\"T_1b520_row8_col17\" class=\"data row8 col17\" >29</td>\n",
       "      <td id=\"T_1b520_row8_col18\" class=\"data row8 col18\" >0</td>\n",
       "      <td id=\"T_1b520_row8_col19\" class=\"data row8 col19\" >0</td>\n",
       "      <td id=\"T_1b520_row8_col20\" class=\"data row8 col20\" >0</td>\n",
       "      <td id=\"T_1b520_row8_col21\" class=\"data row8 col21\" >0</td>\n",
       "      <td id=\"T_1b520_row8_col22\" class=\"data row8 col22\" >0</td>\n",
       "      <td id=\"T_1b520_row8_col23\" class=\"data row8 col23\" >0</td>\n",
       "    </tr>\n",
       "    <tr>\n",
       "      <th id=\"T_1b520_level0_row9\" class=\"row_heading level0 row9\" >9</th>\n",
       "      <td id=\"T_1b520_row9_col0\" class=\"data row9 col0\" >0</td>\n",
       "      <td id=\"T_1b520_row9_col1\" class=\"data row9 col1\" >0</td>\n",
       "      <td id=\"T_1b520_row9_col2\" class=\"data row9 col2\" >0</td>\n",
       "      <td id=\"T_1b520_row9_col3\" class=\"data row9 col3\" >29</td>\n",
       "      <td id=\"T_1b520_row9_col4\" class=\"data row9 col4\" >170</td>\n",
       "      <td id=\"T_1b520_row9_col5\" class=\"data row9 col5\" >255</td>\n",
       "      <td id=\"T_1b520_row9_col6\" class=\"data row9 col6\" >255</td>\n",
       "      <td id=\"T_1b520_row9_col7\" class=\"data row9 col7\" >198</td>\n",
       "      <td id=\"T_1b520_row9_col8\" class=\"data row9 col8\" >29</td>\n",
       "      <td id=\"T_1b520_row9_col9\" class=\"data row9 col9\" >0</td>\n",
       "      <td id=\"T_1b520_row9_col10\" class=\"data row9 col10\" >0</td>\n",
       "      <td id=\"T_1b520_row9_col11\" class=\"data row9 col11\" >0</td>\n",
       "      <td id=\"T_1b520_row9_col12\" class=\"data row9 col12\" >0</td>\n",
       "      <td id=\"T_1b520_row9_col13\" class=\"data row9 col13\" >0</td>\n",
       "      <td id=\"T_1b520_row9_col14\" class=\"data row9 col14\" >0</td>\n",
       "      <td id=\"T_1b520_row9_col15\" class=\"data row9 col15\" >141</td>\n",
       "      <td id=\"T_1b520_row9_col16\" class=\"data row9 col16\" >255</td>\n",
       "      <td id=\"T_1b520_row9_col17\" class=\"data row9 col17\" >86</td>\n",
       "      <td id=\"T_1b520_row9_col18\" class=\"data row9 col18\" >0</td>\n",
       "      <td id=\"T_1b520_row9_col19\" class=\"data row9 col19\" >0</td>\n",
       "      <td id=\"T_1b520_row9_col20\" class=\"data row9 col20\" >0</td>\n",
       "      <td id=\"T_1b520_row9_col21\" class=\"data row9 col21\" >0</td>\n",
       "      <td id=\"T_1b520_row9_col22\" class=\"data row9 col22\" >0</td>\n",
       "      <td id=\"T_1b520_row9_col23\" class=\"data row9 col23\" >0</td>\n",
       "    </tr>\n",
       "    <tr>\n",
       "      <th id=\"T_1b520_level0_row10\" class=\"row_heading level0 row10\" >10</th>\n",
       "      <td id=\"T_1b520_row10_col0\" class=\"data row10 col0\" >0</td>\n",
       "      <td id=\"T_1b520_row10_col1\" class=\"data row10 col1\" >0</td>\n",
       "      <td id=\"T_1b520_row10_col2\" class=\"data row10 col2\" >0</td>\n",
       "      <td id=\"T_1b520_row10_col3\" class=\"data row10 col3\" >198</td>\n",
       "      <td id=\"T_1b520_row10_col4\" class=\"data row10 col4\" >255</td>\n",
       "      <td id=\"T_1b520_row10_col5\" class=\"data row10 col5\" >226</td>\n",
       "      <td id=\"T_1b520_row10_col6\" class=\"data row10 col6\" >86</td>\n",
       "      <td id=\"T_1b520_row10_col7\" class=\"data row10 col7\" >0</td>\n",
       "      <td id=\"T_1b520_row10_col8\" class=\"data row10 col8\" >0</td>\n",
       "      <td id=\"T_1b520_row10_col9\" class=\"data row10 col9\" >0</td>\n",
       "      <td id=\"T_1b520_row10_col10\" class=\"data row10 col10\" >0</td>\n",
       "      <td id=\"T_1b520_row10_col11\" class=\"data row10 col11\" >0</td>\n",
       "      <td id=\"T_1b520_row10_col12\" class=\"data row10 col12\" >0</td>\n",
       "      <td id=\"T_1b520_row10_col13\" class=\"data row10 col13\" >0</td>\n",
       "      <td id=\"T_1b520_row10_col14\" class=\"data row10 col14\" >0</td>\n",
       "      <td id=\"T_1b520_row10_col15\" class=\"data row10 col15\" >86</td>\n",
       "      <td id=\"T_1b520_row10_col16\" class=\"data row10 col16\" >255</td>\n",
       "      <td id=\"T_1b520_row10_col17\" class=\"data row10 col17\" >86</td>\n",
       "      <td id=\"T_1b520_row10_col18\" class=\"data row10 col18\" >0</td>\n",
       "      <td id=\"T_1b520_row10_col19\" class=\"data row10 col19\" >0</td>\n",
       "      <td id=\"T_1b520_row10_col20\" class=\"data row10 col20\" >0</td>\n",
       "      <td id=\"T_1b520_row10_col21\" class=\"data row10 col21\" >0</td>\n",
       "      <td id=\"T_1b520_row10_col22\" class=\"data row10 col22\" >0</td>\n",
       "      <td id=\"T_1b520_row10_col23\" class=\"data row10 col23\" >0</td>\n",
       "    </tr>\n",
       "    <tr>\n",
       "      <th id=\"T_1b520_level0_row11\" class=\"row_heading level0 row11\" >11</th>\n",
       "      <td id=\"T_1b520_row11_col0\" class=\"data row11 col0\" >0</td>\n",
       "      <td id=\"T_1b520_row11_col1\" class=\"data row11 col1\" >0</td>\n",
       "      <td id=\"T_1b520_row11_col2\" class=\"data row11 col2\" >0</td>\n",
       "      <td id=\"T_1b520_row11_col3\" class=\"data row11 col3\" >114</td>\n",
       "      <td id=\"T_1b520_row11_col4\" class=\"data row11 col4\" >86</td>\n",
       "      <td id=\"T_1b520_row11_col5\" class=\"data row11 col5\" >29</td>\n",
       "      <td id=\"T_1b520_row11_col6\" class=\"data row11 col6\" >0</td>\n",
       "      <td id=\"T_1b520_row11_col7\" class=\"data row11 col7\" >0</td>\n",
       "      <td id=\"T_1b520_row11_col8\" class=\"data row11 col8\" >0</td>\n",
       "      <td id=\"T_1b520_row11_col9\" class=\"data row11 col9\" >0</td>\n",
       "      <td id=\"T_1b520_row11_col10\" class=\"data row11 col10\" >0</td>\n",
       "      <td id=\"T_1b520_row11_col11\" class=\"data row11 col11\" >0</td>\n",
       "      <td id=\"T_1b520_row11_col12\" class=\"data row11 col12\" >0</td>\n",
       "      <td id=\"T_1b520_row11_col13\" class=\"data row11 col13\" >0</td>\n",
       "      <td id=\"T_1b520_row11_col14\" class=\"data row11 col14\" >0</td>\n",
       "      <td id=\"T_1b520_row11_col15\" class=\"data row11 col15\" >86</td>\n",
       "      <td id=\"T_1b520_row11_col16\" class=\"data row11 col16\" >255</td>\n",
       "      <td id=\"T_1b520_row11_col17\" class=\"data row11 col17\" >86</td>\n",
       "      <td id=\"T_1b520_row11_col18\" class=\"data row11 col18\" >0</td>\n",
       "      <td id=\"T_1b520_row11_col19\" class=\"data row11 col19\" >0</td>\n",
       "      <td id=\"T_1b520_row11_col20\" class=\"data row11 col20\" >0</td>\n",
       "      <td id=\"T_1b520_row11_col21\" class=\"data row11 col21\" >0</td>\n",
       "      <td id=\"T_1b520_row11_col22\" class=\"data row11 col22\" >0</td>\n",
       "      <td id=\"T_1b520_row11_col23\" class=\"data row11 col23\" >0</td>\n",
       "    </tr>\n",
       "    <tr>\n",
       "      <th id=\"T_1b520_level0_row12\" class=\"row_heading level0 row12\" >12</th>\n",
       "      <td id=\"T_1b520_row12_col0\" class=\"data row12 col0\" >0</td>\n",
       "      <td id=\"T_1b520_row12_col1\" class=\"data row12 col1\" >0</td>\n",
       "      <td id=\"T_1b520_row12_col2\" class=\"data row12 col2\" >0</td>\n",
       "      <td id=\"T_1b520_row12_col3\" class=\"data row12 col3\" >0</td>\n",
       "      <td id=\"T_1b520_row12_col4\" class=\"data row12 col4\" >0</td>\n",
       "      <td id=\"T_1b520_row12_col5\" class=\"data row12 col5\" >0</td>\n",
       "      <td id=\"T_1b520_row12_col6\" class=\"data row12 col6\" >0</td>\n",
       "      <td id=\"T_1b520_row12_col7\" class=\"data row12 col7\" >0</td>\n",
       "      <td id=\"T_1b520_row12_col8\" class=\"data row12 col8\" >0</td>\n",
       "      <td id=\"T_1b520_row12_col9\" class=\"data row12 col9\" >0</td>\n",
       "      <td id=\"T_1b520_row12_col10\" class=\"data row12 col10\" >0</td>\n",
       "      <td id=\"T_1b520_row12_col11\" class=\"data row12 col11\" >0</td>\n",
       "      <td id=\"T_1b520_row12_col12\" class=\"data row12 col12\" >0</td>\n",
       "      <td id=\"T_1b520_row12_col13\" class=\"data row12 col13\" >0</td>\n",
       "      <td id=\"T_1b520_row12_col14\" class=\"data row12 col14\" >0</td>\n",
       "      <td id=\"T_1b520_row12_col15\" class=\"data row12 col15\" >170</td>\n",
       "      <td id=\"T_1b520_row12_col16\" class=\"data row12 col16\" >255</td>\n",
       "      <td id=\"T_1b520_row12_col17\" class=\"data row12 col17\" >29</td>\n",
       "      <td id=\"T_1b520_row12_col18\" class=\"data row12 col18\" >0</td>\n",
       "      <td id=\"T_1b520_row12_col19\" class=\"data row12 col19\" >0</td>\n",
       "      <td id=\"T_1b520_row12_col20\" class=\"data row12 col20\" >0</td>\n",
       "      <td id=\"T_1b520_row12_col21\" class=\"data row12 col21\" >0</td>\n",
       "      <td id=\"T_1b520_row12_col22\" class=\"data row12 col22\" >0</td>\n",
       "      <td id=\"T_1b520_row12_col23\" class=\"data row12 col23\" >0</td>\n",
       "    </tr>\n",
       "    <tr>\n",
       "      <th id=\"T_1b520_level0_row13\" class=\"row_heading level0 row13\" >13</th>\n",
       "      <td id=\"T_1b520_row13_col0\" class=\"data row13 col0\" >0</td>\n",
       "      <td id=\"T_1b520_row13_col1\" class=\"data row13 col1\" >0</td>\n",
       "      <td id=\"T_1b520_row13_col2\" class=\"data row13 col2\" >0</td>\n",
       "      <td id=\"T_1b520_row13_col3\" class=\"data row13 col3\" >0</td>\n",
       "      <td id=\"T_1b520_row13_col4\" class=\"data row13 col4\" >0</td>\n",
       "      <td id=\"T_1b520_row13_col5\" class=\"data row13 col5\" >0</td>\n",
       "      <td id=\"T_1b520_row13_col6\" class=\"data row13 col6\" >0</td>\n",
       "      <td id=\"T_1b520_row13_col7\" class=\"data row13 col7\" >0</td>\n",
       "      <td id=\"T_1b520_row13_col8\" class=\"data row13 col8\" >0</td>\n",
       "      <td id=\"T_1b520_row13_col9\" class=\"data row13 col9\" >0</td>\n",
       "      <td id=\"T_1b520_row13_col10\" class=\"data row13 col10\" >0</td>\n",
       "      <td id=\"T_1b520_row13_col11\" class=\"data row13 col11\" >0</td>\n",
       "      <td id=\"T_1b520_row13_col12\" class=\"data row13 col12\" >0</td>\n",
       "      <td id=\"T_1b520_row13_col13\" class=\"data row13 col13\" >0</td>\n",
       "      <td id=\"T_1b520_row13_col14\" class=\"data row13 col14\" >29</td>\n",
       "      <td id=\"T_1b520_row13_col15\" class=\"data row13 col15\" >226</td>\n",
       "      <td id=\"T_1b520_row13_col16\" class=\"data row13 col16\" >114</td>\n",
       "      <td id=\"T_1b520_row13_col17\" class=\"data row13 col17\" >0</td>\n",
       "      <td id=\"T_1b520_row13_col18\" class=\"data row13 col18\" >0</td>\n",
       "      <td id=\"T_1b520_row13_col19\" class=\"data row13 col19\" >0</td>\n",
       "      <td id=\"T_1b520_row13_col20\" class=\"data row13 col20\" >0</td>\n",
       "      <td id=\"T_1b520_row13_col21\" class=\"data row13 col21\" >0</td>\n",
       "      <td id=\"T_1b520_row13_col22\" class=\"data row13 col22\" >0</td>\n",
       "      <td id=\"T_1b520_row13_col23\" class=\"data row13 col23\" >0</td>\n",
       "    </tr>\n",
       "    <tr>\n",
       "      <th id=\"T_1b520_level0_row14\" class=\"row_heading level0 row14\" >14</th>\n",
       "      <td id=\"T_1b520_row14_col0\" class=\"data row14 col0\" >0</td>\n",
       "      <td id=\"T_1b520_row14_col1\" class=\"data row14 col1\" >0</td>\n",
       "      <td id=\"T_1b520_row14_col2\" class=\"data row14 col2\" >0</td>\n",
       "      <td id=\"T_1b520_row14_col3\" class=\"data row14 col3\" >0</td>\n",
       "      <td id=\"T_1b520_row14_col4\" class=\"data row14 col4\" >0</td>\n",
       "      <td id=\"T_1b520_row14_col5\" class=\"data row14 col5\" >0</td>\n",
       "      <td id=\"T_1b520_row14_col6\" class=\"data row14 col6\" >0</td>\n",
       "      <td id=\"T_1b520_row14_col7\" class=\"data row14 col7\" >0</td>\n",
       "      <td id=\"T_1b520_row14_col8\" class=\"data row14 col8\" >0</td>\n",
       "      <td id=\"T_1b520_row14_col9\" class=\"data row14 col9\" >0</td>\n",
       "      <td id=\"T_1b520_row14_col10\" class=\"data row14 col10\" >0</td>\n",
       "      <td id=\"T_1b520_row14_col11\" class=\"data row14 col11\" >0</td>\n",
       "      <td id=\"T_1b520_row14_col12\" class=\"data row14 col12\" >0</td>\n",
       "      <td id=\"T_1b520_row14_col13\" class=\"data row14 col13\" >0</td>\n",
       "      <td id=\"T_1b520_row14_col14\" class=\"data row14 col14\" >170</td>\n",
       "      <td id=\"T_1b520_row14_col15\" class=\"data row14 col15\" >255</td>\n",
       "      <td id=\"T_1b520_row14_col16\" class=\"data row14 col16\" >86</td>\n",
       "      <td id=\"T_1b520_row14_col17\" class=\"data row14 col17\" >0</td>\n",
       "      <td id=\"T_1b520_row14_col18\" class=\"data row14 col18\" >0</td>\n",
       "      <td id=\"T_1b520_row14_col19\" class=\"data row14 col19\" >0</td>\n",
       "      <td id=\"T_1b520_row14_col20\" class=\"data row14 col20\" >0</td>\n",
       "      <td id=\"T_1b520_row14_col21\" class=\"data row14 col21\" >0</td>\n",
       "      <td id=\"T_1b520_row14_col22\" class=\"data row14 col22\" >0</td>\n",
       "      <td id=\"T_1b520_row14_col23\" class=\"data row14 col23\" >0</td>\n",
       "    </tr>\n",
       "    <tr>\n",
       "      <th id=\"T_1b520_level0_row15\" class=\"row_heading level0 row15\" >15</th>\n",
       "      <td id=\"T_1b520_row15_col0\" class=\"data row15 col0\" >0</td>\n",
       "      <td id=\"T_1b520_row15_col1\" class=\"data row15 col1\" >0</td>\n",
       "      <td id=\"T_1b520_row15_col2\" class=\"data row15 col2\" >0</td>\n",
       "      <td id=\"T_1b520_row15_col3\" class=\"data row15 col3\" >0</td>\n",
       "      <td id=\"T_1b520_row15_col4\" class=\"data row15 col4\" >0</td>\n",
       "      <td id=\"T_1b520_row15_col5\" class=\"data row15 col5\" >0</td>\n",
       "      <td id=\"T_1b520_row15_col6\" class=\"data row15 col6\" >0</td>\n",
       "      <td id=\"T_1b520_row15_col7\" class=\"data row15 col7\" >0</td>\n",
       "      <td id=\"T_1b520_row15_col8\" class=\"data row15 col8\" >0</td>\n",
       "      <td id=\"T_1b520_row15_col9\" class=\"data row15 col9\" >0</td>\n",
       "      <td id=\"T_1b520_row15_col10\" class=\"data row15 col10\" >0</td>\n",
       "      <td id=\"T_1b520_row15_col11\" class=\"data row15 col11\" >0</td>\n",
       "      <td id=\"T_1b520_row15_col12\" class=\"data row15 col12\" >0</td>\n",
       "      <td id=\"T_1b520_row15_col13\" class=\"data row15 col13\" >141</td>\n",
       "      <td id=\"T_1b520_row15_col14\" class=\"data row15 col14\" >255</td>\n",
       "      <td id=\"T_1b520_row15_col15\" class=\"data row15 col15\" >170</td>\n",
       "      <td id=\"T_1b520_row15_col16\" class=\"data row15 col16\" >0</td>\n",
       "      <td id=\"T_1b520_row15_col17\" class=\"data row15 col17\" >0</td>\n",
       "      <td id=\"T_1b520_row15_col18\" class=\"data row15 col18\" >0</td>\n",
       "      <td id=\"T_1b520_row15_col19\" class=\"data row15 col19\" >0</td>\n",
       "      <td id=\"T_1b520_row15_col20\" class=\"data row15 col20\" >0</td>\n",
       "      <td id=\"T_1b520_row15_col21\" class=\"data row15 col21\" >0</td>\n",
       "      <td id=\"T_1b520_row15_col22\" class=\"data row15 col22\" >0</td>\n",
       "      <td id=\"T_1b520_row15_col23\" class=\"data row15 col23\" >0</td>\n",
       "    </tr>\n",
       "    <tr>\n",
       "      <th id=\"T_1b520_level0_row16\" class=\"row_heading level0 row16\" >16</th>\n",
       "      <td id=\"T_1b520_row16_col0\" class=\"data row16 col0\" >0</td>\n",
       "      <td id=\"T_1b520_row16_col1\" class=\"data row16 col1\" >0</td>\n",
       "      <td id=\"T_1b520_row16_col2\" class=\"data row16 col2\" >0</td>\n",
       "      <td id=\"T_1b520_row16_col3\" class=\"data row16 col3\" >0</td>\n",
       "      <td id=\"T_1b520_row16_col4\" class=\"data row16 col4\" >86</td>\n",
       "      <td id=\"T_1b520_row16_col5\" class=\"data row16 col5\" >114</td>\n",
       "      <td id=\"T_1b520_row16_col6\" class=\"data row16 col6\" >29</td>\n",
       "      <td id=\"T_1b520_row16_col7\" class=\"data row16 col7\" >0</td>\n",
       "      <td id=\"T_1b520_row16_col8\" class=\"data row16 col8\" >0</td>\n",
       "      <td id=\"T_1b520_row16_col9\" class=\"data row16 col9\" >0</td>\n",
       "      <td id=\"T_1b520_row16_col10\" class=\"data row16 col10\" >0</td>\n",
       "      <td id=\"T_1b520_row16_col11\" class=\"data row16 col11\" >0</td>\n",
       "      <td id=\"T_1b520_row16_col12\" class=\"data row16 col12\" >114</td>\n",
       "      <td id=\"T_1b520_row16_col13\" class=\"data row16 col13\" >255</td>\n",
       "      <td id=\"T_1b520_row16_col14\" class=\"data row16 col14\" >198</td>\n",
       "      <td id=\"T_1b520_row16_col15\" class=\"data row16 col15\" >29</td>\n",
       "      <td id=\"T_1b520_row16_col16\" class=\"data row16 col16\" >0</td>\n",
       "      <td id=\"T_1b520_row16_col17\" class=\"data row16 col17\" >0</td>\n",
       "      <td id=\"T_1b520_row16_col18\" class=\"data row16 col18\" >0</td>\n",
       "      <td id=\"T_1b520_row16_col19\" class=\"data row16 col19\" >0</td>\n",
       "      <td id=\"T_1b520_row16_col20\" class=\"data row16 col20\" >0</td>\n",
       "      <td id=\"T_1b520_row16_col21\" class=\"data row16 col21\" >0</td>\n",
       "      <td id=\"T_1b520_row16_col22\" class=\"data row16 col22\" >0</td>\n",
       "      <td id=\"T_1b520_row16_col23\" class=\"data row16 col23\" >0</td>\n",
       "    </tr>\n",
       "    <tr>\n",
       "      <th id=\"T_1b520_level0_row17\" class=\"row_heading level0 row17\" >17</th>\n",
       "      <td id=\"T_1b520_row17_col0\" class=\"data row17 col0\" >0</td>\n",
       "      <td id=\"T_1b520_row17_col1\" class=\"data row17 col1\" >0</td>\n",
       "      <td id=\"T_1b520_row17_col2\" class=\"data row17 col2\" >0</td>\n",
       "      <td id=\"T_1b520_row17_col3\" class=\"data row17 col3\" >0</td>\n",
       "      <td id=\"T_1b520_row17_col4\" class=\"data row17 col4\" >170</td>\n",
       "      <td id=\"T_1b520_row17_col5\" class=\"data row17 col5\" >255</td>\n",
       "      <td id=\"T_1b520_row17_col6\" class=\"data row17 col6\" >198</td>\n",
       "      <td id=\"T_1b520_row17_col7\" class=\"data row17 col7\" >57</td>\n",
       "      <td id=\"T_1b520_row17_col8\" class=\"data row17 col8\" >0</td>\n",
       "      <td id=\"T_1b520_row17_col9\" class=\"data row17 col9\" >0</td>\n",
       "      <td id=\"T_1b520_row17_col10\" class=\"data row17 col10\" >57</td>\n",
       "      <td id=\"T_1b520_row17_col11\" class=\"data row17 col11\" >141</td>\n",
       "      <td id=\"T_1b520_row17_col12\" class=\"data row17 col12\" >255</td>\n",
       "      <td id=\"T_1b520_row17_col13\" class=\"data row17 col13\" >170</td>\n",
       "      <td id=\"T_1b520_row17_col14\" class=\"data row17 col14\" >29</td>\n",
       "      <td id=\"T_1b520_row17_col15\" class=\"data row17 col15\" >0</td>\n",
       "      <td id=\"T_1b520_row17_col16\" class=\"data row17 col16\" >0</td>\n",
       "      <td id=\"T_1b520_row17_col17\" class=\"data row17 col17\" >0</td>\n",
       "      <td id=\"T_1b520_row17_col18\" class=\"data row17 col18\" >0</td>\n",
       "      <td id=\"T_1b520_row17_col19\" class=\"data row17 col19\" >0</td>\n",
       "      <td id=\"T_1b520_row17_col20\" class=\"data row17 col20\" >0</td>\n",
       "      <td id=\"T_1b520_row17_col21\" class=\"data row17 col21\" >0</td>\n",
       "      <td id=\"T_1b520_row17_col22\" class=\"data row17 col22\" >0</td>\n",
       "      <td id=\"T_1b520_row17_col23\" class=\"data row17 col23\" >0</td>\n",
       "    </tr>\n",
       "    <tr>\n",
       "      <th id=\"T_1b520_level0_row18\" class=\"row_heading level0 row18\" >18</th>\n",
       "      <td id=\"T_1b520_row18_col0\" class=\"data row18 col0\" >0</td>\n",
       "      <td id=\"T_1b520_row18_col1\" class=\"data row18 col1\" >0</td>\n",
       "      <td id=\"T_1b520_row18_col2\" class=\"data row18 col2\" >0</td>\n",
       "      <td id=\"T_1b520_row18_col3\" class=\"data row18 col3\" >0</td>\n",
       "      <td id=\"T_1b520_row18_col4\" class=\"data row18 col4\" >29</td>\n",
       "      <td id=\"T_1b520_row18_col5\" class=\"data row18 col5\" >198</td>\n",
       "      <td id=\"T_1b520_row18_col6\" class=\"data row18 col6\" >255</td>\n",
       "      <td id=\"T_1b520_row18_col7\" class=\"data row18 col7\" >255</td>\n",
       "      <td id=\"T_1b520_row18_col8\" class=\"data row18 col8\" >255</td>\n",
       "      <td id=\"T_1b520_row18_col9\" class=\"data row18 col9\" >255</td>\n",
       "      <td id=\"T_1b520_row18_col10\" class=\"data row18 col10\" >255</td>\n",
       "      <td id=\"T_1b520_row18_col11\" class=\"data row18 col11\" >255</td>\n",
       "      <td id=\"T_1b520_row18_col12\" class=\"data row18 col12\" >198</td>\n",
       "      <td id=\"T_1b520_row18_col13\" class=\"data row18 col13\" >29</td>\n",
       "      <td id=\"T_1b520_row18_col14\" class=\"data row18 col14\" >0</td>\n",
       "      <td id=\"T_1b520_row18_col15\" class=\"data row18 col15\" >0</td>\n",
       "      <td id=\"T_1b520_row18_col16\" class=\"data row18 col16\" >0</td>\n",
       "      <td id=\"T_1b520_row18_col17\" class=\"data row18 col17\" >0</td>\n",
       "      <td id=\"T_1b520_row18_col18\" class=\"data row18 col18\" >0</td>\n",
       "      <td id=\"T_1b520_row18_col19\" class=\"data row18 col19\" >0</td>\n",
       "      <td id=\"T_1b520_row18_col20\" class=\"data row18 col20\" >0</td>\n",
       "      <td id=\"T_1b520_row18_col21\" class=\"data row18 col21\" >0</td>\n",
       "      <td id=\"T_1b520_row18_col22\" class=\"data row18 col22\" >0</td>\n",
       "      <td id=\"T_1b520_row18_col23\" class=\"data row18 col23\" >0</td>\n",
       "    </tr>\n",
       "    <tr>\n",
       "      <th id=\"T_1b520_level0_row19\" class=\"row_heading level0 row19\" >19</th>\n",
       "      <td id=\"T_1b520_row19_col0\" class=\"data row19 col0\" >0</td>\n",
       "      <td id=\"T_1b520_row19_col1\" class=\"data row19 col1\" >0</td>\n",
       "      <td id=\"T_1b520_row19_col2\" class=\"data row19 col2\" >0</td>\n",
       "      <td id=\"T_1b520_row19_col3\" class=\"data row19 col3\" >0</td>\n",
       "      <td id=\"T_1b520_row19_col4\" class=\"data row19 col4\" >0</td>\n",
       "      <td id=\"T_1b520_row19_col5\" class=\"data row19 col5\" >0</td>\n",
       "      <td id=\"T_1b520_row19_col6\" class=\"data row19 col6\" >114</td>\n",
       "      <td id=\"T_1b520_row19_col7\" class=\"data row19 col7\" >198</td>\n",
       "      <td id=\"T_1b520_row19_col8\" class=\"data row19 col8\" >255</td>\n",
       "      <td id=\"T_1b520_row19_col9\" class=\"data row19 col9\" >255</td>\n",
       "      <td id=\"T_1b520_row19_col10\" class=\"data row19 col10\" >198</td>\n",
       "      <td id=\"T_1b520_row19_col11\" class=\"data row19 col11\" >141</td>\n",
       "      <td id=\"T_1b520_row19_col12\" class=\"data row19 col12\" >29</td>\n",
       "      <td id=\"T_1b520_row19_col13\" class=\"data row19 col13\" >0</td>\n",
       "      <td id=\"T_1b520_row19_col14\" class=\"data row19 col14\" >0</td>\n",
       "      <td id=\"T_1b520_row19_col15\" class=\"data row19 col15\" >0</td>\n",
       "      <td id=\"T_1b520_row19_col16\" class=\"data row19 col16\" >0</td>\n",
       "      <td id=\"T_1b520_row19_col17\" class=\"data row19 col17\" >0</td>\n",
       "      <td id=\"T_1b520_row19_col18\" class=\"data row19 col18\" >0</td>\n",
       "      <td id=\"T_1b520_row19_col19\" class=\"data row19 col19\" >0</td>\n",
       "      <td id=\"T_1b520_row19_col20\" class=\"data row19 col20\" >0</td>\n",
       "      <td id=\"T_1b520_row19_col21\" class=\"data row19 col21\" >0</td>\n",
       "      <td id=\"T_1b520_row19_col22\" class=\"data row19 col22\" >0</td>\n",
       "      <td id=\"T_1b520_row19_col23\" class=\"data row19 col23\" >0</td>\n",
       "    </tr>\n",
       "    <tr>\n",
       "      <th id=\"T_1b520_level0_row20\" class=\"row_heading level0 row20\" >20</th>\n",
       "      <td id=\"T_1b520_row20_col0\" class=\"data row20 col0\" >0</td>\n",
       "      <td id=\"T_1b520_row20_col1\" class=\"data row20 col1\" >0</td>\n",
       "      <td id=\"T_1b520_row20_col2\" class=\"data row20 col2\" >0</td>\n",
       "      <td id=\"T_1b520_row20_col3\" class=\"data row20 col3\" >0</td>\n",
       "      <td id=\"T_1b520_row20_col4\" class=\"data row20 col4\" >0</td>\n",
       "      <td id=\"T_1b520_row20_col5\" class=\"data row20 col5\" >0</td>\n",
       "      <td id=\"T_1b520_row20_col6\" class=\"data row20 col6\" >0</td>\n",
       "      <td id=\"T_1b520_row20_col7\" class=\"data row20 col7\" >0</td>\n",
       "      <td id=\"T_1b520_row20_col8\" class=\"data row20 col8\" >0</td>\n",
       "      <td id=\"T_1b520_row20_col9\" class=\"data row20 col9\" >0</td>\n",
       "      <td id=\"T_1b520_row20_col10\" class=\"data row20 col10\" >0</td>\n",
       "      <td id=\"T_1b520_row20_col11\" class=\"data row20 col11\" >0</td>\n",
       "      <td id=\"T_1b520_row20_col12\" class=\"data row20 col12\" >0</td>\n",
       "      <td id=\"T_1b520_row20_col13\" class=\"data row20 col13\" >0</td>\n",
       "      <td id=\"T_1b520_row20_col14\" class=\"data row20 col14\" >0</td>\n",
       "      <td id=\"T_1b520_row20_col15\" class=\"data row20 col15\" >0</td>\n",
       "      <td id=\"T_1b520_row20_col16\" class=\"data row20 col16\" >0</td>\n",
       "      <td id=\"T_1b520_row20_col17\" class=\"data row20 col17\" >0</td>\n",
       "      <td id=\"T_1b520_row20_col18\" class=\"data row20 col18\" >0</td>\n",
       "      <td id=\"T_1b520_row20_col19\" class=\"data row20 col19\" >0</td>\n",
       "      <td id=\"T_1b520_row20_col20\" class=\"data row20 col20\" >0</td>\n",
       "      <td id=\"T_1b520_row20_col21\" class=\"data row20 col21\" >0</td>\n",
       "      <td id=\"T_1b520_row20_col22\" class=\"data row20 col22\" >0</td>\n",
       "      <td id=\"T_1b520_row20_col23\" class=\"data row20 col23\" >0</td>\n",
       "    </tr>\n",
       "    <tr>\n",
       "      <th id=\"T_1b520_level0_row21\" class=\"row_heading level0 row21\" >21</th>\n",
       "      <td id=\"T_1b520_row21_col0\" class=\"data row21 col0\" >0</td>\n",
       "      <td id=\"T_1b520_row21_col1\" class=\"data row21 col1\" >0</td>\n",
       "      <td id=\"T_1b520_row21_col2\" class=\"data row21 col2\" >0</td>\n",
       "      <td id=\"T_1b520_row21_col3\" class=\"data row21 col3\" >0</td>\n",
       "      <td id=\"T_1b520_row21_col4\" class=\"data row21 col4\" >0</td>\n",
       "      <td id=\"T_1b520_row21_col5\" class=\"data row21 col5\" >0</td>\n",
       "      <td id=\"T_1b520_row21_col6\" class=\"data row21 col6\" >0</td>\n",
       "      <td id=\"T_1b520_row21_col7\" class=\"data row21 col7\" >0</td>\n",
       "      <td id=\"T_1b520_row21_col8\" class=\"data row21 col8\" >0</td>\n",
       "      <td id=\"T_1b520_row21_col9\" class=\"data row21 col9\" >0</td>\n",
       "      <td id=\"T_1b520_row21_col10\" class=\"data row21 col10\" >0</td>\n",
       "      <td id=\"T_1b520_row21_col11\" class=\"data row21 col11\" >0</td>\n",
       "      <td id=\"T_1b520_row21_col12\" class=\"data row21 col12\" >0</td>\n",
       "      <td id=\"T_1b520_row21_col13\" class=\"data row21 col13\" >0</td>\n",
       "      <td id=\"T_1b520_row21_col14\" class=\"data row21 col14\" >0</td>\n",
       "      <td id=\"T_1b520_row21_col15\" class=\"data row21 col15\" >0</td>\n",
       "      <td id=\"T_1b520_row21_col16\" class=\"data row21 col16\" >0</td>\n",
       "      <td id=\"T_1b520_row21_col17\" class=\"data row21 col17\" >0</td>\n",
       "      <td id=\"T_1b520_row21_col18\" class=\"data row21 col18\" >0</td>\n",
       "      <td id=\"T_1b520_row21_col19\" class=\"data row21 col19\" >0</td>\n",
       "      <td id=\"T_1b520_row21_col20\" class=\"data row21 col20\" >0</td>\n",
       "      <td id=\"T_1b520_row21_col21\" class=\"data row21 col21\" >0</td>\n",
       "      <td id=\"T_1b520_row21_col22\" class=\"data row21 col22\" >0</td>\n",
       "      <td id=\"T_1b520_row21_col23\" class=\"data row21 col23\" >0</td>\n",
       "    </tr>\n",
       "    <tr>\n",
       "      <th id=\"T_1b520_level0_row22\" class=\"row_heading level0 row22\" >22</th>\n",
       "      <td id=\"T_1b520_row22_col0\" class=\"data row22 col0\" >0</td>\n",
       "      <td id=\"T_1b520_row22_col1\" class=\"data row22 col1\" >0</td>\n",
       "      <td id=\"T_1b520_row22_col2\" class=\"data row22 col2\" >0</td>\n",
       "      <td id=\"T_1b520_row22_col3\" class=\"data row22 col3\" >0</td>\n",
       "      <td id=\"T_1b520_row22_col4\" class=\"data row22 col4\" >0</td>\n",
       "      <td id=\"T_1b520_row22_col5\" class=\"data row22 col5\" >0</td>\n",
       "      <td id=\"T_1b520_row22_col6\" class=\"data row22 col6\" >0</td>\n",
       "      <td id=\"T_1b520_row22_col7\" class=\"data row22 col7\" >0</td>\n",
       "      <td id=\"T_1b520_row22_col8\" class=\"data row22 col8\" >0</td>\n",
       "      <td id=\"T_1b520_row22_col9\" class=\"data row22 col9\" >0</td>\n",
       "      <td id=\"T_1b520_row22_col10\" class=\"data row22 col10\" >0</td>\n",
       "      <td id=\"T_1b520_row22_col11\" class=\"data row22 col11\" >0</td>\n",
       "      <td id=\"T_1b520_row22_col12\" class=\"data row22 col12\" >0</td>\n",
       "      <td id=\"T_1b520_row22_col13\" class=\"data row22 col13\" >0</td>\n",
       "      <td id=\"T_1b520_row22_col14\" class=\"data row22 col14\" >0</td>\n",
       "      <td id=\"T_1b520_row22_col15\" class=\"data row22 col15\" >0</td>\n",
       "      <td id=\"T_1b520_row22_col16\" class=\"data row22 col16\" >0</td>\n",
       "      <td id=\"T_1b520_row22_col17\" class=\"data row22 col17\" >0</td>\n",
       "      <td id=\"T_1b520_row22_col18\" class=\"data row22 col18\" >0</td>\n",
       "      <td id=\"T_1b520_row22_col19\" class=\"data row22 col19\" >0</td>\n",
       "      <td id=\"T_1b520_row22_col20\" class=\"data row22 col20\" >0</td>\n",
       "      <td id=\"T_1b520_row22_col21\" class=\"data row22 col21\" >0</td>\n",
       "      <td id=\"T_1b520_row22_col22\" class=\"data row22 col22\" >0</td>\n",
       "      <td id=\"T_1b520_row22_col23\" class=\"data row22 col23\" >0</td>\n",
       "    </tr>\n",
       "    <tr>\n",
       "      <th id=\"T_1b520_level0_row23\" class=\"row_heading level0 row23\" >23</th>\n",
       "      <td id=\"T_1b520_row23_col0\" class=\"data row23 col0\" >0</td>\n",
       "      <td id=\"T_1b520_row23_col1\" class=\"data row23 col1\" >0</td>\n",
       "      <td id=\"T_1b520_row23_col2\" class=\"data row23 col2\" >0</td>\n",
       "      <td id=\"T_1b520_row23_col3\" class=\"data row23 col3\" >0</td>\n",
       "      <td id=\"T_1b520_row23_col4\" class=\"data row23 col4\" >0</td>\n",
       "      <td id=\"T_1b520_row23_col5\" class=\"data row23 col5\" >0</td>\n",
       "      <td id=\"T_1b520_row23_col6\" class=\"data row23 col6\" >0</td>\n",
       "      <td id=\"T_1b520_row23_col7\" class=\"data row23 col7\" >0</td>\n",
       "      <td id=\"T_1b520_row23_col8\" class=\"data row23 col8\" >0</td>\n",
       "      <td id=\"T_1b520_row23_col9\" class=\"data row23 col9\" >0</td>\n",
       "      <td id=\"T_1b520_row23_col10\" class=\"data row23 col10\" >0</td>\n",
       "      <td id=\"T_1b520_row23_col11\" class=\"data row23 col11\" >0</td>\n",
       "      <td id=\"T_1b520_row23_col12\" class=\"data row23 col12\" >0</td>\n",
       "      <td id=\"T_1b520_row23_col13\" class=\"data row23 col13\" >0</td>\n",
       "      <td id=\"T_1b520_row23_col14\" class=\"data row23 col14\" >0</td>\n",
       "      <td id=\"T_1b520_row23_col15\" class=\"data row23 col15\" >0</td>\n",
       "      <td id=\"T_1b520_row23_col16\" class=\"data row23 col16\" >0</td>\n",
       "      <td id=\"T_1b520_row23_col17\" class=\"data row23 col17\" >0</td>\n",
       "      <td id=\"T_1b520_row23_col18\" class=\"data row23 col18\" >0</td>\n",
       "      <td id=\"T_1b520_row23_col19\" class=\"data row23 col19\" >0</td>\n",
       "      <td id=\"T_1b520_row23_col20\" class=\"data row23 col20\" >0</td>\n",
       "      <td id=\"T_1b520_row23_col21\" class=\"data row23 col21\" >0</td>\n",
       "      <td id=\"T_1b520_row23_col22\" class=\"data row23 col22\" >0</td>\n",
       "      <td id=\"T_1b520_row23_col23\" class=\"data row23 col23\" >0</td>\n",
       "    </tr>\n",
       "  </tbody>\n",
       "</table>\n"
      ],
      "text/plain": [
       "<pandas.io.formats.style.Styler at 0x7f7ca42f10d0>"
      ]
     },
     "execution_count": 12,
     "metadata": {},
     "output_type": "execute_result"
    }
   ],
   "source": [
    "im3_t = tensor(im3)\n",
    "df = pd.DataFrame(im3_t[4:30,4:44])\n",
    "df.style.set_properties(**{'font-size':'6pt'}).background_gradient('Greys')"
   ]
  },
  {
   "cell_type": "markdown",
   "metadata": {
    "id": "PQWp-xj6_oDT"
   },
   "source": [
    "## First Try: Pixel Similarity"
   ]
  },
  {
   "cell_type": "code",
   "execution_count": 13,
   "metadata": {
    "executionInfo": {
     "elapsed": 652,
     "status": "aborted",
     "timestamp": 1649251873565,
     "user": {
      "displayName": "Artyom K",
      "userId": "12649678934369183118"
     },
     "user_tz": -180
    },
    "id": "N0hIgbEO_oDT"
   },
   "outputs": [
    {
     "data": {
      "text/plain": [
       "(6131, 6265)"
      ]
     },
     "execution_count": 13,
     "metadata": {},
     "output_type": "execute_result"
    }
   ],
   "source": [
    "seven_tensors = [tensor(Image.open(o)) for o in sevens]\n",
    "three_tensors = [tensor(Image.open(o)) for o in threes]\n",
    "len(three_tensors),len(seven_tensors)"
   ]
  },
  {
   "cell_type": "code",
   "execution_count": 14,
   "metadata": {
    "executionInfo": {
     "elapsed": 652,
     "status": "aborted",
     "timestamp": 1649251873565,
     "user": {
      "displayName": "Artyom K",
      "userId": "12649678934369183118"
     },
     "user_tz": -180
    },
    "id": "rBcgwYZ1_oDU"
   },
   "outputs": [
    {
     "data": {
      "image/png": "[encoded data removed]",
      "text/plain": [
       "<Figure size 72x72 with 1 Axes>"
      ]
     },
     "metadata": {
      "needs_background": "light"
     },
     "output_type": "display_data"
    }
   ],
   "source": [
    "show_image(three_tensors[1]);"
   ]
  },
  {
   "cell_type": "code",
   "execution_count": 15,
   "metadata": {
    "executionInfo": {
     "elapsed": 652,
     "status": "aborted",
     "timestamp": 1649251873566,
     "user": {
      "displayName": "Artyom K",
      "userId": "12649678934369183118"
     },
     "user_tz": -180
    },
    "id": "gTI6jRJ6_oDU"
   },
   "outputs": [
    {
     "data": {
      "text/plain": [
       "torch.Size([6131, 28, 28])"
      ]
     },
     "execution_count": 15,
     "metadata": {},
     "output_type": "execute_result"
    }
   ],
   "source": [
    "stacked_sevens = torch.stack(seven_tensors).float()/255\n",
    "stacked_threes = torch.stack(three_tensors).float()/255\n",
    "stacked_threes.shape"
   ]
  },
  {
   "cell_type": "code",
   "execution_count": 16,
   "metadata": {
    "executionInfo": {
     "elapsed": 653,
     "status": "aborted",
     "timestamp": 1649251873567,
     "user": {
      "displayName": "Artyom K",
      "userId": "12649678934369183118"
     },
     "user_tz": -180
    },
    "id": "ipIJgwJo_oDU"
   },
   "outputs": [
    {
     "data": {
      "text/plain": [
       "3"
      ]
     },
     "execution_count": 16,
     "metadata": {},
     "output_type": "execute_result"
    }
   ],
   "source": [
    "len(stacked_threes.shape)"
   ]
  },
  {
   "cell_type": "code",
   "execution_count": 17,
   "metadata": {
    "executionInfo": {
     "elapsed": 653,
     "status": "aborted",
     "timestamp": 1649251873567,
     "user": {
      "displayName": "Artyom K",
      "userId": "12649678934369183118"
     },
     "user_tz": -180
    },
    "id": "7Das56ud_oDU"
   },
   "outputs": [
    {
     "data": {
      "text/plain": [
       "3"
      ]
     },
     "execution_count": 17,
     "metadata": {},
     "output_type": "execute_result"
    }
   ],
   "source": [
    "stacked_threes.ndim"
   ]
  },
  {
   "cell_type": "code",
   "execution_count": 18,
   "metadata": {
    "executionInfo": {
     "elapsed": 652,
     "status": "aborted",
     "timestamp": 1649251873567,
     "user": {
      "displayName": "Artyom K",
      "userId": "12649678934369183118"
     },
     "user_tz": -180
    },
    "id": "qV-cvRYm_oDU"
   },
   "outputs": [
    {
     "data": {
      "image/png": "[encoded data removed]",
      "text/plain": [
       "<Figure size 72x72 with 1 Axes>"
      ]
     },
     "metadata": {
      "needs_background": "light"
     },
     "output_type": "display_data"
    }
   ],
   "source": [
    "mean3 = stacked_threes.mean(0)\n",
    "show_image(mean3);"
   ]
  },
  {
   "cell_type": "code",
   "execution_count": 19,
   "metadata": {
    "executionInfo": {
     "elapsed": 653,
     "status": "aborted",
     "timestamp": 1649251873568,
     "user": {
      "displayName": "Artyom K",
      "userId": "12649678934369183118"
     },
     "user_tz": -180
    },
    "id": "Ik4XDT6o_oDV"
   },
   "outputs": [
    {
     "data": {
      "image/png": "[encoded data removed]",
      "text/plain": [
       "<Figure size 72x72 with 1 Axes>"
      ]
     },
     "metadata": {
      "needs_background": "light"
     },
     "output_type": "display_data"
    }
   ],
   "source": [
    "mean7 = stacked_sevens.mean(0)\n",
    "show_image(mean7);"
   ]
  },
  {
   "cell_type": "code",
   "execution_count": 20,
   "metadata": {
    "executionInfo": {
     "elapsed": 653,
     "status": "aborted",
     "timestamp": 1649251873568,
     "user": {
      "displayName": "Artyom K",
      "userId": "12649678934369183118"
     },
     "user_tz": -180
    },
    "id": "LrBWoQ8__oDV"
   },
   "outputs": [
    {
     "data": {
      "image/png": "[encoded data removed]",
      "text/plain": [
       "<Figure size 72x72 with 1 Axes>"
      ]
     },
     "metadata": {
      "needs_background": "light"
     },
     "output_type": "display_data"
    }
   ],
   "source": [
    "a_3 = stacked_threes[10]\n",
    "show_image(a_3);"
   ]
  },
  {
   "cell_type": "code",
   "execution_count": 21,
   "metadata": {
    "executionInfo": {
     "elapsed": 653,
     "status": "aborted",
     "timestamp": 1649251873568,
     "user": {
      "displayName": "Artyom K",
      "userId": "12649678934369183118"
     },
     "user_tz": -180
    },
    "id": "sOt9LxZ0_oDV"
   },
   "outputs": [
    {
     "data": {
      "text/plain": [
       "(tensor(0.1100), tensor(0.2018))"
      ]
     },
     "execution_count": 21,
     "metadata": {},
     "output_type": "execute_result"
    }
   ],
   "source": [
    "dist_3_abs = (a_3 - mean3).abs().mean()\n",
    "dist_3_sqr = ((a_3 - mean3)**2).mean().sqrt()\n",
    "dist_3_abs,dist_3_sqr"
   ]
  },
  {
   "cell_type": "code",
   "execution_count": 22,
   "metadata": {
    "executionInfo": {
     "elapsed": 653,
     "status": "aborted",
     "timestamp": 1649251873569,
     "user": {
      "displayName": "Artyom K",
      "userId": "12649678934369183118"
     },
     "user_tz": -180
    },
    "id": "a1gzn20A_oDV"
   },
   "outputs": [
    {
     "data": {
      "text/plain": [
       "(tensor(0.1556), tensor(0.2989))"
      ]
     },
     "execution_count": 22,
     "metadata": {},
     "output_type": "execute_result"
    }
   ],
   "source": [
    "dist_7_abs = (a_3 - mean7).abs().mean()\n",
    "dist_7_sqr = ((a_3 - mean7)**2).mean().sqrt()\n",
    "dist_7_abs,dist_7_sqr"
   ]
  },
  {
   "cell_type": "code",
   "execution_count": 23,
   "metadata": {
    "executionInfo": {
     "elapsed": 653,
     "status": "aborted",
     "timestamp": 1649251873569,
     "user": {
      "displayName": "Artyom K",
      "userId": "12649678934369183118"
     },
     "user_tz": -180
    },
    "id": "ZWqAF5hx_oDV"
   },
   "outputs": [
    {
     "data": {
      "text/plain": [
       "(tensor(0.1556), tensor(0.2989))"
      ]
     },
     "execution_count": 23,
     "metadata": {},
     "output_type": "execute_result"
    }
   ],
   "source": [
    "F.l1_loss(a_3.float(),mean7), F.mse_loss(a_3,mean7).sqrt()"
   ]
  },
  {
   "cell_type": "markdown",
   "metadata": {
    "id": "C7nDFMAw_oDV"
   },
   "source": [
    "### NumPy Arrays and PyTorch Tensors"
   ]
  },
  {
   "cell_type": "code",
   "execution_count": 24,
   "metadata": {
    "executionInfo": {
     "elapsed": 654,
     "status": "aborted",
     "timestamp": 1649251873570,
     "user": {
      "displayName": "Artyom K",
      "userId": "12649678934369183118"
     },
     "user_tz": -180
    },
    "id": "rpy6Uid6_oDW"
   },
   "outputs": [],
   "source": [
    "data = [[1,2,3],[4,5,6]]\n",
    "arr = array (data)\n",
    "tns = tensor(data)"
   ]
  },
  {
   "cell_type": "code",
   "execution_count": 25,
   "metadata": {
    "executionInfo": {
     "elapsed": 654,
     "status": "aborted",
     "timestamp": 1649251873570,
     "user": {
      "displayName": "Artyom K",
      "userId": "12649678934369183118"
     },
     "user_tz": -180
    },
    "id": "qPn1Luvd_oDW"
   },
   "outputs": [
    {
     "data": {
      "text/plain": [
       "array([[1, 2, 3],\n",
       "       [4, 5, 6]])"
      ]
     },
     "execution_count": 25,
     "metadata": {},
     "output_type": "execute_result"
    }
   ],
   "source": [
    "arr  # numpy"
   ]
  },
  {
   "cell_type": "code",
   "execution_count": 26,
   "metadata": {
    "executionInfo": {
     "elapsed": 653,
     "status": "aborted",
     "timestamp": 1649251873570,
     "user": {
      "displayName": "Artyom K",
      "userId": "12649678934369183118"
     },
     "user_tz": -180
    },
    "id": "5HorXgHD_oDW"
   },
   "outputs": [
    {
     "data": {
      "text/plain": [
       "tensor([[1, 2, 3],\n",
       "        [4, 5, 6]])"
      ]
     },
     "execution_count": 26,
     "metadata": {},
     "output_type": "execute_result"
    }
   ],
   "source": [
    "tns  # pytorch"
   ]
  },
  {
   "cell_type": "code",
   "execution_count": 27,
   "metadata": {
    "executionInfo": {
     "elapsed": 654,
     "status": "aborted",
     "timestamp": 1649251873571,
     "user": {
      "displayName": "Artyom K",
      "userId": "12649678934369183118"
     },
     "user_tz": -180
    },
    "id": "5jZZOTUD_oDW"
   },
   "outputs": [
    {
     "data": {
      "text/plain": [
       "tensor([[6, 7]])"
      ]
     },
     "execution_count": 27,
     "metadata": {},
     "output_type": "execute_result"
    }
   ],
   "source": [
    "tns[1:2,:-1] + 2"
   ]
  },
  {
   "cell_type": "code",
   "execution_count": 28,
   "metadata": {
    "executionInfo": {
     "elapsed": 654,
     "status": "aborted",
     "timestamp": 1649251873571,
     "user": {
      "displayName": "Artyom K",
      "userId": "12649678934369183118"
     },
     "user_tz": -180
    },
    "id": "5UiOS9s0_oDW"
   },
   "outputs": [
    {
     "data": {
      "text/plain": [
       "tensor([2, 5])"
      ]
     },
     "execution_count": 28,
     "metadata": {},
     "output_type": "execute_result"
    }
   ],
   "source": [
    "tns[:,1]"
   ]
  },
  {
   "cell_type": "code",
   "execution_count": 29,
   "metadata": {
    "executionInfo": {
     "elapsed": 654,
     "status": "aborted",
     "timestamp": 1649251873571,
     "user": {
      "displayName": "Artyom K",
      "userId": "12649678934369183118"
     },
     "user_tz": -180
    },
    "id": "Mbzh4pnK_oDX"
   },
   "outputs": [
    {
     "data": {
      "text/plain": [
       "tensor([5, 6])"
      ]
     },
     "execution_count": 29,
     "metadata": {},
     "output_type": "execute_result"
    }
   ],
   "source": [
    "tns[1,1:3]"
   ]
  },
  {
   "cell_type": "code",
   "execution_count": 30,
   "metadata": {
    "executionInfo": {
     "elapsed": 654,
     "status": "aborted",
     "timestamp": 1649251873571,
     "user": {
      "displayName": "Artyom K",
      "userId": "12649678934369183118"
     },
     "user_tz": -180
    },
    "id": "vouIZYam_oDX"
   },
   "outputs": [
    {
     "data": {
      "text/plain": [
       "tensor([[2, 3, 4],\n",
       "        [5, 6, 7]])"
      ]
     },
     "execution_count": 30,
     "metadata": {},
     "output_type": "execute_result"
    }
   ],
   "source": [
    "tns+1"
   ]
  },
  {
   "cell_type": "code",
   "execution_count": 31,
   "metadata": {
    "executionInfo": {
     "elapsed": 654,
     "status": "aborted",
     "timestamp": 1649251873571,
     "user": {
      "displayName": "Artyom K",
      "userId": "12649678934369183118"
     },
     "user_tz": -180
    },
    "id": "WpyKMJk8_oDX"
   },
   "outputs": [
    {
     "data": {
      "text/plain": [
       "'torch.LongTensor'"
      ]
     },
     "execution_count": 31,
     "metadata": {},
     "output_type": "execute_result"
    }
   ],
   "source": [
    "tns.type()"
   ]
  },
  {
   "cell_type": "code",
   "execution_count": 32,
   "metadata": {
    "executionInfo": {
     "elapsed": 656,
     "status": "aborted",
     "timestamp": 1649251873573,
     "user": {
      "displayName": "Artyom K",
      "userId": "12649678934369183118"
     },
     "user_tz": -180
    },
    "id": "3hij_Sjp_oDX"
   },
   "outputs": [
    {
     "data": {
      "text/plain": [
       "tensor([[1.5000, 3.0000, 4.5000],\n",
       "        [6.0000, 7.5000, 9.0000]])"
      ]
     },
     "execution_count": 32,
     "metadata": {},
     "output_type": "execute_result"
    }
   ],
   "source": [
    "tns*1.5"
   ]
  },
  {
   "cell_type": "markdown",
   "metadata": {
    "id": "4UItXOeF_oDc"
   },
   "source": [
    "## Computing Metrics Using Broadcasting"
   ]
  },
  {
   "cell_type": "code",
   "execution_count": 33,
   "metadata": {
    "executionInfo": {
     "elapsed": 655,
     "status": "aborted",
     "timestamp": 1649251873573,
     "user": {
      "displayName": "Artyom K",
      "userId": "12649678934369183118"
     },
     "user_tz": -180
    },
    "id": "6lAbH24v_oDc"
   },
   "outputs": [
    {
     "data": {
      "text/plain": [
       "(torch.Size([1010, 28, 28]), torch.Size([1028, 28, 28]))"
      ]
     },
     "execution_count": 33,
     "metadata": {},
     "output_type": "execute_result"
    }
   ],
   "source": [
    "valid_3_tens = torch.stack([tensor(Image.open(o)) \n",
    "                            for o in (path/'valid'/'3').ls()])\n",
    "valid_3_tens = valid_3_tens.float()/255\n",
    "valid_7_tens = torch.stack([tensor(Image.open(o)) \n",
    "                            for o in (path/'valid'/'7').ls()])\n",
    "valid_7_tens = valid_7_tens.float()/255\n",
    "valid_3_tens.shape,valid_7_tens.shape"
   ]
  },
  {
   "cell_type": "code",
   "execution_count": 34,
   "metadata": {
    "executionInfo": {
     "elapsed": 655,
     "status": "aborted",
     "timestamp": 1649251873573,
     "user": {
      "displayName": "Artyom K",
      "userId": "12649678934369183118"
     },
     "user_tz": -180
    },
    "id": "TI3WfR5R_oDd"
   },
   "outputs": [
    {
     "data": {
      "text/plain": [
       "tensor(0.1100)"
      ]
     },
     "execution_count": 34,
     "metadata": {},
     "output_type": "execute_result"
    }
   ],
   "source": [
    "def mnist_distance(a,b): return (a-b).abs().mean((-1,-2))\n",
    "mnist_distance(a_3, mean3)"
   ]
  },
  {
   "cell_type": "code",
   "execution_count": 35,
   "metadata": {
    "executionInfo": {
     "elapsed": 656,
     "status": "aborted",
     "timestamp": 1649251873574,
     "user": {
      "displayName": "Artyom K",
      "userId": "12649678934369183118"
     },
     "user_tz": -180
    },
    "id": "BkKI7ls__oDd"
   },
   "outputs": [
    {
     "data": {
      "text/plain": [
       "(tensor([0.1787, 0.1422, 0.1412,  ..., 0.1358, 0.1301, 0.1110]),\n",
       " torch.Size([1010]))"
      ]
     },
     "execution_count": 35,
     "metadata": {},
     "output_type": "execute_result"
    }
   ],
   "source": [
    "valid_3_dist = mnist_distance(valid_3_tens, mean3)\n",
    "valid_3_dist, valid_3_dist.shape"
   ]
  },
  {
   "cell_type": "code",
   "execution_count": 36,
   "metadata": {
    "executionInfo": {
     "elapsed": 657,
     "status": "aborted",
     "timestamp": 1649251873575,
     "user": {
      "displayName": "Artyom K",
      "userId": "12649678934369183118"
     },
     "user_tz": -180
    },
    "id": "QIHhFmn8_oDd"
   },
   "outputs": [
    {
     "data": {
      "text/plain": [
       "tensor([2, 3, 4])"
      ]
     },
     "execution_count": 36,
     "metadata": {},
     "output_type": "execute_result"
    }
   ],
   "source": [
    "tensor([1,2,3]) + tensor(1)"
   ]
  },
  {
   "cell_type": "code",
   "execution_count": 37,
   "metadata": {
    "executionInfo": {
     "elapsed": 657,
     "status": "aborted",
     "timestamp": 1649251873575,
     "user": {
      "displayName": "Artyom K",
      "userId": "12649678934369183118"
     },
     "user_tz": -180
    },
    "id": "zI125o60_oDd"
   },
   "outputs": [
    {
     "data": {
      "text/plain": [
       "torch.Size([1010, 28, 28])"
      ]
     },
     "execution_count": 37,
     "metadata": {},
     "output_type": "execute_result"
    }
   ],
   "source": [
    "(valid_3_tens-mean3).shape"
   ]
  },
  {
   "cell_type": "code",
   "execution_count": 38,
   "metadata": {
    "executionInfo": {
     "elapsed": 656,
     "status": "aborted",
     "timestamp": 1649251873575,
     "user": {
      "displayName": "Artyom K",
      "userId": "12649678934369183118"
     },
     "user_tz": -180
    },
    "id": "hDguPVT0_oDd"
   },
   "outputs": [],
   "source": [
    "def is_3(x): return mnist_distance(x,mean3) < mnist_distance(x,mean7)"
   ]
  },
  {
   "cell_type": "code",
   "execution_count": 39,
   "metadata": {
    "executionInfo": {
     "elapsed": 657,
     "status": "aborted",
     "timestamp": 1649251873576,
     "user": {
      "displayName": "Artyom K",
      "userId": "12649678934369183118"
     },
     "user_tz": -180
    },
    "id": "VKkXVP5P_oDe"
   },
   "outputs": [
    {
     "data": {
      "text/plain": [
       "(tensor(True), tensor(1.))"
      ]
     },
     "execution_count": 39,
     "metadata": {},
     "output_type": "execute_result"
    }
   ],
   "source": [
    "is_3(a_3), is_3(a_3).float()"
   ]
  },
  {
   "cell_type": "code",
   "execution_count": 40,
   "metadata": {
    "executionInfo": {
     "elapsed": 657,
     "status": "aborted",
     "timestamp": 1649251873576,
     "user": {
      "displayName": "Artyom K",
      "userId": "12649678934369183118"
     },
     "user_tz": -180
    },
    "id": "zqYTxPhx_oDe"
   },
   "outputs": [
    {
     "data": {
      "text/plain": [
       "tensor([False,  True,  True,  ...,  True,  True,  True])"
      ]
     },
     "execution_count": 40,
     "metadata": {},
     "output_type": "execute_result"
    }
   ],
   "source": [
    "is_3(valid_3_tens)"
   ]
  },
  {
   "cell_type": "code",
   "execution_count": 41,
   "metadata": {
    "executionInfo": {
     "elapsed": 658,
     "status": "aborted",
     "timestamp": 1649251873577,
     "user": {
      "displayName": "Artyom K",
      "userId": "12649678934369183118"
     },
     "user_tz": -180
    },
    "id": "BiSWH1i4_oDe"
   },
   "outputs": [
    {
     "data": {
      "text/plain": [
       "(tensor(0.9168), tensor(0.9854), tensor(0.9511))"
      ]
     },
     "execution_count": 41,
     "metadata": {},
     "output_type": "execute_result"
    }
   ],
   "source": [
    "accuracy_3s =      is_3(valid_3_tens).float() .mean()\n",
    "accuracy_7s = (1 - is_3(valid_7_tens).float()).mean()\n",
    "\n",
    "accuracy_3s,accuracy_7s,(accuracy_3s+accuracy_7s)/2"
   ]
  },
  {
   "cell_type": "markdown",
   "metadata": {
    "id": "FIvex8QP_oDf"
   },
   "source": [
    "## Stochastic Gradient Descent (SGD)"
   ]
  },
  {
   "cell_type": "code",
   "execution_count": 42,
   "metadata": {
    "executionInfo": {
     "elapsed": 658,
     "status": "aborted",
     "timestamp": 1649251873577,
     "user": {
      "displayName": "Artyom K",
      "userId": "12649678934369183118"
     },
     "user_tz": -180
    },
    "id": "_-ZrIIxa_oDf"
   },
   "outputs": [
    {
     "data": {
      "image/svg+xml": [
       "<?xml version=\"1.0\" encoding=\"UTF-8\" standalone=\"no\"?>\n",
       "<!DOCTYPE svg PUBLIC \"-//W3C//DTD SVG 1.1//EN\"\n",
       " \"http://www.w3.org/Graphics/SVG/1.1/DTD/svg11.dtd\">\n",
       "<!-- Generated by graphviz version 2.40.1 (20161225.0304)\n",
       " -->\n",
       "<!-- Title: G Pages: 1 -->\n",
       "<svg width=\"661pt\" height=\"78pt\"\n",
       " viewBox=\"0.00 0.00 660.87 78.00\" xmlns=\"http://www.w3.org/2000/svg\" xmlns:xlink=\"http://www.w3.org/1999/xlink\">\n",
       "<g id=\"graph0\" class=\"graph\" transform=\"scale(1 1) rotate(0) translate(4 74)\">\n",
       "<title>G</title>\n",
       "<polygon fill=\"#ffffff\" stroke=\"transparent\" points=\"-4,4 -4,-74 656.8674,-74 656.8674,4 -4,4\"/>\n",
       "<!-- init -->\n",
       "<g id=\"node1\" class=\"node\">\n",
       "<title>init</title>\n",
       "<ellipse fill=\"none\" stroke=\"#000000\" cx=\"27\" cy=\"-18\" rx=\"27\" ry=\"18\"/>\n",
       "<text text-anchor=\"middle\" x=\"27\" y=\"-14.3\" font-family=\"Times,serif\" font-size=\"14.00\" fill=\"#000000\">init</text>\n",
       "</g>\n",
       "<!-- predict -->\n",
       "<g id=\"node2\" class=\"node\">\n",
       "<title>predict</title>\n",
       "<ellipse fill=\"none\" stroke=\"#000000\" cx=\"135.1961\" cy=\"-18\" rx=\"44.393\" ry=\"18\"/>\n",
       "<text text-anchor=\"middle\" x=\"135.1961\" y=\"-14.3\" font-family=\"Times,serif\" font-size=\"14.00\" fill=\"#000000\">predict</text>\n",
       "</g>\n",
       "<!-- init&#45;&gt;predict -->\n",
       "<g id=\"edge1\" class=\"edge\">\n",
       "<title>init&#45;&gt;predict</title>\n",
       "<path fill=\"none\" stroke=\"#000000\" d=\"M54.0233,-18C62.2052,-18 71.5004,-18 80.807,-18\"/>\n",
       "<polygon fill=\"#000000\" stroke=\"#000000\" points=\"80.8581,-21.5001 90.8581,-18 80.8581,-14.5001 80.8581,-21.5001\"/>\n",
       "</g>\n",
       "<!-- loss -->\n",
       "<g id=\"node3\" class=\"node\">\n",
       "<title>loss</title>\n",
       "<ellipse fill=\"none\" stroke=\"#000000\" cx=\"244.9896\" cy=\"-52\" rx=\"28.6953\" ry=\"18\"/>\n",
       "<text text-anchor=\"middle\" x=\"244.9896\" y=\"-48.3\" font-family=\"Times,serif\" font-size=\"14.00\" fill=\"#000000\">loss</text>\n",
       "</g>\n",
       "<!-- predict&#45;&gt;loss -->\n",
       "<g id=\"edge2\" class=\"edge\">\n",
       "<title>predict&#45;&gt;loss</title>\n",
       "<path fill=\"none\" stroke=\"#000000\" d=\"M170.5398,-28.945C183.0049,-32.8051 197.0171,-37.1442 209.4946,-41.0082\"/>\n",
       "<polygon fill=\"#000000\" stroke=\"#000000\" points=\"208.5256,-44.372 219.1135,-43.9869 210.5964,-37.6853 208.5256,-44.372\"/>\n",
       "</g>\n",
       "<!-- gradient -->\n",
       "<g id=\"node4\" class=\"node\">\n",
       "<title>gradient</title>\n",
       "<ellipse fill=\"none\" stroke=\"#000000\" cx=\"406.6326\" cy=\"-52\" rx=\"50.0912\" ry=\"18\"/>\n",
       "<text text-anchor=\"middle\" x=\"406.6326\" y=\"-48.3\" font-family=\"Times,serif\" font-size=\"14.00\" fill=\"#000000\">gradient</text>\n",
       "</g>\n",
       "<!-- loss&#45;&gt;gradient -->\n",
       "<g id=\"edge3\" class=\"edge\">\n",
       "<title>loss&#45;&gt;gradient</title>\n",
       "<path fill=\"none\" stroke=\"#000000\" d=\"M273.8882,-52C294.001,-52 321.5533,-52 346.345,-52\"/>\n",
       "<polygon fill=\"#000000\" stroke=\"#000000\" points=\"346.4084,-55.5001 356.4084,-52 346.4083,-48.5001 346.4084,-55.5001\"/>\n",
       "</g>\n",
       "<!-- step -->\n",
       "<g id=\"node5\" class=\"node\">\n",
       "<title>step</title>\n",
       "<ellipse fill=\"none\" stroke=\"#000000\" cx=\"524.2255\" cy=\"-18\" rx=\"30.5947\" ry=\"18\"/>\n",
       "<text text-anchor=\"middle\" x=\"524.2255\" y=\"-14.3\" font-family=\"Times,serif\" font-size=\"14.00\" fill=\"#000000\">step</text>\n",
       "</g>\n",
       "<!-- gradient&#45;&gt;step -->\n",
       "<g id=\"edge4\" class=\"edge\">\n",
       "<title>gradient&#45;&gt;step</title>\n",
       "<path fill=\"none\" stroke=\"#000000\" d=\"M445.7894,-40.6785C459.0996,-36.8301 473.9269,-32.543 487.0756,-28.7413\"/>\n",
       "<polygon fill=\"#000000\" stroke=\"#000000\" points=\"488.1159,-32.0839 496.7503,-25.944 486.1716,-25.3593 488.1159,-32.0839\"/>\n",
       "</g>\n",
       "<!-- step&#45;&gt;predict -->\n",
       "<g id=\"edge6\" class=\"edge\">\n",
       "<title>step&#45;&gt;predict</title>\n",
       "<path fill=\"none\" stroke=\"#000000\" d=\"M493.641,-18C427.9565,-18 272.6518,-18 189.6803,-18\"/>\n",
       "<polygon fill=\"#000000\" stroke=\"#000000\" points=\"189.444,-14.5001 179.4439,-18 189.4439,-21.5001 189.444,-14.5001\"/>\n",
       "<text text-anchor=\"middle\" x=\"315.0871\" y=\"-21.8\" font-family=\"Times,serif\" font-size=\"14.00\" fill=\"#000000\">repeat</text>\n",
       "</g>\n",
       "<!-- stop -->\n",
       "<g id=\"node6\" class=\"node\">\n",
       "<title>stop</title>\n",
       "<ellipse fill=\"none\" stroke=\"#000000\" cx=\"622.3201\" cy=\"-18\" rx=\"30.5947\" ry=\"18\"/>\n",
       "<text text-anchor=\"middle\" x=\"622.3201\" y=\"-14.3\" font-family=\"Times,serif\" font-size=\"14.00\" fill=\"#000000\">stop</text>\n",
       "</g>\n",
       "<!-- step&#45;&gt;stop -->\n",
       "<g id=\"edge5\" class=\"edge\">\n",
       "<title>step&#45;&gt;stop</title>\n",
       "<path fill=\"none\" stroke=\"#000000\" d=\"M554.9941,-18C563.3941,-18 572.6288,-18 581.4946,-18\"/>\n",
       "<polygon fill=\"#000000\" stroke=\"#000000\" points=\"581.6607,-21.5001 591.6607,-18 581.6606,-14.5001 581.6607,-21.5001\"/>\n",
       "</g>\n",
       "</g>\n",
       "</svg>\n"
      ],
      "text/plain": [
       "<graphviz.sources.Source at 0x7f7b4071bb10>"
      ]
     },
     "execution_count": 42,
     "metadata": {},
     "output_type": "execute_result"
    }
   ],
   "source": [
    "gv('''\n",
    "init->predict->loss->gradient->step->stop\n",
    "step->predict[label=repeat]\n",
    "''')"
   ]
  },
  {
   "cell_type": "code",
   "execution_count": 43,
   "metadata": {
    "executionInfo": {
     "elapsed": 657,
     "status": "aborted",
     "timestamp": 1649251873577,
     "user": {
      "displayName": "Artyom K",
      "userId": "12649678934369183118"
     },
     "user_tz": -180
    },
    "id": "oU_x0CDQ_oDf"
   },
   "outputs": [],
   "source": [
    "def f(x): return x**2"
   ]
  },
  {
   "cell_type": "code",
   "execution_count": 44,
   "metadata": {
    "executionInfo": {
     "elapsed": 657,
     "status": "aborted",
     "timestamp": 1649251873577,
     "user": {
      "displayName": "Artyom K",
      "userId": "12649678934369183118"
     },
     "user_tz": -180
    },
    "id": "GfhGPLqN_oDf"
   },
   "outputs": [
    {
     "name": "stderr",
     "output_type": "stream",
     "text": [
      "/opt/conda/lib/python3.7/site-packages/fastbook/__init__.py:72: UserWarning: Not providing a value for linspace's steps is deprecated and will throw a runtime error in a future release. This warning will appear only once per process. (Triggered internally at  /opt/conda/conda-bld/pytorch_1634272168290/work/aten/src/ATen/native/RangeFactories.cpp:23.)\n",
      "  x = torch.linspace(min,max)\n"
     ]
    },
    {
     "data": {
      "image/png": "[encoded data removed]",
      "text/plain": [
       "<Figure size 432x288 with 1 Axes>"
      ]
     },
     "metadata": {
      "needs_background": "light"
     },
     "output_type": "display_data"
    }
   ],
   "source": [
    "plot_function(f, 'x', 'x**2')"
   ]
  },
  {
   "cell_type": "code",
   "execution_count": 45,
   "metadata": {
    "executionInfo": {
     "elapsed": 658,
     "status": "aborted",
     "timestamp": 1649251873578,
     "user": {
      "displayName": "Artyom K",
      "userId": "12649678934369183118"
     },
     "user_tz": -180
    },
    "id": "NiwPrh9F_oDg"
   },
   "outputs": [
    {
     "data": {
      "image/png": "[encoded data removed]",
      "text/plain": [
       "<Figure size 432x288 with 1 Axes>"
      ]
     },
     "metadata": {
      "needs_background": "light"
     },
     "output_type": "display_data"
    }
   ],
   "source": [
    "plot_function(f, 'x', 'x**2')\n",
    "plt.scatter(-1.5, f(-1.5), color='red');"
   ]
  },
  {
   "cell_type": "markdown",
   "metadata": {
    "id": "OaNKg0mT_oDg"
   },
   "source": [
    "### Calculating Gradients"
   ]
  },
  {
   "cell_type": "code",
   "execution_count": 46,
   "metadata": {
    "executionInfo": {
     "elapsed": 658,
     "status": "aborted",
     "timestamp": 1649251873578,
     "user": {
      "displayName": "Artyom K",
      "userId": "12649678934369183118"
     },
     "user_tz": -180
    },
    "id": "BFwj9Ysn_oDg"
   },
   "outputs": [],
   "source": [
    "xt = tensor(3.).requires_grad_()"
   ]
  },
  {
   "cell_type": "code",
   "execution_count": 47,
   "metadata": {
    "executionInfo": {
     "elapsed": 657,
     "status": "aborted",
     "timestamp": 1649251873578,
     "user": {
      "displayName": "Artyom K",
      "userId": "12649678934369183118"
     },
     "user_tz": -180
    },
    "id": "-PEDk63Q_oDg"
   },
   "outputs": [
    {
     "data": {
      "text/plain": [
       "tensor(9., grad_fn=<PowBackward0>)"
      ]
     },
     "execution_count": 47,
     "metadata": {},
     "output_type": "execute_result"
    }
   ],
   "source": [
    "yt = f(xt)\n",
    "yt"
   ]
  },
  {
   "cell_type": "code",
   "execution_count": 48,
   "metadata": {
    "executionInfo": {
     "elapsed": 658,
     "status": "aborted",
     "timestamp": 1649251873579,
     "user": {
      "displayName": "Artyom K",
      "userId": "12649678934369183118"
     },
     "user_tz": -180
    },
    "id": "77jfH6zW_oDh"
   },
   "outputs": [],
   "source": [
    "yt.backward()"
   ]
  },
  {
   "cell_type": "code",
   "execution_count": 49,
   "metadata": {
    "executionInfo": {
     "elapsed": 658,
     "status": "aborted",
     "timestamp": 1649251873579,
     "user": {
      "displayName": "Artyom K",
      "userId": "12649678934369183118"
     },
     "user_tz": -180
    },
    "id": "skSLMtei_oDh"
   },
   "outputs": [
    {
     "data": {
      "text/plain": [
       "tensor(6.)"
      ]
     },
     "execution_count": 49,
     "metadata": {},
     "output_type": "execute_result"
    }
   ],
   "source": [
    "xt.grad"
   ]
  },
  {
   "cell_type": "code",
   "execution_count": 50,
   "metadata": {
    "executionInfo": {
     "elapsed": 659,
     "status": "aborted",
     "timestamp": 1649251873580,
     "user": {
      "displayName": "Artyom K",
      "userId": "12649678934369183118"
     },
     "user_tz": -180
    },
    "id": "OoXyKS82_oDh"
   },
   "outputs": [
    {
     "data": {
      "text/plain": [
       "tensor([ 3.,  4., 10.], requires_grad=True)"
      ]
     },
     "execution_count": 50,
     "metadata": {},
     "output_type": "execute_result"
    }
   ],
   "source": [
    "xt = tensor([3.,4.,10.]).requires_grad_()\n",
    "xt"
   ]
  },
  {
   "cell_type": "code",
   "execution_count": 51,
   "metadata": {
    "executionInfo": {
     "elapsed": 660,
     "status": "aborted",
     "timestamp": 1649251873582,
     "user": {
      "displayName": "Artyom K",
      "userId": "12649678934369183118"
     },
     "user_tz": -180
    },
    "id": "tWhVqaow_oDh"
   },
   "outputs": [
    {
     "data": {
      "text/plain": [
       "tensor(125., grad_fn=<SumBackward0>)"
      ]
     },
     "execution_count": 51,
     "metadata": {},
     "output_type": "execute_result"
    }
   ],
   "source": [
    "def f(x): return (x**2).sum()\n",
    "\n",
    "yt = f(xt)\n",
    "yt"
   ]
  },
  {
   "cell_type": "code",
   "execution_count": 52,
   "metadata": {
    "executionInfo": {
     "elapsed": 662,
     "status": "aborted",
     "timestamp": 1649251873584,
     "user": {
      "displayName": "Artyom K",
      "userId": "12649678934369183118"
     },
     "user_tz": -180
    },
    "id": "A_IWMaw8_oDi"
   },
   "outputs": [
    {
     "data": {
      "text/plain": [
       "tensor([ 6.,  8., 20.])"
      ]
     },
     "execution_count": 52,
     "metadata": {},
     "output_type": "execute_result"
    }
   ],
   "source": [
    "yt.backward()\n",
    "xt.grad"
   ]
  },
  {
   "cell_type": "markdown",
   "metadata": {
    "id": "pd59J1TQ_oDi"
   },
   "source": [
    "### Stepping With a Learning Rate"
   ]
  },
  {
   "cell_type": "markdown",
   "metadata": {
    "id": "P_16rhXi_oDi"
   },
   "source": [
    "### An End-to-End SGD Example"
   ]
  },
  {
   "cell_type": "code",
   "execution_count": 53,
   "metadata": {
    "executionInfo": {
     "elapsed": 663,
     "status": "aborted",
     "timestamp": 1649251873585,
     "user": {
      "displayName": "Artyom K",
      "userId": "12649678934369183118"
     },
     "user_tz": -180
    },
    "id": "m0--PosL_oDi"
   },
   "outputs": [
    {
     "data": {
      "text/plain": [
       "tensor([ 0.,  1.,  2.,  3.,  4.,  5.,  6.,  7.,  8.,  9., 10., 11., 12., 13., 14., 15., 16., 17., 18., 19.])"
      ]
     },
     "execution_count": 53,
     "metadata": {},
     "output_type": "execute_result"
    }
   ],
   "source": [
    "time = torch.arange(0,20).float(); time"
   ]
  },
  {
   "cell_type": "code",
   "execution_count": 54,
   "metadata": {
    "executionInfo": {
     "elapsed": 663,
     "status": "aborted",
     "timestamp": 1649251873585,
     "user": {
      "displayName": "Artyom K",
      "userId": "12649678934369183118"
     },
     "user_tz": -180
    },
    "id": "udTH7BYU_oDi"
   },
   "outputs": [
    {
     "data": {
      "image/png": "[encoded data removed]",
      "text/plain": [
       "<Figure size 432x288 with 1 Axes>"
      ]
     },
     "metadata": {
      "needs_background": "light"
     },
     "output_type": "display_data"
    }
   ],
   "source": [
    "speed = torch.randn(20)*3 + 0.75*(time-9.5)**2 + 1\n",
    "plt.scatter(time,speed);"
   ]
  },
  {
   "cell_type": "code",
   "execution_count": 55,
   "metadata": {
    "executionInfo": {
     "elapsed": 664,
     "status": "aborted",
     "timestamp": 1649251873586,
     "user": {
      "displayName": "Artyom K",
      "userId": "12649678934369183118"
     },
     "user_tz": -180
    },
    "id": "nNu0CL9S_oDj"
   },
   "outputs": [],
   "source": [
    "def f(t, params):\n",
    "    a,b,c = params\n",
    "    return a*(t**2) + (b*t) + c"
   ]
  },
  {
   "cell_type": "code",
   "execution_count": 56,
   "metadata": {
    "executionInfo": {
     "elapsed": 666,
     "status": "aborted",
     "timestamp": 1649251873589,
     "user": {
      "displayName": "Artyom K",
      "userId": "12649678934369183118"
     },
     "user_tz": -180
    },
    "id": "P11saP2g_oDj"
   },
   "outputs": [],
   "source": [
    "def mse(preds, targets): return ((preds-targets)**2).mean().sqrt()"
   ]
  },
  {
   "cell_type": "markdown",
   "metadata": {
    "id": "0agmHHjh_oDj"
   },
   "source": [
    "#### Step 1: Initialize the parameters"
   ]
  },
  {
   "cell_type": "code",
   "execution_count": 57,
   "metadata": {
    "executionInfo": {
     "elapsed": 75,
     "status": "aborted",
     "timestamp": 1649251873590,
     "user": {
      "displayName": "Artyom K",
      "userId": "12649678934369183118"
     },
     "user_tz": -180
    },
    "id": "Si1LbpMp_oDj"
   },
   "outputs": [],
   "source": [
    "params = torch.randn(3).requires_grad_()"
   ]
  },
  {
   "cell_type": "code",
   "execution_count": 58,
   "metadata": {
    "executionInfo": {
     "elapsed": 76,
     "status": "aborted",
     "timestamp": 1649251873591,
     "user": {
      "displayName": "Artyom K",
      "userId": "12649678934369183118"
     },
     "user_tz": -180
    },
    "id": "7xU5M383_oDk"
   },
   "outputs": [],
   "source": [
    "#hide\n",
    "orig_params = params.clone()"
   ]
  },
  {
   "cell_type": "markdown",
   "metadata": {
    "id": "NawaVeY9_oDk"
   },
   "source": [
    "#### Step 2: Calculate the predictions"
   ]
  },
  {
   "cell_type": "code",
   "execution_count": 59,
   "metadata": {
    "executionInfo": {
     "elapsed": 78,
     "status": "aborted",
     "timestamp": 1649251873593,
     "user": {
      "displayName": "Artyom K",
      "userId": "12649678934369183118"
     },
     "user_tz": -180
    },
    "id": "cnn2q6B2_oDk"
   },
   "outputs": [],
   "source": [
    "preds = f(time, params)"
   ]
  },
  {
   "cell_type": "code",
   "execution_count": 60,
   "metadata": {
    "executionInfo": {
     "elapsed": 76,
     "status": "aborted",
     "timestamp": 1649251873593,
     "user": {
      "displayName": "Artyom K",
      "userId": "12649678934369183118"
     },
     "user_tz": -180
    },
    "id": "8Ge3lHau_oDk"
   },
   "outputs": [],
   "source": [
    "def show_preds(preds, ax=None):\n",
    "    if ax is None: ax=plt.subplots()[1]\n",
    "    ax.scatter(time, speed)\n",
    "    ax.scatter(time, to_np(preds), color='red')\n",
    "    ax.set_ylim(-300,100)"
   ]
  },
  {
   "cell_type": "code",
   "execution_count": 61,
   "metadata": {
    "executionInfo": {
     "elapsed": 77,
     "status": "aborted",
     "timestamp": 1649251873594,
     "user": {
      "displayName": "Artyom K",
      "userId": "12649678934369183118"
     },
     "user_tz": -180
    },
    "id": "9JUpHv9Q_oDk"
   },
   "outputs": [
    {
     "data": {
      "image/png": "[encoded data removed]",
      "text/plain": [
       "<Figure size 432x288 with 1 Axes>"
      ]
     },
     "metadata": {
      "needs_background": "light"
     },
     "output_type": "display_data"
    }
   ],
   "source": [
    "show_preds(preds)"
   ]
  },
  {
   "cell_type": "markdown",
   "metadata": {
    "id": "iGWNmbs-_oDl"
   },
   "source": [
    "#### Step 3: Calculate the loss"
   ]
  },
  {
   "cell_type": "code",
   "execution_count": 62,
   "metadata": {
    "executionInfo": {
     "elapsed": 77,
     "status": "aborted",
     "timestamp": 1649251873595,
     "user": {
      "displayName": "Artyom K",
      "userId": "12649678934369183118"
     },
     "user_tz": -180
    },
    "id": "ziCR1Nhw_oDl"
   },
   "outputs": [
    {
     "data": {
      "text/plain": [
       "tensor(160.6979, grad_fn=<SqrtBackward0>)"
      ]
     },
     "execution_count": 62,
     "metadata": {},
     "output_type": "execute_result"
    }
   ],
   "source": [
    "loss = mse(preds, speed)\n",
    "loss"
   ]
  },
  {
   "cell_type": "markdown",
   "metadata": {
    "id": "h0gmSoDd_oDl"
   },
   "source": [
    "#### Step 4: Calculate the gradients"
   ]
  },
  {
   "cell_type": "code",
   "execution_count": 63,
   "metadata": {
    "executionInfo": {
     "elapsed": 77,
     "status": "aborted",
     "timestamp": 1649251873595,
     "user": {
      "displayName": "Artyom K",
      "userId": "12649678934369183118"
     },
     "user_tz": -180
    },
    "id": "dFowBHtA_oDl"
   },
   "outputs": [
    {
     "data": {
      "text/plain": [
       "tensor([-165.5151,  -10.6402,   -0.7900])"
      ]
     },
     "execution_count": 63,
     "metadata": {},
     "output_type": "execute_result"
    }
   ],
   "source": [
    "loss.backward()\n",
    "params.grad"
   ]
  },
  {
   "cell_type": "code",
   "execution_count": 64,
   "metadata": {
    "executionInfo": {
     "elapsed": 78,
     "status": "aborted",
     "timestamp": 1649251873596,
     "user": {
      "displayName": "Artyom K",
      "userId": "12649678934369183118"
     },
     "user_tz": -180
    },
    "id": "1ghabNKL_oDl"
   },
   "outputs": [
    {
     "data": {
      "text/plain": [
       "tensor([-1.6552e-03, -1.0640e-04, -7.8996e-06])"
      ]
     },
     "execution_count": 64,
     "metadata": {},
     "output_type": "execute_result"
    }
   ],
   "source": [
    "params.grad * 1e-5"
   ]
  },
  {
   "cell_type": "code",
   "execution_count": 65,
   "metadata": {
    "executionInfo": {
     "elapsed": 79,
     "status": "aborted",
     "timestamp": 1649251873597,
     "user": {
      "displayName": "Artyom K",
      "userId": "12649678934369183118"
     },
     "user_tz": -180
    },
    "id": "ULEbSB2w_oDm"
   },
   "outputs": [
    {
     "data": {
      "text/plain": [
       "tensor([-0.7658, -0.7506,  1.3525], requires_grad=True)"
      ]
     },
     "execution_count": 65,
     "metadata": {},
     "output_type": "execute_result"
    }
   ],
   "source": [
    "params"
   ]
  },
  {
   "cell_type": "markdown",
   "metadata": {
    "id": "co8fZJig_oDn"
   },
   "source": [
    "#### Step 5: Step the weights. "
   ]
  },
  {
   "cell_type": "code",
   "execution_count": 66,
   "metadata": {
    "executionInfo": {
     "elapsed": 78,
     "status": "aborted",
     "timestamp": 1649251873597,
     "user": {
      "displayName": "Artyom K",
      "userId": "12649678934369183118"
     },
     "user_tz": -180
    },
    "id": "QVAlyii9_oDn"
   },
   "outputs": [],
   "source": [
    "lr = 1e-5\n",
    "params.data -= lr * params.grad.data\n",
    "params.grad = None"
   ]
  },
  {
   "cell_type": "code",
   "execution_count": 67,
   "metadata": {
    "executionInfo": {
     "elapsed": 79,
     "status": "aborted",
     "timestamp": 1649251873598,
     "user": {
      "displayName": "Artyom K",
      "userId": "12649678934369183118"
     },
     "user_tz": -180
    },
    "id": "VWXnpc5Z_oDn"
   },
   "outputs": [
    {
     "data": {
      "text/plain": [
       "tensor(160.4228, grad_fn=<SqrtBackward0>)"
      ]
     },
     "execution_count": 67,
     "metadata": {},
     "output_type": "execute_result"
    }
   ],
   "source": [
    "preds = f(time,params)\n",
    "mse(preds, speed)"
   ]
  },
  {
   "cell_type": "code",
   "execution_count": 68,
   "metadata": {
    "executionInfo": {
     "elapsed": 77,
     "status": "aborted",
     "timestamp": 1649251873598,
     "user": {
      "displayName": "Artyom K",
      "userId": "12649678934369183118"
     },
     "user_tz": -180
    },
    "id": "4m2bEjzc_oDn"
   },
   "outputs": [
    {
     "data": {
      "image/png": "[encoded data removed]",
      "text/plain": [
       "<Figure size 432x288 with 1 Axes>"
      ]
     },
     "metadata": {
      "needs_background": "light"
     },
     "output_type": "display_data"
    }
   ],
   "source": [
    "show_preds(preds)"
   ]
  },
  {
   "cell_type": "code",
   "execution_count": 69,
   "metadata": {
    "executionInfo": {
     "elapsed": 78,
     "status": "aborted",
     "timestamp": 1649251873599,
     "user": {
      "displayName": "Artyom K",
      "userId": "12649678934369183118"
     },
     "user_tz": -180
    },
    "id": "E1kZQxdN_oDn"
   },
   "outputs": [],
   "source": [
    "def apply_step(params, prn=True):\n",
    "    preds = f(time, params)\n",
    "    loss = mse(preds, speed)\n",
    "    loss.backward()\n",
    "    params.data -= lr * params.grad.data\n",
    "    params.grad = None\n",
    "    if prn: print(loss.item())\n",
    "    return preds"
   ]
  },
  {
   "cell_type": "markdown",
   "metadata": {
    "id": "_ym0GrH5_oDo"
   },
   "source": [
    "#### Step 6: Repeat the process "
   ]
  },
  {
   "cell_type": "code",
   "execution_count": 70,
   "metadata": {
    "executionInfo": {
     "elapsed": 78,
     "status": "aborted",
     "timestamp": 1649251873600,
     "user": {
      "displayName": "Artyom K",
      "userId": "12649678934369183118"
     },
     "user_tz": -180
    },
    "id": "Rxubmvrc_oDo"
   },
   "outputs": [
    {
     "name": "stdout",
     "output_type": "stream",
     "text": [
      "160.42279052734375\n",
      "160.14772033691406\n",
      "159.87269592285156\n",
      "159.59768676757812\n",
      "159.3227081298828\n",
      "159.04774475097656\n",
      "158.7728271484375\n",
      "158.4979248046875\n",
      "158.22305297851562\n",
      "157.9481964111328\n"
     ]
    }
   ],
   "source": [
    "for i in range(10): apply_step(params)"
   ]
  },
  {
   "cell_type": "code",
   "execution_count": 71,
   "metadata": {
    "executionInfo": {
     "elapsed": 78,
     "status": "aborted",
     "timestamp": 1649251873600,
     "user": {
      "displayName": "Artyom K",
      "userId": "12649678934369183118"
     },
     "user_tz": -180
    },
    "id": "Rh_jchUM_oDo"
   },
   "outputs": [],
   "source": [
    "#hide\n",
    "params = orig_params.detach().requires_grad_()"
   ]
  },
  {
   "cell_type": "code",
   "execution_count": 72,
   "metadata": {
    "executionInfo": {
     "elapsed": 79,
     "status": "aborted",
     "timestamp": 1649251873601,
     "user": {
      "displayName": "Artyom K",
      "userId": "12649678934369183118"
     },
     "user_tz": -180
    },
    "id": "ApVFxzw-_oDo"
   },
   "outputs": [
    {
     "data": {
      "image/png": "[encoded data removed]",
      "text/plain": [
       "<Figure size 864x216 with 4 Axes>"
      ]
     },
     "metadata": {
      "needs_background": "light"
     },
     "output_type": "display_data"
    }
   ],
   "source": [
    "_,axs = plt.subplots(1,4,figsize=(12,3))\n",
    "for ax in axs: show_preds(apply_step(params, False), ax)\n",
    "plt.tight_layout()"
   ]
  },
  {
   "cell_type": "markdown",
   "metadata": {
    "id": "JKVOYCKO_oDo"
   },
   "source": [
    "#### Step 7: stop"
   ]
  },
  {
   "cell_type": "markdown",
   "metadata": {
    "id": "FenWGOHd_oDp"
   },
   "source": [
    "### Summarizing Gradient Descent"
   ]
  },
  {
   "cell_type": "code",
   "execution_count": 73,
   "metadata": {
    "executionInfo": {
     "elapsed": 79,
     "status": "aborted",
     "timestamp": 1649251873602,
     "user": {
      "displayName": "Artyom K",
      "userId": "12649678934369183118"
     },
     "user_tz": -180
    },
    "id": "qBg-t-C0_oDp"
   },
   "outputs": [
    {
     "data": {
      "image/svg+xml": [
       "<?xml version=\"1.0\" encoding=\"UTF-8\" standalone=\"no\"?>\n",
       "<!DOCTYPE svg PUBLIC \"-//W3C//DTD SVG 1.1//EN\"\n",
       " \"http://www.w3.org/Graphics/SVG/1.1/DTD/svg11.dtd\">\n",
       "<!-- Generated by graphviz version 2.40.1 (20161225.0304)\n",
       " -->\n",
       "<!-- Title: G Pages: 1 -->\n",
       "<svg width=\"661pt\" height=\"78pt\"\n",
       " viewBox=\"0.00 0.00 660.87 78.00\" xmlns=\"http://www.w3.org/2000/svg\" xmlns:xlink=\"http://www.w3.org/1999/xlink\">\n",
       "<g id=\"graph0\" class=\"graph\" transform=\"scale(1 1) rotate(0) translate(4 74)\">\n",
       "<title>G</title>\n",
       "<polygon fill=\"#ffffff\" stroke=\"transparent\" points=\"-4,4 -4,-74 656.8674,-74 656.8674,4 -4,4\"/>\n",
       "<!-- init -->\n",
       "<g id=\"node1\" class=\"node\">\n",
       "<title>init</title>\n",
       "<ellipse fill=\"none\" stroke=\"#000000\" cx=\"27\" cy=\"-18\" rx=\"27\" ry=\"18\"/>\n",
       "<text text-anchor=\"middle\" x=\"27\" y=\"-14.3\" font-family=\"Times,serif\" font-size=\"14.00\" fill=\"#000000\">init</text>\n",
       "</g>\n",
       "<!-- predict -->\n",
       "<g id=\"node2\" class=\"node\">\n",
       "<title>predict</title>\n",
       "<ellipse fill=\"none\" stroke=\"#000000\" cx=\"135.1961\" cy=\"-18\" rx=\"44.393\" ry=\"18\"/>\n",
       "<text text-anchor=\"middle\" x=\"135.1961\" y=\"-14.3\" font-family=\"Times,serif\" font-size=\"14.00\" fill=\"#000000\">predict</text>\n",
       "</g>\n",
       "<!-- init&#45;&gt;predict -->\n",
       "<g id=\"edge1\" class=\"edge\">\n",
       "<title>init&#45;&gt;predict</title>\n",
       "<path fill=\"none\" stroke=\"#000000\" d=\"M54.0233,-18C62.2052,-18 71.5004,-18 80.807,-18\"/>\n",
       "<polygon fill=\"#000000\" stroke=\"#000000\" points=\"80.8581,-21.5001 90.8581,-18 80.8581,-14.5001 80.8581,-21.5001\"/>\n",
       "</g>\n",
       "<!-- loss -->\n",
       "<g id=\"node3\" class=\"node\">\n",
       "<title>loss</title>\n",
       "<ellipse fill=\"none\" stroke=\"#000000\" cx=\"244.9896\" cy=\"-52\" rx=\"28.6953\" ry=\"18\"/>\n",
       "<text text-anchor=\"middle\" x=\"244.9896\" y=\"-48.3\" font-family=\"Times,serif\" font-size=\"14.00\" fill=\"#000000\">loss</text>\n",
       "</g>\n",
       "<!-- predict&#45;&gt;loss -->\n",
       "<g id=\"edge2\" class=\"edge\">\n",
       "<title>predict&#45;&gt;loss</title>\n",
       "<path fill=\"none\" stroke=\"#000000\" d=\"M170.5398,-28.945C183.0049,-32.8051 197.0171,-37.1442 209.4946,-41.0082\"/>\n",
       "<polygon fill=\"#000000\" stroke=\"#000000\" points=\"208.5256,-44.372 219.1135,-43.9869 210.5964,-37.6853 208.5256,-44.372\"/>\n",
       "</g>\n",
       "<!-- gradient -->\n",
       "<g id=\"node4\" class=\"node\">\n",
       "<title>gradient</title>\n",
       "<ellipse fill=\"none\" stroke=\"#000000\" cx=\"406.6326\" cy=\"-52\" rx=\"50.0912\" ry=\"18\"/>\n",
       "<text text-anchor=\"middle\" x=\"406.6326\" y=\"-48.3\" font-family=\"Times,serif\" font-size=\"14.00\" fill=\"#000000\">gradient</text>\n",
       "</g>\n",
       "<!-- loss&#45;&gt;gradient -->\n",
       "<g id=\"edge3\" class=\"edge\">\n",
       "<title>loss&#45;&gt;gradient</title>\n",
       "<path fill=\"none\" stroke=\"#000000\" d=\"M273.8882,-52C294.001,-52 321.5533,-52 346.345,-52\"/>\n",
       "<polygon fill=\"#000000\" stroke=\"#000000\" points=\"346.4084,-55.5001 356.4084,-52 346.4083,-48.5001 346.4084,-55.5001\"/>\n",
       "</g>\n",
       "<!-- step -->\n",
       "<g id=\"node5\" class=\"node\">\n",
       "<title>step</title>\n",
       "<ellipse fill=\"none\" stroke=\"#000000\" cx=\"524.2255\" cy=\"-18\" rx=\"30.5947\" ry=\"18\"/>\n",
       "<text text-anchor=\"middle\" x=\"524.2255\" y=\"-14.3\" font-family=\"Times,serif\" font-size=\"14.00\" fill=\"#000000\">step</text>\n",
       "</g>\n",
       "<!-- gradient&#45;&gt;step -->\n",
       "<g id=\"edge4\" class=\"edge\">\n",
       "<title>gradient&#45;&gt;step</title>\n",
       "<path fill=\"none\" stroke=\"#000000\" d=\"M445.7894,-40.6785C459.0996,-36.8301 473.9269,-32.543 487.0756,-28.7413\"/>\n",
       "<polygon fill=\"#000000\" stroke=\"#000000\" points=\"488.1159,-32.0839 496.7503,-25.944 486.1716,-25.3593 488.1159,-32.0839\"/>\n",
       "</g>\n",
       "<!-- step&#45;&gt;predict -->\n",
       "<g id=\"edge6\" class=\"edge\">\n",
       "<title>step&#45;&gt;predict</title>\n",
       "<path fill=\"none\" stroke=\"#000000\" d=\"M493.641,-18C427.9565,-18 272.6518,-18 189.6803,-18\"/>\n",
       "<polygon fill=\"#000000\" stroke=\"#000000\" points=\"189.444,-14.5001 179.4439,-18 189.4439,-21.5001 189.444,-14.5001\"/>\n",
       "<text text-anchor=\"middle\" x=\"315.0871\" y=\"-21.8\" font-family=\"Times,serif\" font-size=\"14.00\" fill=\"#000000\">repeat</text>\n",
       "</g>\n",
       "<!-- stop -->\n",
       "<g id=\"node6\" class=\"node\">\n",
       "<title>stop</title>\n",
       "<ellipse fill=\"none\" stroke=\"#000000\" cx=\"622.3201\" cy=\"-18\" rx=\"30.5947\" ry=\"18\"/>\n",
       "<text text-anchor=\"middle\" x=\"622.3201\" y=\"-14.3\" font-family=\"Times,serif\" font-size=\"14.00\" fill=\"#000000\">stop</text>\n",
       "</g>\n",
       "<!-- step&#45;&gt;stop -->\n",
       "<g id=\"edge5\" class=\"edge\">\n",
       "<title>step&#45;&gt;stop</title>\n",
       "<path fill=\"none\" stroke=\"#000000\" d=\"M554.9941,-18C563.3941,-18 572.6288,-18 581.4946,-18\"/>\n",
       "<polygon fill=\"#000000\" stroke=\"#000000\" points=\"581.6607,-21.5001 591.6607,-18 581.6606,-14.5001 581.6607,-21.5001\"/>\n",
       "</g>\n",
       "</g>\n",
       "</svg>\n"
      ],
      "text/plain": [
       "<graphviz.sources.Source at 0x7f7b7c0051d0>"
      ]
     },
     "execution_count": 73,
     "metadata": {},
     "output_type": "execute_result"
    }
   ],
   "source": [
    "gv('''\n",
    "init->predict->loss->gradient->step->stop\n",
    "step->predict[label=repeat]\n",
    "''')"
   ]
  },
  {
   "cell_type": "markdown",
   "metadata": {
    "id": "0ErIfDkN_oDp"
   },
   "source": [
    "## The MNIST Loss Function"
   ]
  },
  {
   "cell_type": "code",
   "execution_count": 74,
   "metadata": {
    "executionInfo": {
     "elapsed": 79,
     "status": "aborted",
     "timestamp": 1649251873602,
     "user": {
      "displayName": "Artyom K",
      "userId": "12649678934369183118"
     },
     "user_tz": -180
    },
    "id": "PYBImOL6_oDp"
   },
   "outputs": [],
   "source": [
    "train_x = torch.cat([stacked_threes, stacked_sevens]).view(-1, 28*28)"
   ]
  },
  {
   "cell_type": "code",
   "execution_count": 75,
   "metadata": {
    "executionInfo": {
     "elapsed": 80,
     "status": "aborted",
     "timestamp": 1649251873603,
     "user": {
      "displayName": "Artyom K",
      "userId": "12649678934369183118"
     },
     "user_tz": -180
    },
    "id": "Flw2ymID_oDp"
   },
   "outputs": [
    {
     "data": {
      "text/plain": [
       "(torch.Size([12396, 784]), torch.Size([12396, 1]))"
      ]
     },
     "execution_count": 75,
     "metadata": {},
     "output_type": "execute_result"
    }
   ],
   "source": [
    "train_y = tensor([1]*len(threes) + [0]*len(sevens)).unsqueeze(1)\n",
    "train_x.shape,train_y.shape"
   ]
  },
  {
   "cell_type": "code",
   "execution_count": 76,
   "metadata": {
    "executionInfo": {
     "elapsed": 81,
     "status": "aborted",
     "timestamp": 1649251873604,
     "user": {
      "displayName": "Artyom K",
      "userId": "12649678934369183118"
     },
     "user_tz": -180
    },
    "id": "E1tS0Aqg_oDq"
   },
   "outputs": [
    {
     "data": {
      "text/plain": [
       "(torch.Size([784]), tensor([1]))"
      ]
     },
     "execution_count": 76,
     "metadata": {},
     "output_type": "execute_result"
    }
   ],
   "source": [
    "dset = list(zip(train_x,train_y))\n",
    "x,y = dset[0]\n",
    "x.shape,y"
   ]
  },
  {
   "cell_type": "code",
   "execution_count": 77,
   "metadata": {
    "executionInfo": {
     "elapsed": 82,
     "status": "aborted",
     "timestamp": 1649251873605,
     "user": {
      "displayName": "Artyom K",
      "userId": "12649678934369183118"
     },
     "user_tz": -180
    },
    "id": "veh95JNJ_oDq"
   },
   "outputs": [],
   "source": [
    "valid_x = torch.cat([valid_3_tens, valid_7_tens]).view(-1, 28*28)\n",
    "valid_y = tensor([1]*len(valid_3_tens) + [0]*len(valid_7_tens)).unsqueeze(1)\n",
    "valid_dset = list(zip(valid_x,valid_y))"
   ]
  },
  {
   "cell_type": "code",
   "execution_count": 78,
   "metadata": {
    "executionInfo": {
     "elapsed": 82,
     "status": "aborted",
     "timestamp": 1649251873606,
     "user": {
      "displayName": "Artyom K",
      "userId": "12649678934369183118"
     },
     "user_tz": -180
    },
    "id": "4saN4WtJ_oDq"
   },
   "outputs": [],
   "source": [
    "def init_params(size, std=1.0): return (torch.randn(size)*std).requires_grad_()"
   ]
  },
  {
   "cell_type": "code",
   "execution_count": 79,
   "metadata": {
    "executionInfo": {
     "elapsed": 81,
     "status": "aborted",
     "timestamp": 1649251873606,
     "user": {
      "displayName": "Artyom K",
      "userId": "12649678934369183118"
     },
     "user_tz": -180
    },
    "id": "P8Ke4Xxr_oDq"
   },
   "outputs": [],
   "source": [
    "weights = init_params((28*28,1))"
   ]
  },
  {
   "cell_type": "code",
   "execution_count": 80,
   "metadata": {
    "executionInfo": {
     "elapsed": 81,
     "status": "aborted",
     "timestamp": 1649251873606,
     "user": {
      "displayName": "Artyom K",
      "userId": "12649678934369183118"
     },
     "user_tz": -180
    },
    "id": "vEeZVW-z_oDr"
   },
   "outputs": [],
   "source": [
    "bias = init_params(1)"
   ]
  },
  {
   "cell_type": "code",
   "execution_count": 81,
   "metadata": {
    "executionInfo": {
     "elapsed": 82,
     "status": "aborted",
     "timestamp": 1649251873607,
     "user": {
      "displayName": "Artyom K",
      "userId": "12649678934369183118"
     },
     "user_tz": -180
    },
    "id": "u9OFtR6w_oDs"
   },
   "outputs": [
    {
     "data": {
      "text/plain": [
       "tensor([20.2336], grad_fn=<AddBackward0>)"
      ]
     },
     "execution_count": 81,
     "metadata": {},
     "output_type": "execute_result"
    }
   ],
   "source": [
    "(train_x[0]*weights.T).sum() + bias"
   ]
  },
  {
   "cell_type": "code",
   "execution_count": 82,
   "metadata": {
    "executionInfo": {
     "elapsed": 81,
     "status": "aborted",
     "timestamp": 1649251873607,
     "user": {
      "displayName": "Artyom K",
      "userId": "12649678934369183118"
     },
     "user_tz": -180
    },
    "id": "se2hT2Az_oDs"
   },
   "outputs": [
    {
     "data": {
      "text/plain": [
       "tensor([[20.2336],\n",
       "        [17.0644],\n",
       "        [15.2384],\n",
       "        ...,\n",
       "        [18.3804],\n",
       "        [23.8567],\n",
       "        [28.6816]], grad_fn=<AddBackward0>)"
      ]
     },
     "execution_count": 82,
     "metadata": {},
     "output_type": "execute_result"
    }
   ],
   "source": [
    "def linear1(xb): return xb@weights + bias\n",
    "preds = linear1(train_x)\n",
    "preds"
   ]
  },
  {
   "cell_type": "code",
   "execution_count": 83,
   "metadata": {
    "executionInfo": {
     "elapsed": 81,
     "status": "aborted",
     "timestamp": 1649251873607,
     "user": {
      "displayName": "Artyom K",
      "userId": "12649678934369183118"
     },
     "user_tz": -180
    },
    "id": "bzNicHfU_oDs"
   },
   "outputs": [
    {
     "data": {
      "text/plain": [
       "tensor([[ True],\n",
       "        [ True],\n",
       "        [ True],\n",
       "        ...,\n",
       "        [False],\n",
       "        [False],\n",
       "        [False]])"
      ]
     },
     "execution_count": 83,
     "metadata": {},
     "output_type": "execute_result"
    }
   ],
   "source": [
    "corrects = (preds>0.5).float() == train_y\n",
    "corrects"
   ]
  },
  {
   "cell_type": "code",
   "execution_count": 84,
   "metadata": {
    "executionInfo": {
     "elapsed": 82,
     "status": "aborted",
     "timestamp": 1649251873608,
     "user": {
      "displayName": "Artyom K",
      "userId": "12649678934369183118"
     },
     "user_tz": -180
    },
    "id": "GXWLMxYv_oDs"
   },
   "outputs": [
    {
     "data": {
      "text/plain": [
       "0.49080348014831543"
      ]
     },
     "execution_count": 84,
     "metadata": {},
     "output_type": "execute_result"
    }
   ],
   "source": [
    "corrects.float().mean().item()"
   ]
  },
  {
   "cell_type": "code",
   "execution_count": 87,
   "metadata": {
    "executionInfo": {
     "elapsed": 82,
     "status": "aborted",
     "timestamp": 1649251873608,
     "user": {
      "displayName": "Artyom K",
      "userId": "12649678934369183118"
     },
     "user_tz": -180
    },
    "id": "X6ErhFzb_oDt"
   },
   "outputs": [],
   "source": [
    "#weights[0] = weights[0] * 1.0001"
   ]
  },
  {
   "cell_type": "code",
   "execution_count": 88,
   "metadata": {
    "executionInfo": {
     "elapsed": 83,
     "status": "aborted",
     "timestamp": 1649251873609,
     "user": {
      "displayName": "Artyom K",
      "userId": "12649678934369183118"
     },
     "user_tz": -180
    },
    "id": "qSdRDiXN_oDt"
   },
   "outputs": [
    {
     "data": {
      "text/plain": [
       "0.4912068545818329"
      ]
     },
     "execution_count": 88,
     "metadata": {},
     "output_type": "execute_result"
    }
   ],
   "source": [
    "preds = linear1(train_x)\n",
    "((preds>0.0).float() == train_y).float().mean().item()"
   ]
  },
  {
   "cell_type": "code",
   "execution_count": 89,
   "metadata": {
    "executionInfo": {
     "elapsed": 81,
     "status": "aborted",
     "timestamp": 1649251873609,
     "user": {
      "displayName": "Artyom K",
      "userId": "12649678934369183118"
     },
     "user_tz": -180
    },
    "id": "dCqjBiFN_oDt"
   },
   "outputs": [],
   "source": [
    "trgts  = tensor([1,0,1])\n",
    "prds   = tensor([0.9, 0.4, 0.2])"
   ]
  },
  {
   "cell_type": "code",
   "execution_count": 90,
   "metadata": {
    "executionInfo": {
     "elapsed": 82,
     "status": "aborted",
     "timestamp": 1649251873610,
     "user": {
      "displayName": "Artyom K",
      "userId": "12649678934369183118"
     },
     "user_tz": -180
    },
    "id": "tSoDcrt4_oDt"
   },
   "outputs": [],
   "source": [
    "def mnist_loss(predictions, targets):\n",
    "    return torch.where(targets==1, 1-predictions, predictions).mean()"
   ]
  },
  {
   "cell_type": "code",
   "execution_count": 91,
   "metadata": {
    "executionInfo": {
     "elapsed": 82,
     "status": "aborted",
     "timestamp": 1649251873610,
     "user": {
      "displayName": "Artyom K",
      "userId": "12649678934369183118"
     },
     "user_tz": -180
    },
    "id": "kNjKFjVX_oDt"
   },
   "outputs": [
    {
     "data": {
      "text/plain": [
       "tensor([0.1000, 0.4000, 0.8000])"
      ]
     },
     "execution_count": 91,
     "metadata": {},
     "output_type": "execute_result"
    }
   ],
   "source": [
    "torch.where(trgts==1, 1-prds, prds)"
   ]
  },
  {
   "cell_type": "code",
   "execution_count": 92,
   "metadata": {
    "executionInfo": {
     "elapsed": 81,
     "status": "aborted",
     "timestamp": 1649251873610,
     "user": {
      "displayName": "Artyom K",
      "userId": "12649678934369183118"
     },
     "user_tz": -180
    },
    "id": "1Aqwhona_oDt"
   },
   "outputs": [
    {
     "data": {
      "text/plain": [
       "tensor(0.4333)"
      ]
     },
     "execution_count": 92,
     "metadata": {},
     "output_type": "execute_result"
    }
   ],
   "source": [
    "mnist_loss(prds,trgts)"
   ]
  },
  {
   "cell_type": "code",
   "execution_count": 93,
   "metadata": {
    "executionInfo": {
     "elapsed": 82,
     "status": "aborted",
     "timestamp": 1649251873611,
     "user": {
      "displayName": "Artyom K",
      "userId": "12649678934369183118"
     },
     "user_tz": -180
    },
    "id": "U2rM_gcS_oDu"
   },
   "outputs": [
    {
     "data": {
      "text/plain": [
       "tensor(0.2333)"
      ]
     },
     "execution_count": 93,
     "metadata": {},
     "output_type": "execute_result"
    }
   ],
   "source": [
    "mnist_loss(tensor([0.9, 0.4, 0.8]),trgts)"
   ]
  },
  {
   "cell_type": "markdown",
   "metadata": {
    "id": "Q_cGlB7i_oDu"
   },
   "source": [
    "### Sigmoid"
   ]
  },
  {
   "cell_type": "code",
   "execution_count": 94,
   "metadata": {
    "executionInfo": {
     "elapsed": 82,
     "status": "aborted",
     "timestamp": 1649251873611,
     "user": {
      "displayName": "Artyom K",
      "userId": "12649678934369183118"
     },
     "user_tz": -180
    },
    "id": "diCUYjOc_oDu"
   },
   "outputs": [],
   "source": [
    "def sigmoid(x): return 1/(1+torch.exp(-x))"
   ]
  },
  {
   "cell_type": "code",
   "execution_count": null,
   "metadata": {
    "executionInfo": {
     "elapsed": 82,
     "status": "aborted",
     "timestamp": 1649251873611,
     "user": {
      "displayName": "Artyom K",
      "userId": "12649678934369183118"
     },
     "user_tz": -180
    },
    "id": "KjyQM8GK_oDu"
   },
   "outputs": [],
   "source": [
    "plot_function(torch.sigmoid, title='Sigmoid', min=-4, max=4)"
   ]
  },
  {
   "cell_type": "code",
   "execution_count": null,
   "metadata": {
    "executionInfo": {
     "elapsed": 82,
     "status": "aborted",
     "timestamp": 1649251873612,
     "user": {
      "displayName": "Artyom K",
      "userId": "12649678934369183118"
     },
     "user_tz": -180
    },
    "id": "iVJqOCJf_oDu"
   },
   "outputs": [],
   "source": [
    "def mnist_loss(predictions, targets):\n",
    "    predictions = predictions.sigmoid()\n",
    "    return torch.where(targets==1, 1-predictions, predictions).mean()"
   ]
  },
  {
   "cell_type": "markdown",
   "metadata": {
    "id": "em8d0eAO_oDu"
   },
   "source": [
    "### SGD and Mini-Batches"
   ]
  },
  {
   "cell_type": "code",
   "execution_count": null,
   "metadata": {
    "executionInfo": {
     "elapsed": 82,
     "status": "aborted",
     "timestamp": 1649251873612,
     "user": {
      "displayName": "Artyom K",
      "userId": "12649678934369183118"
     },
     "user_tz": -180
    },
    "id": "D1A5XXP-_oDv"
   },
   "outputs": [],
   "source": [
    "coll = range(15)\n",
    "dl = DataLoader(coll, batch_size=5, shuffle=True)\n",
    "list(dl)"
   ]
  },
  {
   "cell_type": "code",
   "execution_count": null,
   "metadata": {
    "executionInfo": {
     "elapsed": 83,
     "status": "aborted",
     "timestamp": 1649251873613,
     "user": {
      "displayName": "Artyom K",
      "userId": "12649678934369183118"
     },
     "user_tz": -180
    },
    "id": "zq9I2prt_oDv"
   },
   "outputs": [],
   "source": [
    "ds = L(enumerate(string.ascii_lowercase))\n",
    "ds"
   ]
  },
  {
   "cell_type": "code",
   "execution_count": null,
   "metadata": {
    "executionInfo": {
     "elapsed": 82,
     "status": "aborted",
     "timestamp": 1649251873613,
     "user": {
      "displayName": "Artyom K",
      "userId": "12649678934369183118"
     },
     "user_tz": -180
    },
    "id": "IINcOS0o_oDv"
   },
   "outputs": [],
   "source": [
    "dl = DataLoader(ds, batch_size=6, shuffle=True)\n",
    "list(dl)"
   ]
  },
  {
   "cell_type": "markdown",
   "metadata": {
    "id": "IKFqlSuM_oDv"
   },
   "source": [
    "## Putting It All Together"
   ]
  },
  {
   "cell_type": "code",
   "execution_count": null,
   "metadata": {
    "executionInfo": {
     "elapsed": 82,
     "status": "aborted",
     "timestamp": 1649251873613,
     "user": {
      "displayName": "Artyom K",
      "userId": "12649678934369183118"
     },
     "user_tz": -180
    },
    "id": "Ilbo8iUc_oDw"
   },
   "outputs": [],
   "source": [
    "weights = init_params((28*28,1))\n",
    "bias = init_params(1)"
   ]
  },
  {
   "cell_type": "code",
   "execution_count": null,
   "metadata": {
    "executionInfo": {
     "elapsed": 83,
     "status": "aborted",
     "timestamp": 1649251873614,
     "user": {
      "displayName": "Artyom K",
      "userId": "12649678934369183118"
     },
     "user_tz": -180
    },
    "id": "GjJJMsJH_oDw"
   },
   "outputs": [],
   "source": [
    "dl = DataLoader(dset, batch_size=256)\n",
    "xb,yb = first(dl)\n",
    "xb.shape,yb.shape"
   ]
  },
  {
   "cell_type": "code",
   "execution_count": null,
   "metadata": {
    "executionInfo": {
     "elapsed": 82,
     "status": "aborted",
     "timestamp": 1649251873614,
     "user": {
      "displayName": "Artyom K",
      "userId": "12649678934369183118"
     },
     "user_tz": -180
    },
    "id": "QzLBwuwb_oDw"
   },
   "outputs": [],
   "source": [
    "valid_dl = DataLoader(valid_dset, batch_size=256)"
   ]
  },
  {
   "cell_type": "code",
   "execution_count": null,
   "metadata": {
    "executionInfo": {
     "elapsed": 82,
     "status": "aborted",
     "timestamp": 1649251873615,
     "user": {
      "displayName": "Artyom K",
      "userId": "12649678934369183118"
     },
     "user_tz": -180
    },
    "id": "hJtl7p3Z_oDw"
   },
   "outputs": [],
   "source": [
    "batch = train_x[:4]\n",
    "batch.shape"
   ]
  },
  {
   "cell_type": "code",
   "execution_count": null,
   "metadata": {
    "executionInfo": {
     "elapsed": 82,
     "status": "aborted",
     "timestamp": 1649251873616,
     "user": {
      "displayName": "Artyom K",
      "userId": "12649678934369183118"
     },
     "user_tz": -180
    },
    "id": "dEAPDhnw_oDx"
   },
   "outputs": [],
   "source": [
    "preds = linear1(batch)\n",
    "preds"
   ]
  },
  {
   "cell_type": "code",
   "execution_count": null,
   "metadata": {
    "executionInfo": {
     "elapsed": 82,
     "status": "aborted",
     "timestamp": 1649251873616,
     "user": {
      "displayName": "Artyom K",
      "userId": "12649678934369183118"
     },
     "user_tz": -180
    },
    "id": "BFeZF7Cl_oDx"
   },
   "outputs": [],
   "source": [
    "loss = mnist_loss(preds, train_y[:4])\n",
    "loss"
   ]
  },
  {
   "cell_type": "code",
   "execution_count": null,
   "metadata": {
    "executionInfo": {
     "elapsed": 83,
     "status": "aborted",
     "timestamp": 1649251873617,
     "user": {
      "displayName": "Artyom K",
      "userId": "12649678934369183118"
     },
     "user_tz": -180
    },
    "id": "1gQPy_gR_oDx"
   },
   "outputs": [],
   "source": [
    "loss.backward()\n",
    "weights.grad.shape,weights.grad.mean(),bias.grad"
   ]
  },
  {
   "cell_type": "code",
   "execution_count": null,
   "metadata": {
    "executionInfo": {
     "elapsed": 83,
     "status": "aborted",
     "timestamp": 1649251873617,
     "user": {
      "displayName": "Artyom K",
      "userId": "12649678934369183118"
     },
     "user_tz": -180
    },
    "id": "2M5u4C9s_oDy"
   },
   "outputs": [],
   "source": [
    "def calc_grad(xb, yb, model):\n",
    "    preds = model(xb)\n",
    "    loss = mnist_loss(preds, yb)\n",
    "    loss.backward()"
   ]
  },
  {
   "cell_type": "code",
   "execution_count": null,
   "metadata": {
    "executionInfo": {
     "elapsed": 82,
     "status": "aborted",
     "timestamp": 1649251873617,
     "user": {
      "displayName": "Artyom K",
      "userId": "12649678934369183118"
     },
     "user_tz": -180
    },
    "id": "L81M1imm_oDy"
   },
   "outputs": [],
   "source": [
    "calc_grad(batch, train_y[:4], linear1)\n",
    "weights.grad.mean(),bias.grad"
   ]
  },
  {
   "cell_type": "code",
   "execution_count": null,
   "metadata": {
    "executionInfo": {
     "elapsed": 82,
     "status": "aborted",
     "timestamp": 1649251873618,
     "user": {
      "displayName": "Artyom K",
      "userId": "12649678934369183118"
     },
     "user_tz": -180
    },
    "id": "ybTqqozk_oDy"
   },
   "outputs": [],
   "source": [
    "calc_grad(batch, train_y[:4], linear1)\n",
    "weights.grad.mean(),bias.grad"
   ]
  },
  {
   "cell_type": "code",
   "execution_count": null,
   "metadata": {
    "executionInfo": {
     "elapsed": 82,
     "status": "aborted",
     "timestamp": 1649251873618,
     "user": {
      "displayName": "Artyom K",
      "userId": "12649678934369183118"
     },
     "user_tz": -180
    },
    "id": "bJHD_hNi_oDy"
   },
   "outputs": [],
   "source": [
    "weights.grad.zero_()\n",
    "bias.grad.zero_();"
   ]
  },
  {
   "cell_type": "code",
   "execution_count": null,
   "metadata": {
    "executionInfo": {
     "elapsed": 83,
     "status": "aborted",
     "timestamp": 1649251873619,
     "user": {
      "displayName": "Artyom K",
      "userId": "12649678934369183118"
     },
     "user_tz": -180
    },
    "id": "ZQFwrmme_oDz"
   },
   "outputs": [],
   "source": [
    "def train_epoch(model, lr, params):\n",
    "    for xb,yb in dl:\n",
    "        calc_grad(xb, yb, model)\n",
    "        for p in params:\n",
    "            p.data -= p.grad*lr\n",
    "            p.grad.zero_()"
   ]
  },
  {
   "cell_type": "code",
   "execution_count": null,
   "metadata": {
    "executionInfo": {
     "elapsed": 84,
     "status": "aborted",
     "timestamp": 1649251873620,
     "user": {
      "displayName": "Artyom K",
      "userId": "12649678934369183118"
     },
     "user_tz": -180
    },
    "id": "meCCMTrN_oDz"
   },
   "outputs": [],
   "source": [
    "(preds>0.0).float() == train_y[:4]"
   ]
  },
  {
   "cell_type": "code",
   "execution_count": null,
   "metadata": {
    "executionInfo": {
     "elapsed": 83,
     "status": "aborted",
     "timestamp": 1649251873620,
     "user": {
      "displayName": "Artyom K",
      "userId": "12649678934369183118"
     },
     "user_tz": -180
    },
    "id": "NKGNmjA6_oDz"
   },
   "outputs": [],
   "source": [
    "def batch_accuracy(xb, yb):\n",
    "    preds = xb.sigmoid()\n",
    "    correct = (preds>0.5) == yb\n",
    "    return correct.float().mean()"
   ]
  },
  {
   "cell_type": "code",
   "execution_count": null,
   "metadata": {
    "executionInfo": {
     "elapsed": 84,
     "status": "aborted",
     "timestamp": 1649251873621,
     "user": {
      "displayName": "Artyom K",
      "userId": "12649678934369183118"
     },
     "user_tz": -180
    },
    "id": "tgGTYjjv_oDz"
   },
   "outputs": [],
   "source": [
    "batch_accuracy(linear1(batch), train_y[:4])"
   ]
  },
  {
   "cell_type": "code",
   "execution_count": null,
   "metadata": {
    "executionInfo": {
     "elapsed": 84,
     "status": "aborted",
     "timestamp": 1649251873621,
     "user": {
      "displayName": "Artyom K",
      "userId": "12649678934369183118"
     },
     "user_tz": -180
    },
    "id": "_qVvIPJg_oDz"
   },
   "outputs": [],
   "source": [
    "def validate_epoch(model):\n",
    "    accs = [batch_accuracy(model(xb), yb) for xb,yb in valid_dl]\n",
    "    return round(torch.stack(accs).mean().item(), 4)"
   ]
  },
  {
   "cell_type": "code",
   "execution_count": null,
   "metadata": {
    "executionInfo": {
     "elapsed": 84,
     "status": "aborted",
     "timestamp": 1649251873621,
     "user": {
      "displayName": "Artyom K",
      "userId": "12649678934369183118"
     },
     "user_tz": -180
    },
    "id": "J3fp8Puf_oDz"
   },
   "outputs": [],
   "source": [
    "validate_epoch(linear1)"
   ]
  },
  {
   "cell_type": "code",
   "execution_count": null,
   "metadata": {
    "executionInfo": {
     "elapsed": 84,
     "status": "aborted",
     "timestamp": 1649251873622,
     "user": {
      "displayName": "Artyom K",
      "userId": "12649678934369183118"
     },
     "user_tz": -180
    },
    "id": "BZoTAO53_oDz"
   },
   "outputs": [],
   "source": [
    "lr = 1.\n",
    "params = weights,bias\n",
    "train_epoch(linear1, lr, params)\n",
    "validate_epoch(linear1)"
   ]
  },
  {
   "cell_type": "code",
   "execution_count": null,
   "metadata": {
    "executionInfo": {
     "elapsed": 84,
     "status": "aborted",
     "timestamp": 1649251873622,
     "user": {
      "displayName": "Artyom K",
      "userId": "12649678934369183118"
     },
     "user_tz": -180
    },
    "id": "Ig1JptKh_oD0"
   },
   "outputs": [],
   "source": [
    "for i in range(20):\n",
    "    train_epoch(linear1, lr, params)\n",
    "    print(validate_epoch(linear1), end=' ')"
   ]
  },
  {
   "cell_type": "markdown",
   "metadata": {
    "id": "K63zqIA1_oD0"
   },
   "source": [
    "### Creating an Optimizer"
   ]
  },
  {
   "cell_type": "code",
   "execution_count": null,
   "metadata": {
    "executionInfo": {
     "elapsed": 84,
     "status": "aborted",
     "timestamp": 1649251873622,
     "user": {
      "displayName": "Artyom K",
      "userId": "12649678934369183118"
     },
     "user_tz": -180
    },
    "id": "zk1h2mh9_oD0"
   },
   "outputs": [],
   "source": [
    "linear_model = nn.Linear(28*28,1)"
   ]
  },
  {
   "cell_type": "code",
   "execution_count": null,
   "metadata": {
    "executionInfo": {
     "elapsed": 84,
     "status": "aborted",
     "timestamp": 1649251873623,
     "user": {
      "displayName": "Artyom K",
      "userId": "12649678934369183118"
     },
     "user_tz": -180
    },
    "id": "0M5oVsCo_oD0"
   },
   "outputs": [],
   "source": [
    "w,b = linear_model.parameters()\n",
    "w.shape,b.shape"
   ]
  },
  {
   "cell_type": "code",
   "execution_count": null,
   "metadata": {
    "executionInfo": {
     "elapsed": 84,
     "status": "aborted",
     "timestamp": 1649251873623,
     "user": {
      "displayName": "Artyom K",
      "userId": "12649678934369183118"
     },
     "user_tz": -180
    },
    "id": "302qknus_oD0"
   },
   "outputs": [],
   "source": [
    "class BasicOptim:\n",
    "    def __init__(self,params,lr): self.params,self.lr = list(params),lr\n",
    "\n",
    "    def step(self, *args, **kwargs):\n",
    "        for p in self.params: p.data -= p.grad.data * self.lr\n",
    "\n",
    "    def zero_grad(self, *args, **kwargs):\n",
    "        for p in self.params: p.grad = None"
   ]
  },
  {
   "cell_type": "code",
   "execution_count": null,
   "metadata": {
    "executionInfo": {
     "elapsed": 83,
     "status": "aborted",
     "timestamp": 1649251873623,
     "user": {
      "displayName": "Artyom K",
      "userId": "12649678934369183118"
     },
     "user_tz": -180
    },
    "id": "CnEnXcrB_oD0"
   },
   "outputs": [],
   "source": [
    "opt = BasicOptim(linear_model.parameters(), lr)"
   ]
  },
  {
   "cell_type": "code",
   "execution_count": null,
   "metadata": {
    "executionInfo": {
     "elapsed": 83,
     "status": "aborted",
     "timestamp": 1649251873624,
     "user": {
      "displayName": "Artyom K",
      "userId": "12649678934369183118"
     },
     "user_tz": -180
    },
    "id": "FPw_ho3m_oD1"
   },
   "outputs": [],
   "source": [
    "def train_epoch(model):\n",
    "    for xb,yb in dl:\n",
    "        calc_grad(xb, yb, model)\n",
    "        opt.step()\n",
    "        opt.zero_grad()"
   ]
  },
  {
   "cell_type": "code",
   "execution_count": null,
   "metadata": {
    "executionInfo": {
     "elapsed": 84,
     "status": "aborted",
     "timestamp": 1649251873625,
     "user": {
      "displayName": "Artyom K",
      "userId": "12649678934369183118"
     },
     "user_tz": -180
    },
    "id": "r9lzsF7j_oD1"
   },
   "outputs": [],
   "source": [
    "validate_epoch(linear_model)"
   ]
  },
  {
   "cell_type": "code",
   "execution_count": null,
   "metadata": {
    "executionInfo": {
     "elapsed": 83,
     "status": "aborted",
     "timestamp": 1649251873625,
     "user": {
      "displayName": "Artyom K",
      "userId": "12649678934369183118"
     },
     "user_tz": -180
    },
    "id": "YoDr2z1w_oD1"
   },
   "outputs": [],
   "source": [
    "def train_model(model, epochs):\n",
    "    for i in range(epochs):\n",
    "        train_epoch(model)\n",
    "        print(validate_epoch(model), end=' ')"
   ]
  },
  {
   "cell_type": "code",
   "execution_count": null,
   "metadata": {
    "executionInfo": {
     "elapsed": 84,
     "status": "aborted",
     "timestamp": 1649251873626,
     "user": {
      "displayName": "Artyom K",
      "userId": "12649678934369183118"
     },
     "user_tz": -180
    },
    "id": "HIRZ5-PI_oD1"
   },
   "outputs": [],
   "source": [
    "train_model(linear_model, 20)"
   ]
  },
  {
   "cell_type": "code",
   "execution_count": null,
   "metadata": {
    "executionInfo": {
     "elapsed": 84,
     "status": "aborted",
     "timestamp": 1649251873626,
     "user": {
      "displayName": "Artyom K",
      "userId": "12649678934369183118"
     },
     "user_tz": -180
    },
    "id": "sZbyqeO0_oD1"
   },
   "outputs": [],
   "source": [
    "linear_model = nn.Linear(28*28,1)\n",
    "opt = SGD(linear_model.parameters(), lr)\n",
    "train_model(linear_model, 20)"
   ]
  },
  {
   "cell_type": "code",
   "execution_count": null,
   "metadata": {
    "executionInfo": {
     "elapsed": 83,
     "status": "aborted",
     "timestamp": 1649251873626,
     "user": {
      "displayName": "Artyom K",
      "userId": "12649678934369183118"
     },
     "user_tz": -180
    },
    "id": "Zo4DMddO_oD1"
   },
   "outputs": [],
   "source": [
    "dls = DataLoaders(dl, valid_dl)"
   ]
  },
  {
   "cell_type": "code",
   "execution_count": null,
   "metadata": {
    "executionInfo": {
     "elapsed": 84,
     "status": "aborted",
     "timestamp": 1649251873627,
     "user": {
      "displayName": "Artyom K",
      "userId": "12649678934369183118"
     },
     "user_tz": -180
    },
    "id": "QcZ4RG2g_oD1"
   },
   "outputs": [],
   "source": [
    "learn = Learner(dls, nn.Linear(28*28,1), opt_func=SGD,\n",
    "                loss_func=mnist_loss, metrics=batch_accuracy)"
   ]
  },
  {
   "cell_type": "code",
   "execution_count": null,
   "metadata": {
    "executionInfo": {
     "elapsed": 85,
     "status": "aborted",
     "timestamp": 1649251873628,
     "user": {
      "displayName": "Artyom K",
      "userId": "12649678934369183118"
     },
     "user_tz": -180
    },
    "id": "EmMIUw5b_oD2"
   },
   "outputs": [],
   "source": [
    "learn.fit(10, lr=lr)"
   ]
  },
  {
   "cell_type": "markdown",
   "metadata": {
    "id": "ExYBl-OX_oD2"
   },
   "source": [
    "## Adding a Nonlinearity"
   ]
  },
  {
   "cell_type": "code",
   "execution_count": null,
   "metadata": {
    "executionInfo": {
     "elapsed": 85,
     "status": "aborted",
     "timestamp": 1649251873628,
     "user": {
      "displayName": "Artyom K",
      "userId": "12649678934369183118"
     },
     "user_tz": -180
    },
    "id": "2OEt5Nys_oD2"
   },
   "outputs": [],
   "source": [
    "def simple_net(xb): \n",
    "    res = xb@w1 + b1\n",
    "    res = res.max(tensor(0.0))\n",
    "    res = res@w2 + b2\n",
    "    return res"
   ]
  },
  {
   "cell_type": "code",
   "execution_count": null,
   "metadata": {
    "executionInfo": {
     "elapsed": 84,
     "status": "aborted",
     "timestamp": 1649251873628,
     "user": {
      "displayName": "Artyom K",
      "userId": "12649678934369183118"
     },
     "user_tz": -180
    },
    "id": "hY03fK87_oD2"
   },
   "outputs": [],
   "source": [
    "w1 = init_params((28*28,30))\n",
    "b1 = init_params(30)\n",
    "w2 = init_params((30,1))\n",
    "b2 = init_params(1)"
   ]
  },
  {
   "cell_type": "code",
   "execution_count": null,
   "metadata": {
    "executionInfo": {
     "elapsed": 85,
     "status": "aborted",
     "timestamp": 1649251873629,
     "user": {
      "displayName": "Artyom K",
      "userId": "12649678934369183118"
     },
     "user_tz": -180
    },
    "id": "CjZSScn4_oD2"
   },
   "outputs": [],
   "source": [
    "plot_function(F.relu)"
   ]
  },
  {
   "cell_type": "code",
   "execution_count": null,
   "metadata": {
    "executionInfo": {
     "elapsed": 85,
     "status": "aborted",
     "timestamp": 1649251873629,
     "user": {
      "displayName": "Artyom K",
      "userId": "12649678934369183118"
     },
     "user_tz": -180
    },
    "id": "OdQl5wxA_oD2"
   },
   "outputs": [],
   "source": [
    "simple_net = nn.Sequential(\n",
    "    nn.Linear(28*28,30),\n",
    "    nn.ReLU(),\n",
    "    nn.Linear(30,1)\n",
    ")"
   ]
  },
  {
   "cell_type": "code",
   "execution_count": null,
   "metadata": {
    "executionInfo": {
     "elapsed": 86,
     "status": "aborted",
     "timestamp": 1649251873630,
     "user": {
      "displayName": "Artyom K",
      "userId": "12649678934369183118"
     },
     "user_tz": -180
    },
    "id": "kBAfaC-I_oD2"
   },
   "outputs": [],
   "source": [
    "learn = Learner(dls, simple_net, opt_func=SGD,\n",
    "                loss_func=mnist_loss, metrics=batch_accuracy)"
   ]
  },
  {
   "cell_type": "code",
   "execution_count": null,
   "metadata": {
    "executionInfo": {
     "elapsed": 86,
     "status": "aborted",
     "timestamp": 1649251873630,
     "user": {
      "displayName": "Artyom K",
      "userId": "12649678934369183118"
     },
     "user_tz": -180
    },
    "id": "2Br1R6Yf_oD2"
   },
   "outputs": [],
   "source": [
    "learn.fit(40, 0.1)"
   ]
  },
  {
   "cell_type": "code",
   "execution_count": null,
   "metadata": {
    "executionInfo": {
     "elapsed": 88,
     "status": "aborted",
     "timestamp": 1649251873632,
     "user": {
      "displayName": "Artyom K",
      "userId": "12649678934369183118"
     },
     "user_tz": -180
    },
    "id": "2IFVg7y5_oD2"
   },
   "outputs": [],
   "source": [
    "plt.plot(L(learn.recorder.values).itemgot(2));"
   ]
  },
  {
   "cell_type": "code",
   "execution_count": null,
   "metadata": {
    "executionInfo": {
     "elapsed": 89,
     "status": "aborted",
     "timestamp": 1649251873633,
     "user": {
      "displayName": "Artyom K",
      "userId": "12649678934369183118"
     },
     "user_tz": -180
    },
    "id": "vMPjDwdZ_oD2"
   },
   "outputs": [],
   "source": [
    "learn.recorder.values[-1][2]"
   ]
  },
  {
   "cell_type": "markdown",
   "metadata": {
    "id": "tBnOH7qs_oD2"
   },
   "source": [
    "### Going Deeper"
   ]
  },
  {
   "cell_type": "code",
   "execution_count": null,
   "metadata": {
    "executionInfo": {
     "elapsed": 88,
     "status": "aborted",
     "timestamp": 1649251873633,
     "user": {
      "displayName": "Artyom K",
      "userId": "12649678934369183118"
     },
     "user_tz": -180
    },
    "id": "du_vFLNl_oD3"
   },
   "outputs": [],
   "source": [
    "dls = ImageDataLoaders.from_folder(path)\n",
    "learn = cnn_learner(dls, resnet18, pretrained=False,\n",
    "                    loss_func=F.cross_entropy, metrics=accuracy)\n",
    "learn.fit_one_cycle(1, 0.1)"
   ]
  },
  {
   "cell_type": "markdown",
   "metadata": {
    "id": "2Q-a3NO2_oD3"
   },
   "source": [
    "## Jargon Recap"
   ]
  },
  {
   "cell_type": "markdown",
   "metadata": {
    "id": "BBaG6xQt_oD3"
   },
   "source": [
    "## Questionnaire"
   ]
  },
  {
   "cell_type": "markdown",
   "metadata": {
    "id": "Js5hWNYj_oD3"
   },
   "source": [
    "1. How is a grayscale image represented on a computer? How about a color image?\n",
    "\n",
    "// RGB. Or grayscale 0..255. \n",
    "\n",
    "1. How are the files and folders in the `MNIST_SAMPLE` dataset structured? Why?\n",
    "\n",
    "labels as folders. \n",
    "\n",
    "1. Explain how the \"pixel similarity\" approach to classifying digits works.\n",
    "\n",
    "How far a pixel from an image from our model. \n",
    "\n",
    "1. What is a list comprehension? Create one now that selects odd numbers from a list and doubles them.\n",
    "shape\n",
    "[i*2 for i in range(20) if i % 2 == 1]\n",
    "\n",
    "1. What is a \"rank-3 tensor\"?\n",
    "\n",
    "A matrix with 3 dimensions or 3 axis.\n",
    "\n",
    "1. What is the difference between tensor rank and shape? How do you get the rank from the shape?\n",
    "\n",
    "Rank - len(tensor.shape), number of dimensions or axes. Shape - number of items on each axis or size of each axes.\n",
    "\n",
    "1. What are RMSE and L1 norm?\n",
    "\n",
    "Root mean squared error. \n",
    "L1 - abs diff mean error.\n",
    "\n",
    "1. How can you apply a calculation on thousands of numbers at once, many thousands of times faster than a Python loop?\n",
    "\n",
    "Using a tensor or numpy array.\n",
    "\n",
    "1. Create a 3×3 tensor or array containing the numbers from 1 to 9. Double it. Select the bottom-right four numbers.\n",
    "\n",
    "(torch.tensor([[i*3+j+1 for j in range(3)] for i in range(3)]) * 2)[-2:,-2:]\n",
    "\n",
    "1. What is broadcasting?\n",
    "\n",
    "tensor returned from tensor operations.\n",
    "\n",
    "1. Are metrics generally calculated using the training set, or the validation set? Why?\n",
    "1. What is SGD?\n",
    "1. Why does SGD use mini-batches?\n",
    "1. What are the seven steps in SGD for machine learning?\n",
    "1. How do we initialize the weights in a model?\n",
    "1. What is \"loss\"?\n",
    "1. Why can't we always use a high learning rate?\n",
    "1. What is a \"gradient\"?\n",
    "1. Do you need to know how to calculate gradients yourself?\n",
    "1. Why can't we use accuracy as a loss function?\n",
    "1. Draw the sigmoid function. What is special about its shape?\n",
    "1. What is the difference between a loss function and a metric?\n",
    "1. What is the function to calculate new weights using a learning rate?\n",
    "1. What does the `DataLoader` class do?\n",
    "1. Write pseudocode showing the basic steps taken in each epoch for SGD.\n",
    "1. Create a function that, if passed two arguments `[1,2,3,4]` and `'abcd'`, returns `[(1, 'a'), (2, 'b'), (3, 'c'), (4, 'd')]`. What is special about that output data structure?\n",
    "1. What does `view` do in PyTorch?\n",
    "1. What are the \"bias\" parameters in a neural network? Why do we need them?\n",
    "1. What does the `@` operator do in Python?\n",
    "1. What does the `backward` method do?\n",
    "1. Why do we have to zero the gradients?\n",
    "1. What information do we have to pass to `Learner`?\n",
    "1. Show Python or pseudocode for the basic steps of a training loop.\n",
    "1. What is \"ReLU\"? Draw a plot of it for values from `-2` to `+2`.\n",
    "1. What is an \"activation function\"?\n",
    "1. What's the difference between `F.relu` and `nn.ReLU`?\n",
    "1. The universal approximation theorem shows that any function can be approximated as closely as needed using just one nonlinearity. So why do we normally use more?"
   ]
  },
  {
   "cell_type": "markdown",
   "metadata": {
    "id": "_KkbwBfF_oD3"
   },
   "source": [
    "### Further Research"
   ]
  },
  {
   "cell_type": "markdown",
   "metadata": {
    "id": "m1odRDx5_oD3"
   },
   "source": [
    "1. Create your own implementation of `Learner` from scratch, based on the training loop shown in this chapter.\n",
    "1. Complete all the steps in this chapter using the full MNIST datasets (that is, for all digits, not just 3s and 7s). This is a significant project and will take you quite a bit of time to complete! You'll need to do some of your own research to figure out how to overcome some obstacles you'll meet on the way."
   ]
  },
  {
   "cell_type": "code",
   "execution_count": null,
   "metadata": {
    "executionInfo": {
     "elapsed": 88,
     "status": "aborted",
     "timestamp": 1649251873633,
     "user": {
      "displayName": "Artyom K",
      "userId": "12649678934369183118"
     },
     "user_tz": -180
    },
    "id": "bWk3kxek_oD4"
   },
   "outputs": [],
   "source": []
  }
 ],
 "metadata": {
  "accelerator": "GPU",
  "colab": {
   "machine_shape": "hm",
   "name": "Copy of 04_mnist_basics.ipynb",
   "provenance": [
    {
     "file_id": "https://github.com/fastai/fastbook/blob/master/clean/04_mnist_basics.ipynb",
     "timestamp": 1646901761076
    }
   ]
  },
  "jupytext": {
   "split_at_heading": true
  },
  "kernelspec": {
   "display_name": "Python 3 (ipykernel)",
   "language": "python",
   "name": "python3"
  },
  "language_info": {
   "codemirror_mode": {
    "name": "ipython",
    "version": 3
   },
   "file_extension": ".py",
   "mimetype": "text/x-python",
   "name": "python",
   "nbconvert_exporter": "python",
   "pygments_lexer": "ipython3",
   "version": "3.7.11"
  }
 },
 "nbformat": 4,
 "nbformat_minor": 4
}
