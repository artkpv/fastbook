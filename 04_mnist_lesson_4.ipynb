{
 "cells": [
  {
   "cell_type": "markdown",
   "id": "1836ffa1-3eab-4c36-8b4b-fcbf97dbc5ab",
   "metadata": {},
   "source": [
    "# Video 4\n",
    "\n",
    "## MNIST loss func\n",
    "\n"
   ]
  }
 ],
 "metadata": {
  "kernelspec": {
   "display_name": "Python 3 (ipykernel)",
   "language": "python",
   "name": "python3"
  },
  "language_info": {
   "codemirror_mode": {
    "name": "ipython",
    "version": 3
   },
   "file_extension": ".py",
   "mimetype": "text/x-python",
   "name": "python",
   "nbconvert_exporter": "python",
   "pygments_lexer": "ipython3",
   "version": "3.7.11"
  }
 },
 "nbformat": 4,
 "nbformat_minor": 5
}
