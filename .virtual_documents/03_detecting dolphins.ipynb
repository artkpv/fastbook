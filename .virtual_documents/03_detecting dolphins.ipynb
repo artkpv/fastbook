#!pip install voila
#!jupyter serverextension enable --sys-prefix voila 

from fastai.vision.all import *
from fastai.vision.widgets import *

path = Path()
path.ls(file_exts='.pkl')
learn_inf = load_learner(path/'export.pkl')

btn_upload = widgets.FileUpload()
out_pl = widgets.Output()
lbl_pred = widgets.Label()
btn_run = widgets.Button(description='Classify')

def on_click_classify(change):
    img = PILImage.create(btn_upload.data[-1])
    out_pl.clear_output()
    with out_pl: display(img.to_thumb(128,128))
    pred,pred_idx,probs = learn_inf.predict(img)
    lbl_pred.value = f'Prediction: {pred}; Probability: {probs[pred_idx]:.04f}'

btn_run.on_click(on_click_classify)

VBox([widgets.Label('Select your bear!'), 
      btn_upload, btn_run, out_pl, lbl_pred])



learn = cnn_learner(dls, resnet18, metrics=error_rate)
learn.fine_tune(4)
