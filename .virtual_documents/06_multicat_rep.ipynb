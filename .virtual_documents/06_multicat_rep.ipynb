get_ipython().run_line_magic("config", " Completer.use_jedi = False")

#hide
get_ipython().getoutput("pip install -Uqq fastbook")
import fastbook
from fastai.vision.all import *
from fastbook import *
fastbook.setup_book()


path = untar_data(URLs.PASCAL_2007)


df = pd.read_csv(path/'train.csv')
df.head()


from functools import join
cat(e.split(' ') for e in df['labels'])


def getx(e): return path/'train'/e['fname']
def gety(e): return e['labels'].split(' ')
dblock = DataBlock(
    blocks=(ImageBlock, MultiCategoryBlock),
    get_x = getx,
    get_y = gety,
   item_tfms = RandomResizedCrop(128, min_scale=0.35)
)
dls = dblock.dataloaders(df)
dls.show_batch()


learn = cnn_learner(dls, resnet18)


x,y = to_cpu(dls.train.one_batch())
activs = learn.model(x)
activs.shape



