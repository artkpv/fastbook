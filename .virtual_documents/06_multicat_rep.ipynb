get_ipython().run_line_magic("config", " Completer.use_jedi = False")

#hide
get_ipython().getoutput("pip install -Uqq fastbook")
import fastbook
from fastai.vision.all import *
from fastbook import *
fastbook.setup_book()


path = untar_data(URLs.PASCAL_2007)


df = pd.read_csv(path/'train.csv')
df.head()


def getx(e): return path/'train'/e['fname']
def gety(e): return e['labels'].split(' ')
dblock = DataBlock(
    blocks=(ImageBlock, MultiCategoryBlock),
    get_x = getx,
    get_y = gety,
    splitter = (lambda df: (df.index[~df['is_valid']].tolist(), df.index[df['is_valid']].tolist())),
    item_tfms = RandomResizedCrop(128, min_scale=0.35)
)
dls = dblock.dataloaders(df)


dls.show_batch()


def my_accuracy(inputs, targets, threshold=0.5, is_sigmoid=True):
    if is_sigmoid: inputs = inputs.sigmoid()
    return ((inputs >= threshold) == targets.bool()).float().mean()


learn = cnn_learner(dls, resnet18, metrics=partial(my_accuracy, threshold=0.5))


learn.loss_func, learn.metrics


learn.fine_tune(3, base_lr=3e-3, freeze_epochs=4)


pred, targets = learn.get_preds()
pred, targets


my_accuracy(pred, targets, threshold=0.9, is_sigmoid=False),  my_accuracy(pred, targets, threshold=0.1, is_sigmoid=False),  my_accuracy(pred, targets, threshold=0.5, is_sigmoid=False)


xs = torch.linspace(0.05,0.95,29)
accs = [accuracy_multi(pred, targets, thresh=i, sigmoid=False) for i in xs]
plt.plot(xs,accs);


samples = (path/'test').ls()[1,10,11]
res = []
for s in samples:
    show_image(Image.open(s))
    res += [(s, learn.predict(s)[0])]
res
