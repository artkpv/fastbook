{
 "cells": [
  {
   "cell_type": "code",
   "execution_count": 6,
   "metadata": {
    "colab": {
     "base_uri": "https://localhost:8080/"
    },
    "executionInfo": {
     "elapsed": 45400,
     "status": "ok",
     "timestamp": 1647521807861,
     "user": {
      "displayName": "Artyom K",
      "photoUrl": "https://lh3.googleusercontent.com/a-/AOh14GjoBfW1FZSjcvsuNyjmR7IM17-Em-GfX0IX3XatFg=s64",
      "userId": "12649678934369183118"
     },
     "user_tz": -180
    },
    "id": "-rRHYt6z8Auy",
    "outputId": "7a319d07-f5e2-44ba-8116-533ce745899d"
   },
   "outputs": [],
   "source": [
    "#hide\n",
    "!pip install -Uqq fastbook\n",
    "import fastbook\n",
    "fastbook.setup_book()\n",
    "#hide\n",
    "from fastai.vision.all import *\n",
    "from fastbook import *\n",
    "matplotlib.rc('image', cmap='Greys')"
   ]
  },
  {
   "cell_type": "code",
   "execution_count": 7,
   "metadata": {
    "colab": {
     "base_uri": "https://localhost:8080/",
     "height": 37
    },
    "executionInfo": {
     "elapsed": 3990,
     "status": "ok",
     "timestamp": 1647521811846,
     "user": {
      "displayName": "Artyom K",
      "photoUrl": "https://lh3.googleusercontent.com/a-/AOh14GjoBfW1FZSjcvsuNyjmR7IM17-Em-GfX0IX3XatFg=s64",
      "userId": "12649678934369183118"
     },
     "user_tz": -180
    },
    "id": "WqY2iP-T85Tl",
    "outputId": "e7104f9c-70c1-48d5-fe74-2f5b9bea9a6e"
   },
   "outputs": [],
   "source": [
    "path = untar_data(URLs.MNIST_SAMPLE)\n"
   ]
  },
  {
   "cell_type": "code",
   "execution_count": 8,
   "metadata": {
    "executionInfo": {
     "elapsed": 13,
     "status": "ok",
     "timestamp": 1647521811849,
     "user": {
      "displayName": "Artyom K",
      "photoUrl": "https://lh3.googleusercontent.com/a-/AOh14GjoBfW1FZSjcvsuNyjmR7IM17-Em-GfX0IX3XatFg=s64",
      "userId": "12649678934369183118"
     },
     "user_tz": -180
    },
    "id": "ARzm-crb9Hst"
   },
   "outputs": [],
   "source": [
    "Path.BASE_PATH = path"
   ]
  },
  {
   "cell_type": "code",
   "execution_count": 9,
   "metadata": {
    "colab": {
     "base_uri": "https://localhost:8080/"
    },
    "executionInfo": {
     "elapsed": 13,
     "status": "ok",
     "timestamp": 1647521811851,
     "user": {
      "displayName": "Artyom K",
      "photoUrl": "https://lh3.googleusercontent.com/a-/AOh14GjoBfW1FZSjcvsuNyjmR7IM17-Em-GfX0IX3XatFg=s64",
      "userId": "12649678934369183118"
     },
     "user_tz": -180
    },
    "id": "-pVGb7Kv-A50",
    "outputId": "2c2cb4a3-73a0-47eb-bd24-615b35e85bc3"
   },
   "outputs": [],
   "source": [
    "sevens = (path/'train/7').ls()\n",
    "threes = (path/'train/3').ls()\n",
    "sevens_stack = torch.stack([tensor(Image.open(o)) for o in sevens]).float() / 255\n",
    "threes_stack = torch.stack([tensor(Image.open(o)) for o in threes]).float() / 255\n"
   ]
  },
  {
   "cell_type": "code",
   "execution_count": 10,
   "metadata": {},
   "outputs": [],
   "source": [
    "mean7 = sevens_stack.mean(0)\n",
    "mean3 = threes_stack.mean(0)\n"
   ]
  },
  {
   "cell_type": "code",
   "execution_count": 11,
   "metadata": {},
   "outputs": [],
   "source": [
    "def minst_dist(a, b): return (a - b).abs().mean()"
   ]
  },
  {
   "cell_type": "code",
   "execution_count": 12,
   "metadata": {},
   "outputs": [],
   "source": [
    "def is_3(o): return minst_dist(o, mean3) < minst_dist(o, mean7)"
   ]
  },
  {
   "cell_type": "code",
   "execution_count": 13,
   "metadata": {},
   "outputs": [
    {
     "data": {
      "text/plain": [
       "tensor(False)"
      ]
     },
     "execution_count": 13,
     "metadata": {},
     "output_type": "execute_result"
    }
   ],
   "source": [
    "is_3(sevens_stack[3])"
   ]
  },
  {
   "cell_type": "code",
   "execution_count": 14,
   "metadata": {},
   "outputs": [],
   "source": [
    "valid_sevens_stack = torch.stack([tensor(Image.open(o)) for o in (path/'valid/7').ls()]).float() / 255\n",
    "valid_threes_stack = torch.stack([tensor(Image.open(o)) for o in (path/'valid/3').ls()]).float() / 255\n"
   ]
  },
  {
   "cell_type": "code",
   "execution_count": 15,
   "metadata": {},
   "outputs": [
    {
     "data": {
      "text/plain": [
       "(tensor(0.9854), tensor(0.9168))"
      ]
     },
     "execution_count": 15,
     "metadata": {},
     "output_type": "execute_result"
    }
   ],
   "source": [
    "(sum(1 - is_3(o).float() for o in valid_sevens_stack) / len(valid_sevens_stack),\n",
    "sum(is_3(o).float() for o in valid_threes_stack) / len(valid_threes_stack))\n"
   ]
  },
  {
   "cell_type": "code",
   "execution_count": null,
   "metadata": {},
   "outputs": [],
   "source": []
  },
  {
   "cell_type": "code",
   "execution_count": 16,
   "metadata": {},
   "outputs": [],
   "source": [
    "def f(x): return x**2\n"
   ]
  },
  {
   "cell_type": "code",
   "execution_count": 18,
   "metadata": {},
   "outputs": [
    {
     "data": {
      "image/png": "[encoded data removed]",
      "text/plain": [
       "<Figure size 432x288 with 1 Axes>"
      ]
     },
     "metadata": {
      "needs_background": "light"
     },
     "output_type": "display_data"
    }
   ],
   "source": [
    "plot_function(f, 'x', 'x**2')"
   ]
  },
  {
   "cell_type": "code",
   "execution_count": 33,
   "metadata": {},
   "outputs": [],
   "source": [
    "xt = tensor(3.).requires_grad_()  # "
   ]
  },
  {
   "cell_type": "code",
   "execution_count": 34,
   "metadata": {},
   "outputs": [
    {
     "data": {
      "text/plain": [
       "tensor(9., grad_fn=<PowBackward0>)"
      ]
     },
     "execution_count": 34,
     "metadata": {},
     "output_type": "execute_result"
    }
   ],
   "source": [
    "yt = f(xt)\n",
    "yt"
   ]
  },
  {
   "cell_type": "code",
   "execution_count": 35,
   "metadata": {},
   "outputs": [],
   "source": [
    "yt.backward()\n"
   ]
  },
  {
   "cell_type": "code",
   "execution_count": 36,
   "metadata": {},
   "outputs": [
    {
     "data": {
      "text/plain": [
       "tensor(9., grad_fn=<PowBackward0>)"
      ]
     },
     "execution_count": 36,
     "metadata": {},
     "output_type": "execute_result"
    }
   ],
   "source": [
    "yt"
   ]
  },
  {
   "cell_type": "code",
   "execution_count": 37,
   "metadata": {},
   "outputs": [
    {
     "data": {
      "text/plain": [
       "tensor(6.)"
      ]
     },
     "execution_count": 37,
     "metadata": {},
     "output_type": "execute_result"
    }
   ],
   "source": [
    "xt.grad"
   ]
  },
  {
   "cell_type": "code",
   "execution_count": null,
   "metadata": {},
   "outputs": [],
   "source": []
  }
 ],
 "metadata": {
  "accelerator": "GPU",
  "colab": {
   "authorship_tag": "ABX9TyMXRNm6Bzse7SAqUInecLMx",
   "machine_shape": "hm",
   "name": "04_mnist_basics_reproducing.ipynb",
   "provenance": []
  },
  "kernelspec": {
   "display_name": "Python 3 (ipykernel)",
   "language": "python",
   "name": "python3"
  },
  "language_info": {
   "codemirror_mode": {
    "name": "ipython",
    "version": 3
   },
   "file_extension": ".py",
   "mimetype": "text/x-python",
   "name": "python",
   "nbconvert_exporter": "python",
   "pygments_lexer": "ipython3",
   "version": "3.7.11"
  }
 },
 "nbformat": 4,
 "nbformat_minor": 4
}
