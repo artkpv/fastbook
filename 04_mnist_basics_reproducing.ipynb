{
 "cells": [
  {
   "cell_type": "code",
   "execution_count": 1,
   "metadata": {
    "colab": {
     "base_uri": "https://localhost:8080/"
    },
    "executionInfo": {
     "elapsed": 45400,
     "status": "ok",
     "timestamp": 1647521807861,
     "user": {
      "displayName": "Artyom K",
      "photoUrl": "https://lh3.googleusercontent.com/a-/AOh14GjoBfW1FZSjcvsuNyjmR7IM17-Em-GfX0IX3XatFg=s64",
      "userId": "12649678934369183118"
     },
     "user_tz": -180
    },
    "id": "-rRHYt6z8Auy",
    "outputId": "7a319d07-f5e2-44ba-8116-533ce745899d"
   },
   "outputs": [],
   "source": [
    "#hide\n",
    "!pip install -Uqq fastbook\n",
    "import fastbook\n",
    "fastbook.setup_book()\n",
    "#hide\n",
    "from fastai.vision.all import *\n",
    "from fastbook import *\n",
    "matplotlib.rc('image', cmap='Greys')"
   ]
  },
  {
   "cell_type": "code",
   "execution_count": 29,
   "metadata": {
    "colab": {
     "base_uri": "https://localhost:8080/",
     "height": 37
    },
    "executionInfo": {
     "elapsed": 3990,
     "status": "ok",
     "timestamp": 1647521811846,
     "user": {
      "displayName": "Artyom K",
      "photoUrl": "https://lh3.googleusercontent.com/a-/AOh14GjoBfW1FZSjcvsuNyjmR7IM17-Em-GfX0IX3XatFg=s64",
      "userId": "12649678934369183118"
     },
     "user_tz": -180
    },
    "id": "WqY2iP-T85Tl",
    "outputId": "e7104f9c-70c1-48d5-fe74-2f5b9bea9a6e"
   },
   "outputs": [],
   "source": [
    "path = untar_data(URLs.MNIST_SAMPLE)\n"
   ]
  },
  {
   "cell_type": "code",
   "execution_count": 32,
   "metadata": {
    "executionInfo": {
     "elapsed": 13,
     "status": "ok",
     "timestamp": 1647521811849,
     "user": {
      "displayName": "Artyom K",
      "photoUrl": "https://lh3.googleusercontent.com/a-/AOh14GjoBfW1FZSjcvsuNyjmR7IM17-Em-GfX0IX3XatFg=s64",
      "userId": "12649678934369183118"
     },
     "user_tz": -180
    },
    "id": "ARzm-crb9Hst"
   },
   "outputs": [],
   "source": [
    "Path.BASE_PATH = path"
   ]
  },
  {
   "cell_type": "code",
   "execution_count": 33,
   "metadata": {},
   "outputs": [
    {
     "data": {
      "text/plain": [
       "Path('.')"
      ]
     },
     "execution_count": 33,
     "metadata": {},
     "output_type": "execute_result"
    }
   ],
   "source": [
    "path"
   ]
  },
  {
   "cell_type": "code",
   "execution_count": 4,
   "metadata": {
    "colab": {
     "base_uri": "https://localhost:8080/"
    },
    "executionInfo": {
     "elapsed": 13,
     "status": "ok",
     "timestamp": 1647521811851,
     "user": {
      "displayName": "Artyom K",
      "photoUrl": "https://lh3.googleusercontent.com/a-/AOh14GjoBfW1FZSjcvsuNyjmR7IM17-Em-GfX0IX3XatFg=s64",
      "userId": "12649678934369183118"
     },
     "user_tz": -180
    },
    "id": "-pVGb7Kv-A50",
    "outputId": "2c2cb4a3-73a0-47eb-bd24-615b35e85bc3"
   },
   "outputs": [],
   "source": [
    "sevens = (path/'train/7').ls()\n",
    "threes = (path/'train/3').ls()\n",
    "sevens_stack = torch.stack([tensor(Image.open(o)) for o in sevens]).float() / 255\n",
    "threes_stack = torch.stack([tensor(Image.open(o)) for o in threes]).float() / 255\n"
   ]
  },
  {
   "cell_type": "code",
   "execution_count": 5,
   "metadata": {},
   "outputs": [],
   "source": [
    "mean7 = sevens_stack.mean(0)\n",
    "mean3 = threes_stack.mean(0)\n"
   ]
  },
  {
   "cell_type": "code",
   "execution_count": 6,
   "metadata": {},
   "outputs": [],
   "source": [
    "def minst_dist(a, b): return (a - b).abs().mean()"
   ]
  },
  {
   "cell_type": "code",
   "execution_count": 7,
   "metadata": {},
   "outputs": [],
   "source": [
    "def is_3(o): return minst_dist(o, mean3) < minst_dist(o, mean7)"
   ]
  },
  {
   "cell_type": "code",
   "execution_count": 8,
   "metadata": {},
   "outputs": [
    {
     "data": {
      "text/plain": [
       "tensor(False)"
      ]
     },
     "execution_count": 8,
     "metadata": {},
     "output_type": "execute_result"
    }
   ],
   "source": [
    "is_3(sevens_stack[3])"
   ]
  },
  {
   "cell_type": "code",
   "execution_count": 9,
   "metadata": {},
   "outputs": [],
   "source": [
    "valid_sevens_stack = torch.stack([tensor(Image.open(o)) for o in (path/'valid/7').ls()]).float() / 255\n",
    "valid_threes_stack = torch.stack([tensor(Image.open(o)) for o in (path/'valid/3').ls()]).float() / 255\n"
   ]
  },
  {
   "cell_type": "code",
   "execution_count": 10,
   "metadata": {},
   "outputs": [
    {
     "data": {
      "text/plain": [
       "(tensor(0.9854), tensor(0.9168))"
      ]
     },
     "execution_count": 10,
     "metadata": {},
     "output_type": "execute_result"
    }
   ],
   "source": [
    "(sum(1 - is_3(o).float() for o in valid_sevens_stack) / len(valid_sevens_stack),\n",
    "sum(is_3(o).float() for o in valid_threes_stack) / len(valid_threes_stack))\n"
   ]
  },
  {
   "cell_type": "code",
   "execution_count": 63,
   "metadata": {},
   "outputs": [
    {
     "data": {
      "image/svg+xml": [
       "<?xml version=\"1.0\" encoding=\"UTF-8\" standalone=\"no\"?>\n",
       "<!DOCTYPE svg PUBLIC \"-//W3C//DTD SVG 1.1//EN\"\n",
       " \"http://www.w3.org/Graphics/SVG/1.1/DTD/svg11.dtd\">\n",
       "<!-- Generated by graphviz version 2.40.1 (20161225.0304)\n",
       " -->\n",
       "<!-- Title: G Pages: 1 -->\n",
       "<svg width=\"773pt\" height=\"78pt\"\n",
       " viewBox=\"0.00 0.00 772.66 78.00\" xmlns=\"http://www.w3.org/2000/svg\" xmlns:xlink=\"http://www.w3.org/1999/xlink\">\n",
       "<g id=\"graph0\" class=\"graph\" transform=\"scale(1 1) rotate(0) translate(4 74)\">\n",
       "<title>G</title>\n",
       "<polygon fill=\"#ffffff\" stroke=\"transparent\" points=\"-4,4 -4,-74 768.6574,-74 768.6574,4 -4,4\"/>\n",
       "<!-- init -->\n",
       "<g id=\"node1\" class=\"node\">\n",
       "<title>init</title>\n",
       "<ellipse fill=\"none\" stroke=\"#000000\" cx=\"27\" cy=\"-18\" rx=\"27\" ry=\"18\"/>\n",
       "<text text-anchor=\"middle\" x=\"27\" y=\"-14.3\" font-family=\"Times,serif\" font-size=\"14.00\" fill=\"#000000\">init</text>\n",
       "</g>\n",
       "<!-- predict -->\n",
       "<g id=\"node2\" class=\"node\">\n",
       "<title>predict</title>\n",
       "<ellipse fill=\"none\" stroke=\"#000000\" cx=\"135.1961\" cy=\"-18\" rx=\"44.393\" ry=\"18\"/>\n",
       "<text text-anchor=\"middle\" x=\"135.1961\" y=\"-14.3\" font-family=\"Times,serif\" font-size=\"14.00\" fill=\"#000000\">predict</text>\n",
       "</g>\n",
       "<!-- init&#45;&gt;predict -->\n",
       "<g id=\"edge1\" class=\"edge\">\n",
       "<title>init&#45;&gt;predict</title>\n",
       "<path fill=\"none\" stroke=\"#000000\" d=\"M54.0233,-18C62.2052,-18 71.5004,-18 80.807,-18\"/>\n",
       "<polygon fill=\"#000000\" stroke=\"#000000\" points=\"80.8581,-21.5001 90.8581,-18 80.8581,-14.5001 80.8581,-21.5001\"/>\n",
       "</g>\n",
       "<!-- (optimized) loss -->\n",
       "<g id=\"node3\" class=\"node\">\n",
       "<title>(optimized) loss</title>\n",
       "<ellipse fill=\"none\" stroke=\"#000000\" cx=\"300.8847\" cy=\"-52\" rx=\"84.485\" ry=\"18\"/>\n",
       "<text text-anchor=\"middle\" x=\"300.8847\" y=\"-48.3\" font-family=\"Times,serif\" font-size=\"14.00\" fill=\"#000000\">(optimized) loss</text>\n",
       "</g>\n",
       "<!-- predict&#45;&gt;(optimized) loss -->\n",
       "<g id=\"edge2\" class=\"edge\">\n",
       "<title>predict&#45;&gt;(optimized) loss</title>\n",
       "<path fill=\"none\" stroke=\"#000000\" d=\"M174.8826,-26.1438C191.3565,-29.5244 210.9894,-33.5531 229.7971,-37.4125\"/>\n",
       "<polygon fill=\"#000000\" stroke=\"#000000\" points=\"229.3351,-40.8906 239.8345,-39.4723 230.7422,-34.0335 229.3351,-40.8906\"/>\n",
       "</g>\n",
       "<!-- gradient -->\n",
       "<g id=\"node4\" class=\"node\">\n",
       "<title>gradient</title>\n",
       "<ellipse fill=\"none\" stroke=\"#000000\" cx=\"518.4227\" cy=\"-52\" rx=\"50.0912\" ry=\"18\"/>\n",
       "<text text-anchor=\"middle\" x=\"518.4227\" y=\"-48.3\" font-family=\"Times,serif\" font-size=\"14.00\" fill=\"#000000\">gradient</text>\n",
       "</g>\n",
       "<!-- (optimized) loss&#45;&gt;gradient -->\n",
       "<g id=\"edge3\" class=\"edge\">\n",
       "<title>(optimized) loss&#45;&gt;gradient</title>\n",
       "<path fill=\"none\" stroke=\"#000000\" d=\"M385.6135,-52C409.8218,-52 435.7026,-52 458.1276,-52\"/>\n",
       "<polygon fill=\"#000000\" stroke=\"#000000\" points=\"458.1694,-55.5001 468.1693,-52 458.1693,-48.5001 458.1694,-55.5001\"/>\n",
       "</g>\n",
       "<!-- step -->\n",
       "<g id=\"node5\" class=\"node\">\n",
       "<title>step</title>\n",
       "<ellipse fill=\"none\" stroke=\"#000000\" cx=\"636.0156\" cy=\"-18\" rx=\"30.5947\" ry=\"18\"/>\n",
       "<text text-anchor=\"middle\" x=\"636.0156\" y=\"-14.3\" font-family=\"Times,serif\" font-size=\"14.00\" fill=\"#000000\">step</text>\n",
       "</g>\n",
       "<!-- gradient&#45;&gt;step -->\n",
       "<g id=\"edge4\" class=\"edge\">\n",
       "<title>gradient&#45;&gt;step</title>\n",
       "<path fill=\"none\" stroke=\"#000000\" d=\"M557.5794,-40.6785C570.8897,-36.8301 585.717,-32.543 598.8657,-28.7413\"/>\n",
       "<polygon fill=\"#000000\" stroke=\"#000000\" points=\"599.906,-32.0839 608.5404,-25.944 597.9617,-25.3593 599.906,-32.0839\"/>\n",
       "</g>\n",
       "<!-- step&#45;&gt;predict -->\n",
       "<g id=\"edge6\" class=\"edge\">\n",
       "<title>step&#45;&gt;predict</title>\n",
       "<path fill=\"none\" stroke=\"#000000\" d=\"M605.3281,-18C522.7405,-18 294.9208,-18 189.731,-18\"/>\n",
       "<polygon fill=\"#000000\" stroke=\"#000000\" points=\"189.6405,-14.5001 179.6405,-18 189.6404,-21.5001 189.6405,-14.5001\"/>\n",
       "<text text-anchor=\"middle\" x=\"426.8772\" y=\"-21.8\" font-family=\"Times,serif\" font-size=\"14.00\" fill=\"#000000\">repeat</text>\n",
       "</g>\n",
       "<!-- stop -->\n",
       "<g id=\"node6\" class=\"node\">\n",
       "<title>stop</title>\n",
       "<ellipse fill=\"none\" stroke=\"#000000\" cx=\"734.1102\" cy=\"-18\" rx=\"30.5947\" ry=\"18\"/>\n",
       "<text text-anchor=\"middle\" x=\"734.1102\" y=\"-14.3\" font-family=\"Times,serif\" font-size=\"14.00\" fill=\"#000000\">stop</text>\n",
       "</g>\n",
       "<!-- step&#45;&gt;stop -->\n",
       "<g id=\"edge5\" class=\"edge\">\n",
       "<title>step&#45;&gt;stop</title>\n",
       "<path fill=\"none\" stroke=\"#000000\" d=\"M666.7842,-18C675.1842,-18 684.4189,-18 693.2847,-18\"/>\n",
       "<polygon fill=\"#000000\" stroke=\"#000000\" points=\"693.4508,-21.5001 703.4507,-18 693.4507,-14.5001 693.4508,-21.5001\"/>\n",
       "</g>\n",
       "</g>\n",
       "</svg>\n"
      ],
      "text/plain": [
       "<graphviz.sources.Source at 0x7fbdccabaf50>"
      ]
     },
     "execution_count": 63,
     "metadata": {},
     "output_type": "execute_result"
    }
   ],
   "source": [
    "gv('''\n",
    "init->predict -> \"(optimized) loss\" ->gradient->step->stop\n",
    "step->predict[label=repeat]\n",
    "''')"
   ]
  },
  {
   "cell_type": "code",
   "execution_count": 12,
   "metadata": {},
   "outputs": [
    {
     "data": {
      "text/plain": [
       "<matplotlib.collections.PathCollection at 0x7fbdccbd4310>"
      ]
     },
     "execution_count": 12,
     "metadata": {},
     "output_type": "execute_result"
    },
    {
     "data": {
      "image/png": "[encoded data removed]",
      "text/plain": [
       "<Figure size 432x288 with 1 Axes>"
      ]
     },
     "metadata": {
      "needs_background": "light"
     },
     "output_type": "display_data"
    }
   ],
   "source": [
    "# Rollercoaster\n",
    "time = torch.arange(20).float()\n",
    "\n",
    "speed = 9*torch.rand(20).float() + (time-9.5)**2 + 1\n",
    "\n",
    "plt.scatter(time, speed)"
   ]
  },
  {
   "cell_type": "code",
   "execution_count": 13,
   "metadata": {},
   "outputs": [],
   "source": [
    "def show_preds(preds, ax=None):\n",
    "    if ax is None: ax=plt.subplots()[1]\n",
    "    ax.scatter(time, speed)\n",
    "    ax.scatter(time, to_np(preds), color='red')\n",
    "    ax.set_ylim(-100,300)"
   ]
  },
  {
   "cell_type": "code",
   "execution_count": 14,
   "metadata": {},
   "outputs": [],
   "source": [
    "\n",
    "def f(x, params):\n",
    "    a, b, c = params\n",
    "    return a * x**2 + b * x + c"
   ]
  },
  {
   "cell_type": "code",
   "execution_count": 15,
   "metadata": {},
   "outputs": [
    {
     "name": "stdout",
     "output_type": "stream",
     "text": [
      "loss tensor(1536.5359, grad_fn=<MeanBackward0>)\n",
      "loss tensor(1335.2625, grad_fn=<MeanBackward0>)\n",
      "loss tensor(1297.1687, grad_fn=<MeanBackward0>)\n",
      "loss tensor(1289.9537, grad_fn=<MeanBackward0>)\n",
      "loss tensor(1288.5818, grad_fn=<MeanBackward0>)\n",
      "loss tensor(1288.3157, grad_fn=<MeanBackward0>)\n",
      "loss tensor(1288.2589, grad_fn=<MeanBackward0>)\n",
      "loss tensor(1288.2415, grad_fn=<MeanBackward0>)\n",
      "loss tensor(1288.2317, grad_fn=<MeanBackward0>)\n",
      "loss tensor(1288.2234, grad_fn=<MeanBackward0>)\n",
      "loss tensor(1288.2155, grad_fn=<MeanBackward0>)\n",
      "loss tensor(1288.2074, grad_fn=<MeanBackward0>)\n",
      "loss tensor(1288.1992, grad_fn=<MeanBackward0>)\n",
      "loss tensor(1288.1912, grad_fn=<MeanBackward0>)\n",
      "loss tensor(1288.1833, grad_fn=<MeanBackward0>)\n",
      "loss tensor(1288.1750, grad_fn=<MeanBackward0>)\n",
      "loss tensor(1288.1672, grad_fn=<MeanBackward0>)\n",
      "loss tensor(1288.1592, grad_fn=<MeanBackward0>)\n",
      "loss tensor(1288.1511, grad_fn=<MeanBackward0>)\n",
      "loss tensor(1288.1431, grad_fn=<MeanBackward0>)\n",
      "loss tensor(1288.1350, grad_fn=<MeanBackward0>)\n",
      "loss tensor(1288.1271, grad_fn=<MeanBackward0>)\n",
      "loss tensor(1288.1189, grad_fn=<MeanBackward0>)\n",
      "loss tensor(1288.1111, grad_fn=<MeanBackward0>)\n",
      "loss tensor(1288.1028, grad_fn=<MeanBackward0>)\n",
      "loss tensor(1288.0948, grad_fn=<MeanBackward0>)\n",
      "loss tensor(1288.0869, grad_fn=<MeanBackward0>)\n",
      "loss tensor(1288.0790, grad_fn=<MeanBackward0>)\n",
      "loss tensor(1288.0708, grad_fn=<MeanBackward0>)\n",
      "loss tensor(1288.0627, grad_fn=<MeanBackward0>)\n",
      "loss tensor(1288.0547, grad_fn=<MeanBackward0>)\n",
      "loss tensor(1288.0468, grad_fn=<MeanBackward0>)\n",
      "loss tensor(1288.0388, grad_fn=<MeanBackward0>)\n",
      "loss tensor(1288.0308, grad_fn=<MeanBackward0>)\n",
      "loss tensor(1288.0227, grad_fn=<MeanBackward0>)\n",
      "loss tensor(1288.0149, grad_fn=<MeanBackward0>)\n",
      "loss tensor(1288.0066, grad_fn=<MeanBackward0>)\n",
      "loss tensor(1287.9985, grad_fn=<MeanBackward0>)\n",
      "loss tensor(1287.9905, grad_fn=<MeanBackward0>)\n",
      "loss tensor(1287.9827, grad_fn=<MeanBackward0>)\n"
     ]
    },
    {
     "data": {
      "image/png": "[encoded data removed]",
      "text/plain": [
       "<Figure size 432x288 with 1 Axes>"
      ]
     },
     "metadata": {
      "needs_background": "light"
     },
     "output_type": "display_data"
    },
    {
     "data": {
      "image/png": "[encoded data removed]",
      "text/plain": [
       "<Figure size 432x288 with 1 Axes>"
      ]
     },
     "metadata": {
      "needs_background": "light"
     },
     "output_type": "display_data"
    }
   ],
   "source": [
    "\n",
    "weights = torch.rand(3).float().requires_grad_()\n",
    "\n",
    "\n",
    "def mse(preds, targets):\n",
    "    return ((targets - preds)**2).mean()\n",
    "\n",
    "lr = 1e-5\n",
    "def epoch(weights):\n",
    "    #print('weights', weights)\n",
    "    preds = f(time, weights)\n",
    "    loss = mse(preds, speed)\n",
    "    print('loss', loss)\n",
    "    loss.backward()\n",
    "    weights.data -= weights.grad.data * lr\n",
    "    weights.grad = None\n",
    "    return weights\n",
    "\n",
    "preds = f(time, weights)\n",
    "show_preds(preds)\n",
    "for _ in range(40):\n",
    "    weights = epoch(weights)\n",
    "preds = f(time, weights)\n",
    "show_preds(preds)"
   ]
  },
  {
   "cell_type": "code",
   "execution_count": 16,
   "metadata": {},
   "outputs": [
    {
     "data": {
      "text/plain": [
       "(torch.Size([5, 6, 7]), 3, torch.Size([5, 6, 7]), 5)"
      ]
     },
     "execution_count": 16,
     "metadata": {},
     "output_type": "execute_result"
    }
   ],
   "source": [
    "t = torch.empty(5, 6, 7)\n",
    "t.size(), t.ndim, t.shape, len(t)"
   ]
  },
  {
   "cell_type": "code",
   "execution_count": 17,
   "metadata": {},
   "outputs": [
    {
     "data": {
      "text/plain": [
       "tensor([[10, 12],\n",
       "        [16, 18]])"
      ]
     },
     "execution_count": 17,
     "metadata": {},
     "output_type": "execute_result"
    }
   ],
   "source": [
    "\n",
    "#1. Create a 3×3 tensor or array containing the numbers from 1 to 9. Double it. Select the bottom-right four numbers.\n",
    "\n",
    "(torch.tensor([[i*3+j+1 for j in range(3)] for i in range(3)]) * 2)[-2:,-2:]"
   ]
  },
  {
   "cell_type": "markdown",
   "metadata": {},
   "source": [
    "## MNIST loss func"
   ]
  },
  {
   "cell_type": "code",
   "execution_count": 132,
   "metadata": {},
   "outputs": [
    {
     "data": {
      "text/plain": [
       "(torch.Size([12396, 784]), torch.Size([12396, 1]), torch.Size([784]))"
      ]
     },
     "execution_count": 132,
     "metadata": {},
     "output_type": "execute_result"
    }
   ],
   "source": [
    "train_x = torch.cat([threes_stack, sevens_stack]).view(-1, 28*28)\n",
    "train_y = tensor([0] * len(threes_stack) + [1] * len(sevens_stack)).unsqueeze(1)\n",
    "dset = list(zip(train_x, train_y))\n",
    "train_x.shape, train_y.shape, train_x[0].shape"
   ]
  },
  {
   "cell_type": "code",
   "execution_count": 133,
   "metadata": {},
   "outputs": [
    {
     "data": {
      "text/plain": [
       "(torch.Size([2038, 784]), torch.Size([2038, 1]))"
      ]
     },
     "execution_count": 133,
     "metadata": {},
     "output_type": "execute_result"
    }
   ],
   "source": [
    "valid_x = torch.cat([valid_threes_stack, valid_sevens_stack]).view(-1, 28*28)\n",
    "valid_y = tensor([0] * len(valid_threes_stack) + [1] * len(valid_sevens_stack)).unsqueeze(1)\n",
    "vdset = list(zip(valid_x, valid_y))\n",
    "valid_x.shape, valid_y.shape\n"
   ]
  },
  {
   "cell_type": "code",
   "execution_count": 134,
   "metadata": {},
   "outputs": [],
   "source": [
    "def init_params(size, std=1.0): return (torch.randn(size) * std).requires_grad_()"
   ]
  },
  {
   "cell_type": "code",
   "execution_count": 135,
   "metadata": {},
   "outputs": [
    {
     "data": {
      "text/plain": [
       "(tensor([-0.1604], requires_grad=True), torch.Size([1, 784]))"
      ]
     },
     "execution_count": 135,
     "metadata": {},
     "output_type": "execute_result"
    }
   ],
   "source": [
    "weights = init_params((28*28, 1))\n",
    "bias = init_params(1)\n",
    "bias, weights.T.shape"
   ]
  },
  {
   "cell_type": "code",
   "execution_count": 136,
   "metadata": {},
   "outputs": [],
   "source": [
    "def linear1(xb): return xb@weights + bias"
   ]
  },
  {
   "cell_type": "code",
   "execution_count": 137,
   "metadata": {},
   "outputs": [
    {
     "data": {
      "text/plain": [
       "(tensor([[ True],\n",
       "         [ True],\n",
       "         [ True],\n",
       "         ...,\n",
       "         [False],\n",
       "         [ True],\n",
       "         [ True]]),\n",
       " 0.7829945087432861)"
      ]
     },
     "execution_count": 137,
     "metadata": {},
     "output_type": "execute_result"
    }
   ],
   "source": [
    "preds = linear1(train_x)\n",
    "accuracy = (preds > 0.0).float() == train_y\n",
    "accuracy, accuracy.float().mean().item()"
   ]
  },
  {
   "cell_type": "code",
   "execution_count": 138,
   "metadata": {},
   "outputs": [],
   "source": [
    "def mnist_loss(predictions, targets):\n",
    "    predictions = predictions.sigmoid()\n",
    "    return torch.where(targets == 1, 1 - predictions, predictions).mean()\n"
   ]
  },
  {
   "cell_type": "code",
   "execution_count": 139,
   "metadata": {},
   "outputs": [],
   "source": [
    "loss = mnist_loss(preds, train_y)\n",
    "loss"
   ]
  },
  {
   "cell_type": "code",
   "execution_count": 141,
   "metadata": {},
   "outputs": [
    {
     "data": {
      "text/plain": [
       "torch.Size([784, 1])"
      ]
     },
     "execution_count": 141,
     "metadata": {},
     "output_type": "execute_result"
    }
   ],
   "source": [
    "#loss.backward()\n",
    "weights.grad.shape"
   ]
  },
  {
   "cell_type": "code",
   "execution_count": 144,
   "metadata": {},
   "outputs": [
    {
     "data": {
      "text/plain": [
       "(tensor(0.2242, grad_fn=<MeanBackward0>),\n",
       " tensor(0.2242, grad_fn=<MeanBackward0>))"
      ]
     },
     "execution_count": 144,
     "metadata": {},
     "output_type": "execute_result"
    }
   ],
   "source": [
    "weights.data[10] *= 1.1\n",
    "preds = linear1(train_x)\n",
    "loss, mnist_loss(preds, train_y)"
   ]
  }
 ],
 "metadata": {
  "accelerator": "GPU",
  "colab": {
   "authorship_tag": "ABX9TyMXRNm6Bzse7SAqUInecLMx",
   "machine_shape": "hm",
   "name": "04_mnist_basics_reproducing.ipynb",
   "provenance": []
  },
  "kernelspec": {
   "display_name": "Python 3 (ipykernel)",
   "language": "python",
   "name": "python3"
  },
  "language_info": {
   "codemirror_mode": {
    "name": "ipython",
    "version": 3
   },
   "file_extension": ".py",
   "mimetype": "text/x-python",
   "name": "python",
   "nbconvert_exporter": "python",
   "pygments_lexer": "ipython3",
   "version": "3.7.11"
  }
 },
 "nbformat": 4,
 "nbformat_minor": 4
}
